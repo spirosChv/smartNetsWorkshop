{
  "nbformat": 4,
  "nbformat_minor": 0,
  "metadata": {
    "colab": {
      "name": "practical3_part5.ipynb",
      "provenance": [],
      "collapsed_sections": [],
      "toc_visible": true,
      "include_colab_link": true
    },
    "kernelspec": {
      "name": "python3",
      "display_name": "Python 3"
    },
    "language_info": {
      "name": "python"
    }
  },
  "cells": [
    {
      "cell_type": "markdown",
      "metadata": {
        "id": "view-in-github",
        "colab_type": "text"
      },
      "source": [
        "<a href=\"https://colab.research.google.com/github/spirosChv/smartNetsWorkshop/blob/main/neuron/practical3_part5.ipynb\" target=\"_parent\"><img src=\"https://colab.research.google.com/assets/colab-badge.svg\" alt=\"Open In Colab\"/></a>"
      ]
    },
    {
      "cell_type": "markdown",
      "source": [
        "# Simulating dendrites - Part 5"
      ],
      "metadata": {
        "id": "CFFz4a7p0BOz"
      }
    },
    {
      "cell_type": "markdown",
      "source": [
        "First, we install neuron with python. For more info see [here](https://www.neuron.yale.edu/neuron/download)."
      ],
      "metadata": {
        "id": "4y_RNml7uHie"
      }
    },
    {
      "cell_type": "code",
      "source": [
        "!pip install neuron --quiet"
      ],
      "metadata": {
        "id": "B0VtDTHqz0Ge",
        "colab": {
          "base_uri": "https://localhost:8080/"
        },
        "outputId": "7f4aef00-1f95-409e-b8ff-e6b313d67258"
      },
      "execution_count": null,
      "outputs": [
        {
          "output_type": "stream",
          "name": "stdout",
          "text": [
            "\u001b[K     |████████████████████████████████| 15.0 MB 5.5 MB/s \n",
            "\u001b[?25h"
          ]
        }
      ]
    },
    {
      "cell_type": "markdown",
      "source": [
        "We import some basic python packages and the NEURON package."
      ],
      "metadata": {
        "id": "YPbGWFN0uROI"
      }
    },
    {
      "cell_type": "markdown",
      "source": [
        "## Compile ion channel models (.mod files)"
      ],
      "metadata": {
        "id": "KrjMzJAt83GM"
      }
    },
    {
      "cell_type": "code",
      "source": [
        "# @title Create the mod file `SlowCa.mod`\n",
        "# @markdown Execute this cell.\n",
        "with open(\"SlowCa.mod\", \"w\") as file:\n",
        "  file.write(\"\"\"\n",
        "    TITLE HVA Ca2+ current\n",
        "\n",
        "    COMMENT\n",
        "    Uses fixed eca instead of GHK eqn\n",
        "    Based on Reuveni, Friedman, Amitai and Gutnick (1993) J. Neurosci. 13: 4609-4621.\n",
        "    Changed from (AS Oct0899) ca.mod\n",
        "    \n",
        "    Author: Zach Mainen, Salk Institute, 1994, zach@salk.edu\n",
        "    ENDCOMMENT\n",
        "\n",
        "    INDEPENDENT {t FROM 0 TO 1 WITH 1 (ms)}\n",
        "\n",
        "    NEURON {\n",
        "        SUFFIX sca\n",
        "        USEION ca READ eca WRITE ica\n",
        "        RANGE m, h, gca, gbar\n",
        "        RANGE minf, hinf, mtau, htau, inactF, actF\n",
        "        GLOBAL q10, temp, tadj, vmin, vmax, vshift\n",
        "    }\n",
        "\n",
        "    UNITS {\n",
        "        (mA) = (milliamp)\n",
        "        (mV) = (millivolt)\n",
        "        (pS) = (picosiemens)\n",
        "        (um) = (micron)\n",
        "        FARADAY = (faraday) (coulomb)\n",
        "        R = (k-mole) (joule/degC)\n",
        "        PI = (pi) (1)\n",
        "    }\n",
        "\n",
        "    PARAMETER {\n",
        "        inactF = 3\n",
        "        actF = 1\n",
        "        gbar = 0.1 (pS/um2) : 0.12 mho/cm2\n",
        "        vshift = 0 (mV) : voltage shift (affects all)\n",
        "\n",
        "        cao = 2.5 (mM) : external ca concentration\n",
        "        cai (mM)\n",
        "\n",
        "        temp = 23 (degC) : original temp \n",
        "        q10 = 2.3 : temperature sensitivity\n",
        "\n",
        "        v (mV)\n",
        "        dt (ms)\n",
        "        celsius (degC)\n",
        "        vmin = -120\t(mV)\n",
        "        vmax = 100 (mV)\n",
        "    }\n",
        "\n",
        "    ASSIGNED {\n",
        "        ica (mA/cm2)\n",
        "        gca (pS/um2)\n",
        "        eca (mV)\n",
        "        minf\n",
        "        hinf\n",
        "        mtau (ms)\n",
        "        htau (ms)\n",
        "        tadj\n",
        "    }\n",
        "\n",
        "    STATE { m h }\n",
        "\n",
        "    INITIAL { \n",
        "        trates(v+vshift)\n",
        "        m = minf\n",
        "        h = hinf\n",
        "    }\n",
        "\n",
        "    BREAKPOINT {\n",
        "        SOLVE states\n",
        "        gca = tadj*gbar*m*m*h\n",
        "        ica = (1e-4) * gca * (v - eca)\n",
        "    } \n",
        "\n",
        "    LOCAL mexp, hexp\n",
        "\n",
        "    PROCEDURE states() {\n",
        "        trates(v+vshift)\n",
        "        m = m + mexp*(minf-m)\n",
        "        h = h + hexp*(hinf-h)\n",
        "        VERBATIM\n",
        "        return 0;\n",
        "        ENDVERBATIM\n",
        "    }\n",
        "\n",
        "    PROCEDURE trates(v) {\n",
        "        LOCAL tinc\n",
        "        TABLE minf, mexp, hinf, hexp\n",
        "        DEPEND dt, celsius, temp, inactF\n",
        "\n",
        "        FROM vmin TO vmax WITH 199\n",
        "\n",
        "        rates(v): not consistently executed from here if usetable == 1\n",
        "\n",
        "        tadj = q10^((celsius - temp)/10)\n",
        "        tinc = -dt * tadj\n",
        "\n",
        "        mexp = 1 - exp(tinc/mtau)\n",
        "        hexp = 1 - exp(tinc/htau)\n",
        "    }\n",
        "\n",
        "    PROCEDURE rates(vm) {  \n",
        "        LOCAL a, b\n",
        "        :-27\n",
        "        :-75\n",
        "        a = 0.055*(-35 - vm)/(exp((-35-vm)/1) - 1)/actF  :3.8\n",
        "        b = 0.94*exp((-75-vm)/17)/actF\n",
        "\n",
        "        mtau = 1/(a+b)\n",
        "        minf = a*mtau\n",
        "\n",
        "        :\"h\" inactivation \n",
        "\n",
        "        a = 0.000457*exp((-13-vm)/50)/inactF\n",
        "        b = 0.0065/(exp((-vm-15)/28) + 1)/inactF\n",
        "\n",
        "        htau = 1/(a+b) : originally *1\n",
        "        hinf = a*htau\n",
        "    }\n",
        "\n",
        "    FUNCTION efun(z) {\n",
        "        if (fabs(z) < 1e-4) {\n",
        "        efun = 1 - z/2\n",
        "        }else{\n",
        "        efun = z/(exp(z) - 1)\n",
        "        }\n",
        "    }\n",
        "  \"\"\")"
      ],
      "metadata": {
        "id": "iGD02eri9D5c",
        "cellView": "form"
      },
      "execution_count": null,
      "outputs": []
    },
    {
      "cell_type": "code",
      "source": [
        "# @title Create the mod file `cad.mod`\n",
        "# @markdown Execute this cell.\n",
        "with open(\"cad.mod\", \"w\") as file:\n",
        "  file.write(\"\"\"\n",
        "\n",
        "    TITLE decay of internal calcium concentration\n",
        "    \n",
        "    COMMENT\n",
        "    : Internal calcium concentration due to calcium currents and pump.\n",
        "    : Differential equations.\n",
        "    :\n",
        "    : Simple model of ATPase pump with 3 kinetic constants (Destexhe 92)\n",
        "    :     Cai + P <-> CaP -> Cao + P  (k1,k2,k3)\n",
        "    : A Michaelis-Menten approximation is assumed, which reduces the complexity\n",
        "    : of the system to 2 parameters: \n",
        "    :       kt = <tot enzyme concentration> * k3  -> TIME CONSTANT OF THE PUMP\n",
        "    :\tkd = k2/k1 (dissociation constant)    -> EQUILIBRIUM CALCIUM VALUE\n",
        "    : The values of these parameters are chosen assuming a high affinity of \n",
        "    : the pump to calcium and a low transport capacity (cfr. Blaustein, \n",
        "    : TINS, 11: 438, 1988, and references therein).  \n",
        "    :\n",
        "    : Units checked using \"modlunit\" -> factor 10000 needed in ca entry\n",
        "    :\n",
        "    : VERSION OF PUMP + DECAY (decay can be viewed as simplified buffering)\n",
        "    :\n",
        "    : All variables are range variables\n",
        "    :\n",
        "    : adopted from the lower model by AS 102199\n",
        "    :\n",
        "    : This mechanism was published in:  Destexhe, A. Babloyantz, A. and \n",
        "    : Sejnowski, TJ.  Ionic mechanisms for intrinsic slow oscillations in\n",
        "    : thalamic relay neurons. Biophys. J. 65: 1538-1552, 1993)\n",
        "    :\n",
        "    : Written by Alain Destexhe, Salk Institute, Nov 12, 1992\n",
        "    :\n",
        "    ENDCOMMENT\n",
        "\n",
        "    INDEPENDENT {t FROM 0 TO 1 WITH 1 (ms)}\n",
        "\n",
        "    NEURON {\n",
        "        SUFFIX cad\n",
        "        USEION ca READ ica, cai WRITE cai\n",
        "        RANGE ca\n",
        "        GLOBAL depth,cainf,taur\n",
        "    }\n",
        "\n",
        "    UNITS {\n",
        "        (molar) = (1/liter)  : moles do not appear in units\n",
        "        (mM) = (millimolar)\n",
        "        (um) = (micron)\n",
        "        (mA) = (milliamp)\n",
        "        (msM)\t= (ms mM)\n",
        "        FARADAY = (faraday) (coulomb)\n",
        "    }\n",
        "\n",
        "    PARAMETER {\n",
        "        depth\t= .1\t(um) : depth of shell\n",
        "        taur = 100\t(ms) : rate of calcium removal, changed from 200 to 80 (H.Markram)\n",
        "        cainf\t= 100e-6 (mM)\n",
        "        cai (mM)\n",
        "    }\n",
        "\n",
        "    STATE {\n",
        "        ca (mM) \n",
        "    }\n",
        "\n",
        "    INITIAL {\n",
        "        ca = cainf\n",
        "    }\n",
        "\n",
        "    ASSIGNED {\n",
        "      ica  (mA/cm2)\n",
        "      drive_channel\t(mM/ms)\n",
        "    }\n",
        "\n",
        "    BREAKPOINT {\n",
        "        SOLVE state METHOD euler\n",
        "    }\n",
        "\n",
        "    DERIVATIVE state { \n",
        "        drive_channel =  - (10000) * ica / (2 * FARADAY * depth)\n",
        "        if (drive_channel <= 0.) { drive_channel = 0. }\t: cannot pump inward\n",
        "\n",
        "        ca' = drive_channel + (cainf-ca)/taur\n",
        "        cai = ca\n",
        "    }\n",
        "  \"\"\")"
      ],
      "metadata": {
        "id": "tJ_reGGI85zv",
        "cellView": "form"
      },
      "execution_count": null,
      "outputs": []
    },
    {
      "cell_type": "code",
      "source": [
        "# @title Remove old executables and compile with `nrnivmodl`\n",
        "!rm -rf x86_64/\n",
        "!nrnivmodl"
      ],
      "metadata": {
        "id": "_qZn0-7T9bwY",
        "outputId": "55220013-ba4b-4141-d14c-7c53dd1d956e",
        "colab": {
          "base_uri": "https://localhost:8080/"
        },
        "cellView": "form"
      },
      "execution_count": null,
      "outputs": [
        {
          "output_type": "stream",
          "name": "stdout",
          "text": [
            "/content\n",
            "Mod files: \"./cad.mod\" \"./SlowCa.mod\"\n",
            "\n",
            "Creating x86_64 directory for .o files.\n",
            "\n",
            "COBJS=''\n",
            " -> \u001b[32mCompiling\u001b[0m mod_func.cpp\n",
            " -> \u001b[32mNMODL\u001b[0m ../SlowCa.mod\n",
            " -> \u001b[32mNMODL\u001b[0m ../cad.mod\n",
            "Translating SlowCa.mod into /content/x86_64/SlowCa.c\n",
            "Notice: VERBATIM blocks are not thread safe\n",
            "Notice: This mechanism cannot be used with CVODE\n",
            "Notice: Assignment to the GLOBAL variable, \"tadj\", is not thread safe\n",
            "Translating cad.mod into /content/x86_64/cad.c\n",
            "Thread Safe\n",
            " -> \u001b[32mCompiling\u001b[0m SlowCa.c\n",
            " -> \u001b[32mCompiling\u001b[0m cad.c\n",
            " => \u001b[32mLINKING\u001b[0m shared library ./libnrnmech.so\n",
            " => \u001b[32mLINKING\u001b[0m executable ./special LDFLAGS are:    -pthread\n",
            "Successfully created x86_64/special\n"
          ]
        }
      ]
    },
    {
      "cell_type": "code",
      "execution_count": null,
      "metadata": {
        "id": "usthWgIfzjmM",
        "outputId": "9dd2e2cb-8cba-4113-970c-c8f4d14fc941",
        "colab": {
          "base_uri": "https://localhost:8080/"
        }
      },
      "outputs": [
        {
          "output_type": "execute_result",
          "data": {
            "text/plain": [
              "1.0"
            ]
          },
          "metadata": {},
          "execution_count": 5
        }
      ],
      "source": [
        "import numpy as np\n",
        "import matplotlib.pyplot as plt\n",
        "from neuron import h\n",
        "h.load_file(\"stdrun.hoc\")"
      ]
    },
    {
      "cell_type": "code",
      "source": [
        "# @title Make nicer plots -- Execute this cell\n",
        "def mystyle():\n",
        "  \"\"\"\n",
        "  Create custom plotting style.\n",
        "\n",
        "  Returns\n",
        "  -------\n",
        "  my_style : dict\n",
        "      Dictionary with matplotlib parameters.\n",
        "\n",
        "  \"\"\"\n",
        "  # color pallette\n",
        "  style = {\n",
        "      # Use LaTeX to write all text\n",
        "      \"text.usetex\": False,\n",
        "      \"font.family\": \"DejaVu Sans\",\n",
        "      \"font.weight\": \"bold\",\n",
        "      # Use 16pt font in plots, to match 16pt font in document\n",
        "      \"axes.labelsize\": 16,\n",
        "      \"axes.titlesize\": 20,\n",
        "      \"font.size\": 16,\n",
        "      # Make the legend/label fonts a little smaller\n",
        "      \"legend.fontsize\": 14,\n",
        "      \"xtick.labelsize\": 14,\n",
        "      \"ytick.labelsize\": 14,\n",
        "      \"axes.linewidth\": 2.5,\n",
        "      \"lines.markersize\": 10.0,\n",
        "      \"lines.linewidth\": 2.5,\n",
        "      \"xtick.major.width\": 2.2,\n",
        "      \"ytick.major.width\": 2.2,\n",
        "      \"axes.labelweight\": \"bold\",\n",
        "      \"axes.spines.right\": False,\n",
        "      \"axes.spines.top\": False\n",
        "  }\n",
        "\n",
        "  return style\n",
        "\n",
        "\n",
        "plt.style.use(\"seaborn-colorblind\")\n",
        "plt.rcParams.update(mystyle())"
      ],
      "metadata": {
        "id": "bqXB1xt_8Vuh",
        "cellView": "form"
      },
      "execution_count": null,
      "outputs": []
    },
    {
      "cell_type": "markdown",
      "source": [
        "Define the simulation parameters"
      ],
      "metadata": {
        "id": "fI4fEn3tkb62"
      }
    },
    {
      "cell_type": "code",
      "source": [
        "# Simulation parameters\t\n",
        "tstop = 600  # simulation time (ms)\n",
        "h.dt = 0.1  # integration step (ms)\n",
        "vinit = -65  # initial voltage (mV)"
      ],
      "metadata": {
        "id": "5qhiFv-M0MLN"
      },
      "execution_count": null,
      "outputs": []
    },
    {
      "cell_type": "markdown",
      "source": [
        "### Create the morphology"
      ],
      "metadata": {
        "id": "8yPtsBbmz7lA"
      }
    },
    {
      "cell_type": "markdown",
      "source": [
        "First, we create the soma."
      ],
      "metadata": {
        "id": "8rp3XFr3uv1P"
      }
    },
    {
      "cell_type": "code",
      "source": [
        "soma = h.Section(name='soma')\n",
        "\n",
        "# Define properties of soma\n",
        "soma.diam = 20  # um\n",
        "soma.L = 20  # um\n",
        "soma.Ra = 100  # Axial resistance in Ohm * cm\n",
        "soma.cm = 1  # specific membrane capacitance, capacitance per unit of membrane, uF/cm^2   \n",
        "soma.nseg = 1  # number of segments (actual compartments)\t\n",
        "\n",
        "# Insert the hh channels (inluding leak)\n",
        "soma.insert('hh')\n",
        "for seg in soma: \n",
        "  seg.hh.gnabar = 0.12  # Sodium conductance in S/cm2 0.12\n",
        "  seg.hh.gkbar = 0.025  # Potassium conductance in S/cm2 0.36\n",
        "  seg.hh.gl = 1/4000  # Leak conductance in S/cm2\n",
        "  seg.hh.el = -65  # Reversal potential in mV"
      ],
      "metadata": {
        "id": "OHan2Eu60Z_L"
      },
      "execution_count": null,
      "outputs": []
    },
    {
      "cell_type": "markdown",
      "source": [
        "Then, we create the dendritic tree."
      ],
      "metadata": {
        "id": "k7Gl5uipu14o"
      }
    },
    {
      "cell_type": "code",
      "source": [
        "section_length=120\n",
        "leak_conductance=1/4000\n",
        "\n",
        "trunk0 = h.Section(name='trunk0')\n",
        "trunk1 = h.Section(name='trunk1')\n",
        "trunk2 = h.Section(name='trunk2')\n",
        "trunk3 = h.Section(name='trunk3')\n",
        "trunk4 = h.Section(name='trunk4')\n",
        "tuft0 = h.Section(name='tuft0')\n",
        "tuft1 = h.Section(name='tuft1')\n",
        "\n",
        "################################################################################\n",
        "# Define properties of trunk0\n",
        "trunk0.diam = 3\n",
        "trunk0.L = section_length\n",
        "trunk0.nseg = 11\n",
        "trunk0.cm = 1\n",
        "trunk0.Ra = 100\n",
        "\n",
        "# Insert passive (leak) channels\n",
        "trunk0.insert('pas')      \n",
        "for seg in trunk0:\n",
        "  seg.pas.e = -65  # leak reversal potential in mV\n",
        "  seg.pas.g = leak_conductance  # leak maximal conductance in S/cm2\n",
        "################################################################################\n",
        "\n",
        "################################################################################\n",
        "# Define properties of trunk1\n",
        "trunk1.diam = 2.5\n",
        "trunk1.L = section_length\n",
        "trunk1.nseg = 11\n",
        "trunk1.cm = 1\n",
        "trunk1.Ra = 100\n",
        "\n",
        "# Insert passive (leak) channels\n",
        "trunk1.insert('pas')     \n",
        "for seg in trunk1:\n",
        "  seg.pas.e = -65  # leak reversal potential in mV\n",
        "  seg.pas.g = leak_conductance  # leak maximal conductance in S/cm2\n",
        "################################################################################\n",
        "\n",
        "################################################################################\n",
        "# Define properties of trunk2\n",
        "trunk2.diam = 2\n",
        "trunk2.L = section_length\n",
        "trunk2.nseg = 11\n",
        "trunk2.cm = 1\n",
        "trunk2.Ra = 100\n",
        "\n",
        "# Insert passive (leak) channels\n",
        "trunk2.insert('pas')     \n",
        "for seg in trunk2:\n",
        "  seg.pas.e = -65  # leak reversal potential in mV\n",
        "  seg.pas.g = leak_conductance  # leak maximal conductance in S/cm2\n",
        "################################################################################\n",
        "\n",
        "################################################################################\n",
        "# Define properties of trunk3\n",
        "trunk3.diam = 1.5\n",
        "trunk3.L = section_length\n",
        "trunk3.nseg = 11\n",
        "trunk3.cm = 1\n",
        "trunk3.Ra = 100\n",
        "\n",
        "# Insert passive (leak) channels\n",
        "trunk3.insert('pas')     \n",
        "for seg in trunk3:\n",
        "  seg.pas.e = -65  # leak reversal potential in mV\n",
        "  seg.pas.g = leak_conductance  # leak maximal conductance in S/cm2\n",
        "################################################################################\n",
        "\n",
        "################################################################################\n",
        "# Define properties of trunk4\n",
        "trunk4.diam = 1.2\n",
        "trunk4.L = 20\n",
        "trunk4.nseg = 11\n",
        "trunk4.cm = 1\n",
        "trunk4.Ra = 100\n",
        "\n",
        "# Insert passive (leak) channels\n",
        "trunk4.insert('pas')     \n",
        "for seg in trunk4:\n",
        "  seg.pas.e = -65  # leak reversal potential in mV\n",
        "  seg.pas.g = leak_conductance  # leak maximal conductance in S/cm2\n",
        "################################################################################\n",
        "\n",
        "################################################################################\n",
        "# Define properties of tuft0\n",
        "tuft0.diam = 1.0\n",
        "tuft0.L = 50\n",
        "tuft0.nseg = 11\n",
        "tuft0.cm = 1\n",
        "tuft0.Ra = 100\n",
        "\n",
        "# Insert passive (leak) channels\n",
        "tuft0.insert('pas')     \n",
        "for seg in tuft0:\n",
        "  seg.pas.e = -65  # leak reversal potential in mV\n",
        "  seg.pas.g = leak_conductance  # leak maximal conductance in S/cm2\n",
        "################################################################################\n",
        "\n",
        "################################################################################\n",
        "# Define properties of tuft1\n",
        "tuft1.diam = 1.0\n",
        "tuft1.L = 100\n",
        "tuft1.nseg = 11\n",
        "tuft1.cm = 1\n",
        "tuft1.Ra = 100\n",
        "\n",
        "# Insert passive (leak) channels\n",
        "tuft1.insert('pas')     \n",
        "for seg in tuft1:\n",
        "  seg.pas.e = -65  # leak reversal potential in mV\n",
        "  seg.pas.g = leak_conductance  # leak maximal conductance in S/cm2\n",
        "################################################################################"
      ],
      "metadata": {
        "id": "M6o_hWODu0wK"
      },
      "execution_count": null,
      "outputs": []
    },
    {
      "cell_type": "code",
      "source": [
        "# Insert Calcium channels\n",
        "trunk4.insert('cad')\n",
        "trunk4.insert('sca')\n",
        "\n",
        "for seg in trunk4:\n",
        "  seg.sca.gbar =5000 #4.5  # leak maximal conductance in S/cm2"
      ],
      "metadata": {
        "id": "7X_d-QmbAgYN"
      },
      "execution_count": null,
      "outputs": []
    },
    {
      "cell_type": "markdown",
      "source": [
        "Now, let's connect all compartments."
      ],
      "metadata": {
        "id": "uhR8RqmG6OjV"
      }
    },
    {
      "cell_type": "code",
      "source": [
        "trunk0.connect(soma(0.5), 0)  # trunkl0 to `middle` of the soma, `soma(0.5)`\n",
        "trunk1.connect(trunk0(1), 0)  # first point of trunk1 to last of trunk0\n",
        "trunk2.connect(trunk1(1), 0)  # first point of trunk2 to last of trunk1\n",
        "trunk3.connect(trunk2(1), 0)  # first point of trunk3 to last of trunk2\n",
        "trunk4.connect(trunk3(1), 0)  # first point of trunk4 to last of trunk3\n",
        "\n",
        "# tuft0 and tuft1 are child branches, they have a common parent trunk4\n",
        "tuft0.connect(trunk4(1), 0)  # first point of tuft0 to last of trunk4\n",
        "tuft1.connect(trunk4(1), 0)  # first point of tuft1 to last of trunk4"
      ],
      "metadata": {
        "id": "6rVfyWRD6RpY",
        "outputId": "07c9fd7d-ce10-4d8e-d931-3ed142907b60",
        "colab": {
          "base_uri": "https://localhost:8080/"
        }
      },
      "execution_count": null,
      "outputs": [
        {
          "output_type": "execute_result",
          "data": {
            "text/plain": [
              "tuft1"
            ]
          },
          "metadata": {},
          "execution_count": 11
        }
      ]
    },
    {
      "cell_type": "markdown",
      "source": [
        "### Synaptic Stimulation"
      ],
      "metadata": {
        "id": "uDAtfSb41jbA"
      }
    },
    {
      "cell_type": "code",
      "source": [
        "# Create a current Clamp procedure called \"IatSoma\" starting at 1005.1 ms and with duration=5ms. Amplitude is an argument.     \n",
        "ic = h.IClamp(soma(0.5))\n",
        "ic.delay = 200  # ms\n",
        "ic.dur = 5  # ms\n",
        "ic.amp = 0#0.4  # nA"
      ],
      "metadata": {
        "id": "nT38t8Ko1i_P"
      },
      "execution_count": null,
      "outputs": []
    },
    {
      "cell_type": "code",
      "source": [
        "# Include an EPSP\n",
        "syn = h.Exp2Syn(tuft0(0.5))\n",
        "syn.tau1 = 0.1\n",
        "syn.tau2 = 20\n",
        "syn.e = 1\n",
        "#========== ...create an artificial spike (an \"event\" to be delivered to the synapse)...\n",
        "ns = h.NetStim(0.5)\n",
        "ns.start = 200\n",
        "ns.number = 1\n",
        "#... and connect the event to the synapse.\n",
        "nc = h.NetCon(ns, syn)\n",
        "nc.delay = 0\n",
        "nc.weight[0] = 0.005"
      ],
      "metadata": {
        "id": "gPeJBFiv_Q7q"
      },
      "execution_count": null,
      "outputs": []
    },
    {
      "cell_type": "code",
      "source": [
        "vsoma_vec = h.Vector().record(soma(0.5)._ref_v)  # Membrane potential vector\n",
        "vtrunk4_vec = h.Vector().record(trunk4(0.5)._ref_v)  # Membrane potential vector\n",
        "t_vec = h.Vector().record(h._ref_t)  # Time stamp vector\n",
        "# Run the simulation\n",
        "h.finitialize(vinit)\n",
        "h.continuerun(tstop)\n",
        "# Remove the first 20ms to avoid artifacts\n",
        "tremove = 20\n",
        "vsoma_vec.remove(0, int(tremove/h.dt))\n",
        "vtrunk4_vec.remove(0, int(tremove/h.dt))\n",
        "t_vec.remove(0, int(tremove/h.dt))\n",
        "plt.figure(figsize=(8, 6))\n",
        "plt.plot(t_vec, vsoma_vec, color='black', label='soma')\n",
        "plt.plot(t_vec, vtrunk4_vec, color='red', label='trunk4')\n",
        "plt.xlabel('time (ms)')\n",
        "plt.ylabel('mV')\n",
        "plt.legend()\n",
        "plt.show()"
      ],
      "metadata": {
        "id": "t29AyLqE1342",
        "outputId": "5930a315-eaa3-49cd-d113-dc857f9044d9",
        "colab": {
          "base_uri": "https://localhost:8080/",
          "height": 397
        }
      },
      "execution_count": null,
      "outputs": [
        {
          "output_type": "display_data",
          "data": {
            "text/plain": [
              "<Figure size 576x432 with 1 Axes>"
            ],
            "image/png": "[encoded data removed]"
          },
          "metadata": {
            "needs_background": "light"
          }
        }
      ]
    },
    {
      "cell_type": "code",
      "source": [
        "# Stimuli combinations\n",
        "ic.amp =0.2  # nA\n",
        "nc.weight[0] =0.004\n",
        "ic.delay = 185  # ms\n",
        "# Run the simulation\n",
        "h.finitialize(vinit)\n",
        "h.continuerun(tstop)\n",
        "\n",
        "# Remove the first 20ms to avoid artifacts\n",
        "tremove = 20\n",
        "vsoma_vec.remove(0, int(tremove/h.dt))\n",
        "vtrunk4_vec.remove(0, int(tremove/h.dt))\n",
        "t_vec.remove(0, int(tremove/h.dt))\n",
        "\n",
        "plt.figure(figsize=(8, 6))\n",
        "plt.plot(t_vec, vsoma_vec, color='black', label='soma')\n",
        "plt.plot(t_vec, vtrunk4_vec, color='red', label='trunk4')\n",
        "plt.xlabel('time (ms)')\n",
        "plt.ylabel('mV')\n",
        "plt.legend()\n",
        "plt.show()"
      ],
      "metadata": {
        "id": "s8c078NdICyM",
        "outputId": "f9c20632-326d-4503-a40f-7902b5842a6e",
        "colab": {
          "base_uri": "https://localhost:8080/",
          "height": 397
        }
      },
      "execution_count": null,
      "outputs": [
        {
          "output_type": "display_data",
          "data": {
            "text/plain": [
              "<Figure size 576x432 with 1 Axes>"
            ],
            "image/png": "[encoded data removed]"
          },
          "metadata": {
            "needs_background": "light"
          }
        }
      ]
    }
  ]
}
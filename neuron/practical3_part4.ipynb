{
  "nbformat": 4,
  "nbformat_minor": 0,
  "metadata": {
    "colab": {
      "name": "practical3_part4.ipynb",
      "provenance": [],
      "toc_visible": true,
      "include_colab_link": true
    },
    "kernelspec": {
      "name": "python3",
      "display_name": "Python 3"
    },
    "language_info": {
      "name": "python"
    }
  },
  "cells": [
    {
      "cell_type": "markdown",
      "metadata": {
        "id": "view-in-github",
        "colab_type": "text"
      },
      "source": [
        "<a href=\"https://colab.research.google.com/github/spirosChv/smartNetsWorkshop/blob/main/neuron/practical3_part4.ipynb\" target=\"_parent\"><img src=\"https://colab.research.google.com/assets/colab-badge.svg\" alt=\"Open In Colab\"/></a>"
      ]
    },
    {
      "cell_type": "markdown",
      "source": [
        "# Simulating dendrites - Part 4\n",
        "\n",
        "## How inputs inputs interact in time\n",
        "\n",
        "In this notebook we will see how inputs integrate when they are seperated in time."
      ],
      "metadata": {
        "id": "CFFz4a7p0BOz"
      }
    },
    {
      "cell_type": "code",
      "source": [
        "!pip install neuron --quiet"
      ],
      "metadata": {
        "id": "B0VtDTHqz0Ge"
      },
      "execution_count": null,
      "outputs": []
    },
    {
      "cell_type": "code",
      "execution_count": null,
      "metadata": {
        "id": "usthWgIfzjmM"
      },
      "outputs": [],
      "source": [
        "import numpy as np\n",
        "import matplotlib.pyplot as plt\n",
        "from neuron import h\n",
        "h.load_file(\"stdrun.hoc\")"
      ]
    },
    {
      "cell_type": "code",
      "source": [
        "# @title Make nicer plots -- Execute this cell\n",
        "def mystyle():\n",
        "  \"\"\"\n",
        "  Create custom plotting style.\n",
        "\n",
        "  Returns\n",
        "  -------\n",
        "  my_style : dict\n",
        "      Dictionary with matplotlib parameters.\n",
        "\n",
        "  \"\"\"\n",
        "  # color pallette\n",
        "  style = {\n",
        "      # Use LaTeX to write all text\n",
        "      \"text.usetex\": False,\n",
        "      \"font.family\": \"DejaVu Sans\",\n",
        "      \"font.weight\": \"bold\",\n",
        "      # Use 16pt font in plots, to match 16pt font in document\n",
        "      \"axes.labelsize\": 16,\n",
        "      \"axes.titlesize\": 20,\n",
        "      \"font.size\": 16,\n",
        "      # Make the legend/label fonts a little smaller\n",
        "      \"legend.fontsize\": 14,\n",
        "      \"xtick.labelsize\": 14,\n",
        "      \"ytick.labelsize\": 14,\n",
        "      \"axes.linewidth\": 2.5,\n",
        "      \"lines.markersize\": 10.0,\n",
        "      \"lines.linewidth\": 2.5,\n",
        "      \"xtick.major.width\": 2.2,\n",
        "      \"ytick.major.width\": 2.2,\n",
        "      \"axes.labelweight\": \"bold\",\n",
        "      \"axes.spines.right\": False,\n",
        "      \"axes.spines.top\": False\n",
        "  }\n",
        "\n",
        "  return style\n",
        "\n",
        "\n",
        "plt.style.use(\"seaborn-colorblind\")\n",
        "plt.rcParams.update(mystyle())"
      ],
      "metadata": {
        "cellView": "form",
        "id": "bqXB1xt_8Vuh"
      },
      "execution_count": null,
      "outputs": []
    },
    {
      "cell_type": "markdown",
      "source": [
        "### In this exercise we will see how inputs can be amplified by active sodium conductances"
      ],
      "metadata": {
        "id": "9g_PSHfDDxwL"
      }
    },
    {
      "cell_type": "code",
      "source": [
        "# Simulation parameters\n",
        "tstop = 200  # ms\n",
        "h.dt = 0.1  # ms\n",
        "vinit = -65  # initial membrane potential"
      ],
      "metadata": {
        "id": "ym1Wg3lmEGMX"
      },
      "execution_count": null,
      "outputs": []
    },
    {
      "cell_type": "markdown",
      "source": [
        "### Create a soma and one dendrite, define their anatomical and biophysical properties and connect them."
      ],
      "metadata": {
        "id": "PME1GYedGDSF"
      }
    },
    {
      "cell_type": "code",
      "source": [
        "soma = h.Section(name='soma')\n",
        "dend0 = h.Section(name='dend0') \n",
        "\n",
        "# Define properties of the soma\n",
        "soma.diam = 18  # diametr (um)\n",
        "soma.L = 18 # length (um)\n",
        "soma.Ra = 100  # axial resistance (Ohm * cm)\n",
        "soma.cm = 1  # specific membrane capacitance (uF/cm^2)   \n",
        "soma.nseg = 1\t # number of segments\n",
        "\n",
        "# Insert passive (leak) channels\n",
        "soma.insert('pas')\n",
        "for seg in soma:\n",
        "  soma.e_pas = -65  # leak reversal potential (mV)\n",
        "  soma.g_pas = 0.0003  # leak maximum conductance (S/cm^2)\n",
        "\n",
        "# Define properties of dend0\n",
        "dend0.diam = 5  # diametr (um)\n",
        "dend0.L = 700 # length (um)\n",
        "dend0.Ra = 100  # axial resistance (Ohm * cm)\n",
        "dend0.cm = 1  # specific membrane capacitance (uF/cm^2)   \n",
        "dend0.nseg = 11  # number of segments\n",
        "\n",
        "# Insert passive (leak) channels\n",
        "dend0.insert('pas')\n",
        "for seg in dend0:\n",
        "  seg.e_pas = -65  # leak reversal potential (mV)\n",
        "  seg.g_pas = 0.0003  # leak maximum conductance (S/cm^2)\n",
        "\n",
        "# Connect the 0 point of dendrite 0 to the zero point of the soma\n",
        "dend0.connect(soma(0), 0)"
      ],
      "metadata": {
        "id": "3Zd5f7ugF1-Y"
      },
      "execution_count": null,
      "outputs": []
    },
    {
      "cell_type": "markdown",
      "source": [
        "### Task 1: We will add three ExpSyn in the different parts of the dendrite. What will happen to the temporal summation of the inputs if they are activated sequentially with 10ms intervals? Do you expect the temporal order of activation to affect the output?"
      ],
      "metadata": {
        "id": "aKBHffHsKVi9"
      }
    },
    {
      "cell_type": "code",
      "source": [
        "#========== Synaptic stimulation.\n",
        "# Place three synapses, one in the end, one in the middle and one in the begining of the dendrite.\n",
        "syn0 = h.ExpSyn(dend0(0.9))\n",
        "syn0.e = 0  # reversal potential (mV)\n",
        "syn0.tau = 10  # decay time constant (ms)\n",
        "\n",
        "syn1 = h.ExpSyn(dend0(0.5))\n",
        "syn1.e = 0  # reversal potential (mV)\n",
        "syn1.tau = 10  # decay time constant (ms)\n",
        "\n",
        "syn2 = h.ExpSyn(dend0(0.1))\n",
        "syn2.e = 0  # reversal potential (mV)\n",
        "syn2.tau = 10  # decay time constant (ms)\n",
        "\n",
        "#========== ...create an artificial spike (an \"event\" to be delivered to the synapse)...\n",
        "tsignal = 20\n",
        "ns = h.NetStim(0.5)\n",
        "ns.start = tsignal\n",
        "ns.number = 1\n",
        "\n",
        "#... and connect the event to the synapses.\n",
        "nc0 = h.NetCon(ns, syn0)\n",
        "nc0.delay = 20\n",
        "nc0.weight[0] = 0.003\n",
        "\n",
        "nc1 = h.NetCon(ns, syn1)\n",
        "nc1.delay = 10\n",
        "nc1.weight[0] = 0.003\n",
        "\n",
        "nc2 = h.NetCon(ns, syn2)\n",
        "nc2.delay = 0\n",
        "nc2.weight[0] = 0.003"
      ],
      "metadata": {
        "id": "oxZ_7vd1GlG9"
      },
      "execution_count": null,
      "outputs": []
    },
    {
      "cell_type": "code",
      "source": [
        "# Calculate and print in terminal the depolarization at the soma and at the middle part of the distal dendrite (dendrite[1])\n",
        "vsoma_vec = h.Vector().record(soma(0.5)._ref_v) # Membrane potential vector\n",
        "vdend0_vec = h.Vector().record(dend0(0.5)._ref_v) # Membrane potential vector\n",
        "t_vec = h.Vector().record(h._ref_t)  # Time stamp vector\n",
        "\n",
        "# reinitialize the simulator and run again\n",
        "h.finitialize(vinit)\n",
        "h.continuerun(tstop)\n",
        "\n",
        "plt.figure(figsize=(8, 6))\n",
        "plt.plot(t_vec, vsoma_vec, color='black', label='soma')\n",
        "plt.plot(t_vec, vdend0_vec, color='red', label='dendrite')\n",
        "plt.xlabel('time (ms)')\n",
        "plt.ylabel('voltage (mV)')\n",
        "plt.legend()\n",
        "plt.show()\n",
        "\n",
        "print(f'\\nSomatic depolarization is {round(vsoma_vec.max()-vsoma_vec[int((tsignal)/h.dt)-1], 2)} mV')"
      ],
      "metadata": {
        "id": "K9IDmGtvGlmk"
      },
      "execution_count": null,
      "outputs": []
    }
  ]
}
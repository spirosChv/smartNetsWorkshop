{
  "nbformat": 4,
  "nbformat_minor": 0,
  "metadata": {
    "colab": {
      "name": "practical2_basicNeuron.ipynb",
      "provenance": [],
      "toc_visible": true,
      "authorship_tag": "ABX9TyNBNhcPw3gpdvl/MY9Bj6gj",
      "include_colab_link": true
    },
    "kernelspec": {
      "name": "python3",
      "display_name": "Python 3"
    },
    "language_info": {
      "name": "python"
    }
  },
  "cells": [
    {
      "cell_type": "markdown",
      "metadata": {
        "id": "view-in-github",
        "colab_type": "text"
      },
      "source": [
        "<a href=\"https://colab.research.google.com/github/spirosChv/smartNetsWorkshop/blob/main/neuron/practical2_basicNeuron.ipynb\" target=\"_parent\"><img src=\"https://colab.research.google.com/assets/colab-badge.svg\" alt=\"Open In Colab\"/></a>"
      ]
    },
    {
      "cell_type": "markdown",
      "source": [
        "# The NEURON Simulator"
      ],
      "metadata": {
        "id": "TJphcoOuSR5S"
      }
    },
    {
      "cell_type": "code",
      "source": [
        "# @title Make nicer plots -- Execute this cell\n",
        "import matplotlib.pyplot as plt\n",
        "\n",
        "\n",
        "def mystyle():\n",
        "  \"\"\"\n",
        "  Create custom plotting style.\n",
        "\n",
        "  Returns\n",
        "  -------\n",
        "  my_style : dict\n",
        "      Dictionary with matplotlib parameters.\n",
        "\n",
        "  \"\"\"\n",
        "  # color pallette\n",
        "  style = {\n",
        "      # Use LaTeX to write all text\n",
        "      \"text.usetex\": False,\n",
        "      \"font.family\": \"DejaVu Sans\",\n",
        "      \"font.weight\": \"bold\",\n",
        "      # Use 16pt font in plots, to match 16pt font in document\n",
        "      \"axes.labelsize\": 16,\n",
        "      \"axes.titlesize\": 20,\n",
        "      \"font.size\": 16,\n",
        "      # Make the legend/label fonts a little smaller\n",
        "      \"legend.fontsize\": 14,\n",
        "      \"xtick.labelsize\": 14,\n",
        "      \"ytick.labelsize\": 14,\n",
        "      \"axes.linewidth\": 2.5,\n",
        "      \"lines.markersize\": 10.0,\n",
        "      \"lines.linewidth\": 2.5,\n",
        "      \"xtick.major.width\": 2.2,\n",
        "      \"ytick.major.width\": 2.2,\n",
        "      \"axes.labelweight\": \"bold\",\n",
        "      \"axes.spines.right\": False,\n",
        "      \"axes.spines.top\": False\n",
        "  }\n",
        "\n",
        "  return style\n",
        "\n",
        "\n",
        "plt.style.use(\"seaborn-colorblind\")\n",
        "plt.rcParams.update(mystyle())"
      ],
      "metadata": {
        "cellView": "form",
        "id": "EM09o8MRDOdh"
      },
      "execution_count": null,
      "outputs": []
    },
    {
      "cell_type": "markdown",
      "source": [
        "# What is NEURON?\n",
        "\n",
        "The NEURON simulation environment is a powerful engine for performing simulations of neurons and biophysical neural networks. It permits the construction of biologically realistic membranes with active and passive ion channels, combined with virtual connectivity and electrophysiology tools to drive and measure neuron and network behaviors."
      ],
      "metadata": {
        "id": "X-HYq4vPScVe"
      }
    },
    {
      "cell_type": "code",
      "execution_count": null,
      "metadata": {
        "id": "mMmayTyRSO44"
      },
      "outputs": [],
      "source": [
        "!pip install neuron --quiet"
      ]
    },
    {
      "cell_type": "code",
      "source": [
        "# @title Create the mod file `vecstim.mod`\n",
        "# @markdown Execute this cell.\n",
        "with open(\"vecstim.mod\", \"w\") as file:\n",
        "  file.write(\"\"\"\n",
        "    : Vector stream of events\n",
        "\n",
        "    NEURON {\n",
        "      THREADSAFE\n",
        "      ARTIFICIAL_CELL VecStim\n",
        "      RANGE delay\n",
        "    }\n",
        "\n",
        "    ASSIGNED {\n",
        "      index\n",
        "      etime (ms)\n",
        "      space\n",
        "      delay (ms)\n",
        "    }\n",
        "\n",
        "    PARAMETER { \n",
        "      ::delay = 0.0\n",
        "    } \n",
        "\n",
        "    INITIAL {\n",
        "      index = 0\n",
        "      : delay = 0\n",
        "      element()\n",
        "      if (index > 0) {\n",
        "        net_send(delay + etime - t, 1)\n",
        "      }\n",
        "    }\n",
        "\n",
        "    NET_RECEIVE (w) {\n",
        "      if (flag == 1) {\n",
        "        net_event(t)\n",
        "        element()\n",
        "        if (index > 0) {\n",
        "          net_send(delay + etime - t, 1)\n",
        "        }\n",
        "      }\n",
        "    }\n",
        "\n",
        "    VERBATIM\n",
        "    extern double* vector_vec();\n",
        "    extern int vector_capacity();\n",
        "    extern void* vector_arg();\n",
        "    ENDVERBATIM\n",
        "\n",
        "    PROCEDURE element() {\n",
        "    VERBATIM\t\n",
        "    { void* vv; int i, size; double* px;\n",
        "      i = (int)index;\n",
        "      if (i >= 0) {\n",
        "        vv = *((void**)(&space));\n",
        "        if (vv) {\n",
        "          size = vector_capacity(vv);\n",
        "          px = vector_vec(vv);\n",
        "          if (i < size) {\n",
        "            etime = px[i];\n",
        "            index += 1.;\n",
        "          }else{\n",
        "            index = -1.;\n",
        "          }\n",
        "        }else{\n",
        "          index = -1.;\n",
        "        }\n",
        "      }\n",
        "    }\n",
        "    ENDVERBATIM\n",
        "    }\n",
        "\n",
        "    PROCEDURE play() {\n",
        "    VERBATIM\n",
        "      void** vv;\n",
        "      vv = (void**)(&space);\n",
        "      *vv = (void*)0;\n",
        "      if (ifarg(1)) {\n",
        "        *vv = vector_arg(1);\n",
        "      }\n",
        "    ENDVERBATIM\n",
        "    }\n",
        "  \"\"\")"
      ],
      "metadata": {
        "cellView": "form",
        "id": "3S8kWNCD-nWE"
      },
      "execution_count": null,
      "outputs": []
    },
    {
      "cell_type": "code",
      "source": [
        "# Remove old executables and compile with `nrnivmodl`\n",
        "!rm -rf x86_64/  # UINIX specific command\n",
        "!nrnivmodl  # UINIX specific command"
      ],
      "metadata": {
        "id": "5ljStt-X-oa2"
      },
      "execution_count": null,
      "outputs": []
    },
    {
      "cell_type": "markdown",
      "source": [
        "## Step 1: Import the neuron module into Python.\n",
        "\n",
        "We begin by loading NEURON’s h module."
      ],
      "metadata": {
        "id": "3zIM0XlASWkd"
      }
    },
    {
      "cell_type": "code",
      "source": [
        "import neuron\n",
        "print(neuron.__version__)"
      ],
      "metadata": {
        "id": "baE-naJzGbOU"
      },
      "execution_count": null,
      "outputs": []
    },
    {
      "cell_type": "markdown",
      "source": [
        "There are only a limited number of functions avaiable directly from the neuron module. In practice, we usually want to directly import the submodules we need; i.e., do something like the below instead:"
      ],
      "metadata": {
        "id": "oWTIPX0aGhHT"
      }
    },
    {
      "cell_type": "code",
      "source": [
        "from neuron import h"
      ],
      "metadata": {
        "id": "ftqaQMjSS8nr"
      },
      "execution_count": null,
      "outputs": []
    },
    {
      "cell_type": "markdown",
      "source": [
        "When using NEURON, you will always want the h submodule. You may or may not need to import the additional submodules mentioned above. If you do, they can be imported separately or loaded in one line with a comma separated list, as in:"
      ],
      "metadata": {
        "id": "4xaBoELVGnIx"
      }
    },
    {
      "cell_type": "code",
      "source": [
        "from neuron import h, rxd"
      ],
      "metadata": {
        "id": "WU_Pxn9mGpC1"
      },
      "execution_count": null,
      "outputs": []
    },
    {
      "cell_type": "markdown",
      "source": [
        "NEURON assumes certain default units (concentration in mM, time in ms, voltage in mV), but units can be specified explicitly by importing unit definitions from neuron.units. Even if you are using the default units, being explicit makes your code more readable by others. For example:"
      ],
      "metadata": {
        "id": "zAwdS2tRGspq"
      }
    },
    {
      "cell_type": "code",
      "source": [
        "from neuron.units import ms, mV"
      ],
      "metadata": {
        "id": "9eBBbU3cGuKr"
      },
      "execution_count": null,
      "outputs": []
    },
    {
      "cell_type": "markdown",
      "source": [
        "If the above gives you an error, then you are using a version of NEURON older than 7.7. Update before proceeding."
      ],
      "metadata": {
        "id": "WGSENtrdGvqk"
      }
    },
    {
      "cell_type": "markdown",
      "source": [
        "## Step 2: Create a cell\n",
        "\n",
        "A `Section` is the basic morphological building-block in NEURON. We typically think of a Section as an unbranched cable, but it can also be used to represent a soma. Thus a simple model neuron with only a soma can be created as in:"
      ],
      "metadata": {
        "id": "dBaT4tptS-YI"
      }
    },
    {
      "cell_type": "code",
      "source": [
        "soma = h.Section(name='soma')"
      ],
      "metadata": {
        "id": "XyQ5hwX5TX-S"
      },
      "execution_count": null,
      "outputs": []
    },
    {
      "cell_type": "markdown",
      "source": [
        "Aside 1: NEURON's `h.topology` function.\n",
        "\n",
        "NEURON's `h.topology()` function displays the topological structure of the entire model, indicating which sections are connected to which sections, where they are connected, and how many segments each section is divided into.\n",
        "\n",
        "If you're following along with our example, there's not much to see yet since there is only one section, but it does demonstrate that the soma has been created and has one segment (one dash is shown):"
      ],
      "metadata": {
        "id": "JMccbxMEG515"
      }
    },
    {
      "cell_type": "code",
      "source": [
        "h.topology()"
      ],
      "metadata": {
        "id": "5kJQdUORG5Qz"
      },
      "execution_count": null,
      "outputs": []
    },
    {
      "cell_type": "markdown",
      "source": [
        "The `h.topology()` function displays its data to screen and returns 1.0 indicating success (this function always succeeds). Note: This function is only for displaying data; other methods must be used to store the data in a variable for programmatic analysis."
      ],
      "metadata": {
        "id": "T7cqBpoIHBOM"
      }
    },
    {
      "cell_type": "markdown",
      "source": [
        "### Aside 2: NEURON’s psection() function.\n",
        "\n",
        "Every NEURON section has a `psection` method (think: properties of the section) that returns a Python dictionary providing a structured data representation of the properties of the section.\n",
        "\n",
        "For example, we can query the soma via:"
      ],
      "metadata": {
        "id": "DOrLfGdvTg0J"
      }
    },
    {
      "cell_type": "code",
      "source": [
        "soma.psection()"
      ],
      "metadata": {
        "id": "hGYW582ZTkyI"
      },
      "execution_count": null,
      "outputs": []
    },
    {
      "cell_type": "markdown",
      "source": [
        "The results tell us the soma is a cylinder with length $100 microns$, diameter $500 microns$, axial resistivity $35.4 ohm*cm$, and specific membrance capacitance $1 \\mu F/cm^2$"
      ],
      "metadata": {
        "id": "GxTe9clPTmYT"
      }
    },
    {
      "cell_type": "markdown",
      "source": [
        "**Note:** calling this method does not itself print anything to the screen. Instead it returns a dictionary. We see the contents of the dictionary only because we are running interactively; from a script, nothing would be printed unless we explicitly printed it with print, or, better pretty-printed it with pprint.pprint."
      ],
      "metadata": {
        "id": "12MtNG-YHNY6"
      }
    },
    {
      "cell_type": "markdown",
      "source": [
        "Since this is a dictionary, we can extract any properties we want using square brackets. For example, the length of the section is:"
      ],
      "metadata": {
        "id": "KH6IH_B9HRv2"
      }
    },
    {
      "cell_type": "code",
      "source": [
        "soma.psection()['morphology']['L']"
      ],
      "metadata": {
        "id": "mhd2x2xZHSt0"
      },
      "execution_count": null,
      "outputs": []
    },
    {
      "cell_type": "markdown",
      "source": [
        "All of these values can be individually accessed in more efficient ways, but psection provides an overview of the full properties of the section.\n",
        "\n",
        "For example, the length of the soma is more efficiently available (and settable) via:"
      ],
      "metadata": {
        "id": "Yx2zFvG6HVMZ"
      }
    },
    {
      "cell_type": "code",
      "source": [
        "soma.L"
      ],
      "metadata": {
        "id": "luiIgLVGHV_K"
      },
      "execution_count": null,
      "outputs": []
    },
    {
      "cell_type": "markdown",
      "source": [
        "`soma.psection()['morphology']['diam']` is a list (of length 1 here), with each entry corresponding to the value for each segment. Similarly for `soma.psection()['cm']`, etc.\n",
        "\n",
        "Important: You may have noticed that the default diameter is $500 \\mu m$, which is excessively large for mammalian neurons. It's the default because it's appropriate for the squid giant axons studied by Hodgkin and Huxley. NEURON also uses squid-relevant values for axial resistivity (soma.Ra) and temperature (`h.celsius`). These should all be adjusted for mammalian models."
      ],
      "metadata": {
        "id": "Hyz_QjRDHZOO"
      }
    },
    {
      "cell_type": "markdown",
      "source": [
        "### Aside 3: Python’s dir() function.\n",
        "\n",
        "We can also probe objects with Python’s built-in `dir()` function. Let’s see what it says about soma."
      ],
      "metadata": {
        "id": "ntxEPBR0Tyo3"
      }
    },
    {
      "cell_type": "code",
      "source": [
        "dir(soma)"
      ],
      "metadata": {
        "id": "jGf5cM09TyIw"
      },
      "execution_count": null,
      "outputs": []
    },
    {
      "cell_type": "markdown",
      "source": [
        "This tells us all of the Python methods and variables associated with the object. Any methods with two leading and trailing underscores are reserved by Python and may or may not be implemented by the object. The other items in the list are additional members of soma that we can call. To see all of the functions available to the neuron variable h, try calling `dir(h)`."
      ],
      "metadata": {
        "id": "lW__KakmT7KV"
      }
    },
    {
      "cell_type": "markdown",
      "source": [
        "### Aside 4: Getting more help.\n",
        "\n",
        "In addition to probing objects with `dir()`, help from docstrings is available using `help()`.\n",
        "\n",
        "```python\n",
        "help(object_or_variable)\n",
        "```\n",
        "\n",
        "For example, from `dir(soma)`, we know that `connect` is available. Let’s inquire about that."
      ],
      "metadata": {
        "id": "VpwdongcT_LR"
      }
    },
    {
      "cell_type": "code",
      "source": [
        "help(soma.connect)"
      ],
      "metadata": {
        "id": "XioQxfROT6kR"
      },
      "execution_count": null,
      "outputs": []
    },
    {
      "cell_type": "markdown",
      "source": [
        "## Step 3: Set the cell's morphological properties\n",
        "\n",
        "Since we're simulating a soma, the default length of $100 \\mu m$ and diameter of $500 \\mu m$ are inappropriate. Let's set the length (`L`) and diameter (`diam`) to $20 \\mu m$ instead:"
      ],
      "metadata": {
        "id": "TYWywERVH23H"
      }
    },
    {
      "cell_type": "code",
      "source": [
        "soma.L = 20\n",
        "soma.diam = 20"
      ],
      "metadata": {
        "id": "OO06fqYVIOIw"
      },
      "execution_count": null,
      "outputs": []
    },
    {
      "cell_type": "markdown",
      "source": [
        "In many models, you will have cells consisting of many connected sections. In brief, this can be done using the Section's connect method. That will be described in a subsequent part of the tutorial. For now though, we consider only the soma."
      ],
      "metadata": {
        "id": "LilStTHfIQKX"
      }
    },
    {
      "cell_type": "markdown",
      "source": [
        "## Step 4: Biophysical Mechanisms\n",
        "\n",
        "NEURON comes with a few built in biophysical mechanisms that can be added to a model.\n",
        "\n",
        "- `pas`: Passive (“leak”) channel.\n",
        "- `extracellular`: For simulating effects of nonzero extracellular potential, as may happen with leaky patch clamps, or detailed propertes of the myelin sheath.\n",
        "- `hh`:\tHodgkin-Huxley sodium, potassium, and leakage channels."
      ],
      "metadata": {
        "id": "omIVOTA8UQIN"
      }
    },
    {
      "cell_type": "markdown",
      "source": [
        "### Aside 3: Insert a passive mechanism.\n",
        "\n",
        "We see from the list of elements after calling `dir(soma)` that `insert` is available. This is the method we will use to insert mechanisms into the membrane. Let’s insert a passive leak conductance across the membrane and do this by passing `pas` as the mechanism type:"
      ],
      "metadata": {
        "id": "mhoMw9wyUl-o"
      }
    },
    {
      "cell_type": "code",
      "source": [
        "soma.insert('pas')"
      ],
      "metadata": {
        "id": "NleYGjQ7US7d"
      },
      "execution_count": null,
      "outputs": []
    },
    {
      "cell_type": "markdown",
      "source": [
        "### IMPORTANT: Sections and segments.\n",
        "\n",
        "A NEURON Section is considered a piece of cylindrical cable. Depending on the resolution desired, it may be necessary to divide the cable into a number of segments where voltage varies linearly between centers of adjacent segments. The number of segments within a section is given by the variable, `nseg`. The total ionic current across the segment membrane is approximately the area of the segment multiplied by the ionic current density at the center of the segment. To access a part of the section, specify a value between 0 and 1, where 0 is typically the end closest to the soma and 1 is the distal end. Because nseg divides the cable into equal-length parts, it should be an odd number so that to address the middle of the cable, (0.5), gives the middle segment.\n",
        "\n",
        "To summarize, we access sections by their name and segments by some location on the section.\n",
        "\n",
        "Section: `section`\n",
        "Segment: `section(loc)`\n",
        "\n",
        "\n",
        "Using the Python `type()` function can tell us what a variable is:"
      ],
      "metadata": {
        "id": "iHUXutQpUvqp"
      }
    },
    {
      "cell_type": "code",
      "source": [
        "print(\"type(soma) = {}\".format(type(soma)))\n",
        "print(\"type(soma(0.5)) ={}\".format(type(soma(0.5))))"
      ],
      "metadata": {
        "id": "EB_SRDvuU-Hk"
      },
      "execution_count": null,
      "outputs": []
    },
    {
      "cell_type": "markdown",
      "source": [
        "### Aside 4: Accessing segment variables.\n",
        "\n",
        "Segment variables follow the idiom:\n",
        "\n",
        "```python\n",
        "section(loc).var\n",
        "```\n",
        "\n",
        "And for mechanisms on the segment:\n",
        "\n",
        "```python\n",
        "section(loc).mech.var\n",
        "```\n",
        "\n",
        "or\n",
        "\n",
        "```python\n",
        "section(loc).var_mech\n",
        "```\n",
        "\n",
        "The first form is preferred."
      ],
      "metadata": {
        "id": "7nlg7jmjU_oy"
      }
    },
    {
      "cell_type": "code",
      "source": [
        "mech = soma(0.5).pas\n",
        "print(dir(mech))"
      ],
      "metadata": {
        "id": "lJIkmbsHVMFA"
      },
      "execution_count": null,
      "outputs": []
    },
    {
      "cell_type": "code",
      "source": [
        "print(mech.g)\n",
        "print(soma(0.5).pas.g)"
      ],
      "metadata": {
        "id": "PkGpOiCMVMy9"
      },
      "execution_count": null,
      "outputs": []
    },
    {
      "cell_type": "markdown",
      "source": [
        "## Step 5a: Insert an alpha synapse.\n",
        "\n",
        "Let’s insert an AlphaSynapse object onto the soma to induce some membrane dynamics."
      ],
      "metadata": {
        "id": "75GMgreyVRcg"
      }
    },
    {
      "cell_type": "code",
      "source": [
        "asyn = h.AlphaSynapse(soma(0.5))"
      ],
      "metadata": {
        "id": "8RffSTOXVQsb"
      },
      "execution_count": null,
      "outputs": []
    },
    {
      "cell_type": "markdown",
      "source": [
        "AlphaSynapse is a **Point Process**. Point processes are point sources of current. When making a new Point Process, you pass the segment to which it will bind.\n",
        "\n",
        "Again, with `dir()` function, we can validate that asyn is an object and contains some useful parameters. Let’s look at some of those parameters."
      ],
      "metadata": {
        "id": "iuK9kOEyVWpj"
      }
    },
    {
      "cell_type": "code",
      "source": [
        "dir(asyn)"
      ],
      "metadata": {
        "id": "3iIPUQXuVc4X"
      },
      "execution_count": null,
      "outputs": []
    },
    {
      "cell_type": "code",
      "source": [
        "print(\"asyn.e = {}\".format(asyn.e))\n",
        "print(\"asyn.gmax = {}\".format(asyn.gmax))\n",
        "print(\"asyn.onset = {}\".format(asyn.onset))\n",
        "print(\"asyn.tau = {}\".format(asyn.tau))"
      ],
      "metadata": {
        "id": "xxoBeayBVfcO"
      },
      "execution_count": null,
      "outputs": []
    },
    {
      "cell_type": "markdown",
      "source": [
        "Let’s assign the onset of this synapse to occur at 20 ms and the maximal conductance to 1."
      ],
      "metadata": {
        "id": "p2YGQQxZVhE6"
      }
    },
    {
      "cell_type": "code",
      "source": [
        "asyn.onset = 20\n",
        "asyn.gmax = 1"
      ],
      "metadata": {
        "id": "g5gPVcOOVh6V"
      },
      "execution_count": null,
      "outputs": []
    },
    {
      "cell_type": "markdown",
      "source": [
        "Let’s look at the state of our cell using neuron’s `psection()`."
      ],
      "metadata": {
        "id": "KoBZ9oC4Vj25"
      }
    },
    {
      "cell_type": "code",
      "source": [
        "h.psection()"
      ],
      "metadata": {
        "id": "OnXjmOA0VlOM"
      },
      "execution_count": null,
      "outputs": []
    },
    {
      "cell_type": "markdown",
      "source": [
        "# Step 5b: Insert a stimulus\n",
        "\n",
        "Let's insert a current clamp (an `IClamp` object) into the center of the `soma` to induce some membrane dynamics."
      ],
      "metadata": {
        "id": "xvc_f1KEAxC1"
      }
    },
    {
      "cell_type": "code",
      "source": [
        "iclamp = h.IClamp(soma(0.5))"
      ],
      "metadata": {
        "id": "rU-wau-YAwXh"
      },
      "execution_count": null,
      "outputs": []
    },
    {
      "cell_type": "markdown",
      "source": [
        "An `IClamp` is a **Point Process**. Point processes are point sources of current. When making a new Point Process, you pass the segment to which it will bind.\n",
        "\n",
        "Again, with the `dir` function, we can validate that `iclamp` is an object and contains some useful parameters. Let's look at some of those parameters. We use a [list comprehension](https://www.pythonforbeginners.com/basics/list-comprehensions-in-python) to ignore those elements of the dir that start with double underscores (and are thus Python magic methods and not functions/variables intended to be used directly)."
      ],
      "metadata": {
        "id": "CoIMBnx3A8M8"
      }
    },
    {
      "cell_type": "code",
      "source": [
        "print([item for item in dir(iclamp) if not item.startswith('__')])"
      ],
      "metadata": {
        "id": "uTnK258IBNWN"
      },
      "execution_count": null,
      "outputs": []
    },
    {
      "cell_type": "markdown",
      "source": [
        "In particular, we notice three key properties of a current clamp: amp -- the amplitude (in nA), delay -- the time the current clamp switches on (in ms), and dur -- how long (in ms) the current clamp stays on. Let's set these values:"
      ],
      "metadata": {
        "id": "GmSI7YkABRxB"
      }
    },
    {
      "cell_type": "code",
      "source": [
        "iclamp.delay = 2\n",
        "iclamp.dur = 0.1\n",
        "iclamp.amp = 0.9"
      ],
      "metadata": {
        "id": "Y-7cZoIjBTlE"
      },
      "execution_count": null,
      "outputs": []
    },
    {
      "cell_type": "markdown",
      "source": [
        "Let's use psection to get a representation of the soma model:"
      ],
      "metadata": {
        "id": "crT14yAiBVgN"
      }
    },
    {
      "cell_type": "code",
      "source": [
        "soma.psection()"
      ],
      "metadata": {
        "id": "Bh9Blvx8BXcb"
      },
      "execution_count": null,
      "outputs": []
    },
    {
      "cell_type": "markdown",
      "source": [
        "## Step 6: Set up recording variables.\n",
        "\n",
        "The cell should be configured to run a simulation. However, we need to set up variables we wish to record from the simulation. For now, we will record the membrane potential, which is `soma(0.5).v`. References to variables are available as `_ref_rangevariable`."
      ],
      "metadata": {
        "id": "g090t9CdVpQz"
      }
    },
    {
      "cell_type": "code",
      "source": [
        "v_vec = h.Vector().record(soma(0.5)._ref_v)  # Membrane potential vector\n",
        "t_vec = h.Vector().record(h._ref_t)  # Time stamp vector"
      ],
      "metadata": {
        "id": "9VwGUNoJVvqg"
      },
      "execution_count": null,
      "outputs": []
    },
    {
      "cell_type": "markdown",
      "source": [
        "## Step 6: Run the simulation.\n",
        "\n",
        "To run the simulation, we execute the following lines."
      ],
      "metadata": {
        "id": "x_UiNpYEV32D"
      }
    },
    {
      "cell_type": "code",
      "source": [
        "h.load_file('stdrun.hoc')"
      ],
      "metadata": {
        "id": "nb9x6qiQV7R1"
      },
      "execution_count": null,
      "outputs": []
    },
    {
      "cell_type": "markdown",
      "source": [
        "```python\n",
        "h.tstop = 40.0\n",
        "h.run()\n",
        "```"
      ],
      "metadata": {
        "id": "lOJSqC87TktM"
      }
    },
    {
      "cell_type": "markdown",
      "source": [
        "**Note:** If we had not included gui in the list of things to import, we would have also had to execute:\n",
        "\n",
        "`h.load_file('stdrun.hoc')`\n",
        "\n",
        "which defines the `run()` function (the alternative would be to specify initialization and advance in more detail).\n",
        "\n",
        "Nowadays, NEURON guidelines use only the `continuerun` function."
      ],
      "metadata": {
        "id": "hg8nnot3V-ar"
      }
    },
    {
      "cell_type": "code",
      "source": [
        "def myinit(temp=34, dt=0.1, cvode=True):\n",
        "    \"\"\"\n",
        "    Initialize function.\n",
        "\n",
        "    Parameters\n",
        "    ----------\n",
        "    temp: float, optional\n",
        "        Tmperature in degC. The default is 34.\n",
        "    dt : float, optional\n",
        "        Integration time-step in ms. The default is 0.1.\n",
        "    cvode: bool, optional\n",
        "        Enable CVODE for faster simulations. The default is `True`.\n",
        "\n",
        "    Returns\n",
        "    -------\n",
        "    None.\n",
        "\n",
        "    \"\"\"\n",
        "    # Enable CVODE for faster Simulations\n",
        "    h.CVode().active(cvode)\n",
        "    # new code to happen after initialization here\n",
        "    print('Initializing NEURON...')\n",
        "    # only need the following if states have been changed\n",
        "    h.celsius = temp\n",
        "    h.stdinit()\n",
        "    h.init()\n",
        "    h.finitialize()\n",
        "    if h.cvode.active():\n",
        "        h.cvode.re_init()\n",
        "    else:\n",
        "        h.fcurrent()\n",
        "    h.frecord_init()\n",
        "    print(f'Initialization has been completed. Temperature is: {temp} degC')"
      ],
      "metadata": {
        "id": "TE8wsPwBUioK"
      },
      "execution_count": null,
      "outputs": []
    },
    {
      "cell_type": "code",
      "source": [
        "myinit()\n",
        "h.continuerun(1000 * ms)"
      ],
      "metadata": {
        "id": "m3ktOH9sEFru"
      },
      "execution_count": null,
      "outputs": []
    },
    {
      "cell_type": "markdown",
      "source": [
        "## Step 7: Plot the results.\n",
        "\n",
        "We utilize the pyplot module from the matplotlib Python package to visualize the output."
      ],
      "metadata": {
        "id": "TtWKITfXWKtb"
      }
    },
    {
      "cell_type": "code",
      "source": [
        "import matplotlib.pyplot as plt\n",
        "plt.figure(figsize=(10, 6))\n",
        "plt.plot(t_vec, v_vec)\n",
        "plt.xlabel('time (ms)')\n",
        "plt.ylabel('mV')\n",
        "plt.show()"
      ],
      "metadata": {
        "id": "9rrwwrR6WVdV"
      },
      "execution_count": null,
      "outputs": []
    },
    {
      "cell_type": "markdown",
      "source": [
        "The last line displays the graph and allows you to interact with it (zoom, pan, save, etc). NEURON and Python will wait until you close the figure window to proceed."
      ],
      "metadata": {
        "id": "TfZttHwIWZMD"
      }
    },
    {
      "cell_type": "markdown",
      "source": [
        "## Step 8: Saving and restoring results.\n",
        "\n",
        "NEURON Vector objects can be pickled. This allows them to be stored to disk and restored later:\n",
        "\n",
        "Saving:"
      ],
      "metadata": {
        "id": "X9tSQCbEWa7K"
      }
    },
    {
      "cell_type": "code",
      "source": [
        "# Pickle\n",
        "import pickle\n",
        "with open('t_vec.p', 'wb') as t_vec_file:\n",
        "  pickle.dump(t_vec, t_vec_file)\n",
        "with open('v_vec.p', 'wb') as v_vec_file:\n",
        "  pickle.dump(v_vec, v_vec_file)"
      ],
      "metadata": {
        "id": "aScowyQfWaX_"
      },
      "execution_count": null,
      "outputs": []
    },
    {
      "cell_type": "code",
      "source": [
        "# Unpickle\n",
        "with open('t_vec.p', 'rb') as t_vec_file:\n",
        "  t_vec_new = pickle.load(t_vec_file)\n",
        "with open('v_vec.p', 'rb') as vec_file:\n",
        "  v_vec_new = pickle.load(vec_file)\n",
        "\n",
        "# Confirm\n",
        "plt.figure(figsize=(10, 6))\n",
        "plt.plot(t_vec_new, v_vec_new)\n",
        "plt.xlabel('time (ms)')\n",
        "plt.ylabel('mV')\n",
        "plt.show()"
      ],
      "metadata": {
        "id": "MTdVplY-WkuY"
      },
      "execution_count": null,
      "outputs": []
    },
    {
      "cell_type": "markdown",
      "source": [
        "## Extra Step: Generate a train of presynaptic stimuli\n",
        "\n",
        "A `NetStim` is a spike generator that can be used as the source in a `NetCon`, behaving as external input onto the synapse of a target cell. The following code makes a `NetStim` object that generates one spike at time $t=9$. The NetCon then adds another ms delay to deliver a synaptic event at time $t=10$ onto the first cell.\n",
        "\n",
        "The code below makes a stimulator and attaches it to a synapse object ([ExpSyn](https://neuron.yale.edu/neuron/static/py_doc/modelspec/programmatic/mechanisms/mech.html#ExpSyn)) that behaves much like an AMPA synapse – it conducts current as a decaying exponential function."
      ],
      "metadata": {
        "id": "Q7UbiSwvDz6-"
      }
    },
    {
      "cell_type": "code",
      "source": [
        "stim = h.NetStim()  # Make a new stimulator\n",
        "\n",
        "# Attach it to a synapse in the middle of the dendrite\n",
        "# of the first cell in the network. (Named 'syn_' to avoid\n",
        "# being overwritten with the 'syn' var assigned later.)\n",
        "syn_ = h.ExpSyn(soma(0.5))\n",
        "\n",
        "stim.number = 1\n",
        "stim.start = 9\n",
        "ncstim = h.NetCon(stim, syn_)\n",
        "ncstim.delay = 1\n",
        "ncstim.weight[0] = 0.04  # NetCon weight is a vector."
      ],
      "metadata": {
        "id": "wu0jYRZ9DzNT"
      },
      "execution_count": null,
      "outputs": []
    },
    {
      "cell_type": "markdown",
      "source": [
        "Exponentially decaying currents, such as that generated by the synapse `syn_` have dynamics that depend on tau, the time constant. Let's specify a time constant of $2 ms$:"
      ],
      "metadata": {
        "id": "Z97F-9q6FMSr"
      }
    },
    {
      "cell_type": "code",
      "source": [
        "syn_.tau = 2"
      ],
      "metadata": {
        "id": "r3xgzG-YFN9h"
      },
      "execution_count": null,
      "outputs": []
    },
    {
      "cell_type": "markdown",
      "source": [
        "The parameter `tau` specifies how quickly the currents decay. The exact value of the current depends on the cell's membrane potential, and the synapse's reversal potential, `syn_.e`."
      ],
      "metadata": {
        "id": "jIEslZIcFPpv"
      }
    },
    {
      "cell_type": "code",
      "source": [
        "print(f'Reversal potential = {syn_.e} mV')"
      ],
      "metadata": {
        "id": "XPtsvsoDFUEH"
      },
      "execution_count": null,
      "outputs": []
    },
    {
      "cell_type": "markdown",
      "source": [
        "NetCon syntax\n",
        "\n",
        "```python\n",
        "netcon = h.NetCon(source_ref_v, target, [threshold, delay, weight], sec=section)\n",
        "\n",
        "netcon = h.NetCon(source, target, [threshold, delay, weight])\n",
        "```\n",
        "\n",
        "**Note:** The threshold is used when two NEURON sections are connected via a Synapse and defines the presynaptic spike.\n",
        "\n",
        "Example:\n",
        "\n",
        "When you connect two neurons:\n",
        "```python\n",
        "nc = h.NetCon(soma(0.5)._ref_v, syn, sec=soma)\n",
        "nc.threshold = 10  # mV\n",
        "```\n",
        "\n",
        "When you connect an artificial neuron with a neuron:\n",
        "```python\n",
        "nc = h.NetCon(inputCell, syn)\n",
        "```"
      ],
      "metadata": {
        "id": "a1UFVxQAFgI6"
      }
    },
    {
      "cell_type": "markdown",
      "source": [
        ""
      ],
      "metadata": {
        "id": "sgPzFynQ8S3h"
      }
    },
    {
      "cell_type": "code",
      "source": [
        "import numpy as np\n",
        "import matplotlib.pyplot as plt\n",
        "\n",
        "\n",
        "def poisson_spikes(t1, t2, N, rate=10, dt=0.1):\n",
        "    \"\"\"\n",
        "    Poisson spike generator.\n",
        "    Parameters\n",
        "    ----------\n",
        "    t1 : float\n",
        "        Simulation time start in miliseconds (ms).\n",
        "    t2 : float\n",
        "        Simulation time end in miliseconds (ms).\n",
        "    N : int, optional\n",
        "        Number of presynaptic spikes.\n",
        "    rate : float, optional\n",
        "        Mean firing rate in Hz. The default is 10.\n",
        "    dt : float, optional\n",
        "        Time step in ms. The default is 0.1.\n",
        "    Returns\n",
        "    -------\n",
        "    spks : TYPE\n",
        "        DESCRIPTION.\n",
        "    \"\"\"\n",
        "    spks = []\n",
        "    tarray = np.arange(t1, t2+dt, dt)\n",
        "    for n in range(N):\n",
        "        spkt = tarray[np.random.rand(len(tarray)) < rate*dt/1000.]  # Determine list of times of spikes\n",
        "        idx = [n]*len(spkt)  # Create vector for neuron ID number the same length as time\n",
        "        spkn = np.concatenate([[idx], [spkt]], axis=0).T  # Combine tw lists\n",
        "        if len(spkn) > 0:\n",
        "            spks.append(spkn)\n",
        "    spks = np.concatenate(spks, axis=0)\n",
        "    return spks\n",
        "\n",
        "\n",
        "N = 50  # number of presynaptic neurons\n",
        "spks = poisson_spikes(t1=0, t2=1000, N=N, rate=15, dt=0.1)\n",
        "\n",
        "plt.figure(figsize=(10, 6))\n",
        "for i in range(N):\n",
        "  plt.scatter(spks[spks[:, 0]==i][:,1],\n",
        "              i*np.ones(len(spks[spks[:, 0]==i][:,1])),\n",
        "              color='k')\n",
        "plt.xlabel('time (ms)')\n",
        "plt.ylabel('neuron id')\n",
        "plt.show()"
      ],
      "metadata": {
        "id": "Hgw6MA1M8UQG"
      },
      "execution_count": null,
      "outputs": []
    },
    {
      "cell_type": "markdown",
      "source": [
        "### How we load external inputs on NEURON with `VecStim`."
      ],
      "metadata": {
        "id": "NeLcTq62Bn5l"
      }
    },
    {
      "cell_type": "code",
      "source": [
        "spiketimes = spks[spks[:, 0]==i][:,1]\n",
        "vecSpikes = h.Vector(spiketimes)\n",
        "vecStim = h.VecStim()\n",
        "vecStim.play(vecSpikes)"
      ],
      "metadata": {
        "id": "zli-sIQ79C77"
      },
      "execution_count": null,
      "outputs": []
    },
    {
      "cell_type": "markdown",
      "source": [
        "### Create a new `Section`."
      ],
      "metadata": {
        "id": "3GKD-eGEBtmz"
      }
    },
    {
      "cell_type": "code",
      "source": [
        "soma = h.Section(name='soma')\n",
        "soma.L = 10\n",
        "soma.diam = 10\n",
        "soma.nseg = 11\n",
        "soma.Ra = 250\n",
        "soma.cm = 1\n",
        "\n",
        "soma.insert('hh')\n",
        "for seg in soma:\n",
        "  seg.hh.gnabar = 0.12  # Sodium conductance in S/cm2\n",
        "  seg.hh.gkbar = 0.036  # Potassium conductance in S/cm2\n",
        "  seg.hh.gl = 0.0003    # Leak conductance in S/cm2\n",
        "  seg.hh.el = -54.3     # Reversal potential in mV\n",
        "\n",
        "dend = h.Section(name='dend')\n",
        "dend.L = 500\n",
        "dend.diam = 3\n",
        "dend.nseg = 11\n",
        "dend.Ra = 250\n",
        "dend.cm = 1.4\n",
        "\n",
        "# Insert passive current in the dendrite\n",
        "dend.insert('pas')                 \n",
        "for seg in dend:\n",
        "  seg.pas.g = 0.001  # Passive conductance in S/cm2\n",
        "  seg.pas.e = -65    # Leak reversal potential mV"
      ],
      "metadata": {
        "id": "Mg0s6W-49DbC"
      },
      "execution_count": null,
      "outputs": []
    },
    {
      "cell_type": "markdown",
      "source": [
        "### Let's connect our compartments!\n",
        "\n",
        "```python\n",
        "child.connect(parent, [0 or 1])\n",
        "child.connect(parent(x), [0 or 1])\n",
        "```\n",
        "\n",
        "The first form connects the child at end 0 or 1 to the parent section at position x. By default the child end 0 connects to the parent end 1. An alternative syntax is the second form in which the location on the parent section is indicated. If a section is connected twice a Notice is printed on the standard error device saying that the section has been reconnected (the last connection takes precedence). To avoid the notice, disconnect the section first with the function `disconnect()`. If sections are inadvertently connected in a loop, an error will be generated when the internal data structures are created and the user will be required to disconnect one of the sections forming the loop.\n",
        "\n",
        "```python\n",
        "soma = h.Section(name='soma')\n",
        "axon = h.Section(name='axon')\n",
        "axon.connect(soma(0), 0)\n",
        "```\n",
        "\n",
        "This means that we connect the Section `axon` @ 0 with `soma` @ 0."
      ],
      "metadata": {
        "id": "YRbOTg28CKqs"
      }
    },
    {
      "cell_type": "code",
      "source": [
        "dend.connect(soma(0.5), 0)"
      ],
      "metadata": {
        "id": "yQQxnl2mCOWg"
      },
      "execution_count": null,
      "outputs": []
    },
    {
      "cell_type": "markdown",
      "source": [
        "### Create a synapse"
      ],
      "metadata": {
        "id": "Lx4g1KejCUEr"
      }
    },
    {
      "cell_type": "code",
      "source": [
        "syn_2 = h.ExpSyn(dend(1))\n",
        "syn_2.tau = 20\n",
        "\n",
        "ncstim2 = h.NetCon(vecStim, syn_2)\n",
        "ncstim2.delay = 1\n",
        "ncstim2.weight[0] = 0.01  # NetCon weight is a vector."
      ],
      "metadata": {
        "id": "8he7yqYfCWNu"
      },
      "execution_count": null,
      "outputs": []
    },
    {
      "cell_type": "code",
      "source": [
        "v_vec_d = h.Vector().record(dend(0.5)._ref_v)  # Membrane potential vector\n",
        "v_vec_s = h.Vector().record(soma(0.5)._ref_v)  # Membrane potential vector\n",
        "t_vec = h.Vector().record(h._ref_t)  # Time stamp vector\n",
        "\n",
        "myinit()\n",
        "h.continuerun(1000 * ms)\n",
        "\n",
        "plt.figure(figsize=(10, 6))\n",
        "plt.plot(t_vec, v_vec_s, label='soma')\n",
        "plt.plot(t_vec, v_vec_d, label='dend')\n",
        "plt.xlabel('time (ms)')\n",
        "plt.ylabel('mV')\n",
        "plt.legend()\n",
        "plt.show()"
      ],
      "metadata": {
        "id": "rUJVaZZ9-LjM"
      },
      "execution_count": null,
      "outputs": []
    }
  ]
}
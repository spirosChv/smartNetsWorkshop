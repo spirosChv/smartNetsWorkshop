{
  "nbformat": 4,
  "nbformat_minor": 0,
  "metadata": {
    "colab": {
      "name": "practical2_basicNeuron.ipynb",
      "provenance": [],
      "authorship_tag": "ABX9TyNvPdTmJe4IhIKwoN3sX831",
      "include_colab_link": true
    },
    "kernelspec": {
      "name": "python3",
      "display_name": "Python 3"
    },
    "language_info": {
      "name": "python"
    }
  },
  "cells": [
    {
      "cell_type": "markdown",
      "metadata": {
        "id": "view-in-github",
        "colab_type": "text"
      },
      "source": [
        "<a href=\"https://colab.research.google.com/github/spirosChv/smartNetsWorkshop/blob/main/neuron/practical2_basicNeuron.ipynb\" target=\"_parent\"><img src=\"https://colab.research.google.com/assets/colab-badge.svg\" alt=\"Open In Colab\"/></a>"
      ]
    },
    {
      "cell_type": "markdown",
      "source": [
        "# The NEURON Simulator"
      ],
      "metadata": {
        "id": "TJphcoOuSR5S"
      }
    },
    {
      "cell_type": "markdown",
      "source": [
        "NEURON is a simulator for neurons and networks of neurons that runs efficiently on your local machine, in the cloud, or on an HPC. Build and simulate models using Python, HOC, and/or NEURON’s graphical interface."
      ],
      "metadata": {
        "id": "X-HYq4vPScVe"
      }
    },
    {
      "cell_type": "code",
      "execution_count": 1,
      "metadata": {
        "colab": {
          "base_uri": "https://localhost:8080/"
        },
        "id": "mMmayTyRSO44",
        "outputId": "f4bae4e9-49ac-48e8-8b7a-43f7788303c4"
      },
      "outputs": [
        {
          "output_type": "stream",
          "name": "stdout",
          "text": [
            "\u001b[K     |████████████████████████████████| 15.0 MB 39.7 MB/s \n",
            "\u001b[?25h"
          ]
        }
      ],
      "source": [
        "!pip install neuron --quiet"
      ]
    },
    {
      "cell_type": "markdown",
      "source": [
        "## Step 1: Import the neuron module into Python.\n",
        "\n",
        "We begin by loading NEURON’s h module."
      ],
      "metadata": {
        "id": "3zIM0XlASWkd"
      }
    },
    {
      "cell_type": "code",
      "source": [
        "from neuron import h\n",
        "h.load_file('stdrun.hoc')"
      ],
      "metadata": {
        "id": "ftqaQMjSS8nr"
      },
      "execution_count": 2,
      "outputs": []
    },
    {
      "cell_type": "markdown",
      "source": [
        "## Step 2: Create a cell\n",
        "\n",
        "We create a simple model cell as a NEURON `Section`. Evaluate the line below:"
      ],
      "metadata": {
        "id": "dBaT4tptS-YI"
      }
    },
    {
      "cell_type": "code",
      "source": [
        "soma = h.Section(name='soma')"
      ],
      "metadata": {
        "id": "XyQ5hwX5TX-S"
      },
      "execution_count": null,
      "outputs": []
    },
    {
      "cell_type": "markdown",
      "source": [
        "### Aside 1: NEURON’s psection() function.\n",
        "\n",
        "NEURON’s `psection()` (short for “print section”) function can provide a lot of detail on sections. Let’s validate that we have a soma and view some of its properties."
      ],
      "metadata": {
        "id": "DOrLfGdvTg0J"
      }
    },
    {
      "cell_type": "code",
      "source": [
        "h.psection()"
      ],
      "metadata": {
        "id": "hGYW582ZTkyI"
      },
      "execution_count": null,
      "outputs": []
    },
    {
      "cell_type": "markdown",
      "source": [
        "The results tell us the soma is a cylinder with length $100 microns$, diameter $500 microns$, axial resistivity $35.4 ohm*cm$, and specific membrance capacitance $1 \\mu F/cm^2$"
      ],
      "metadata": {
        "id": "GxTe9clPTmYT"
      }
    },
    {
      "cell_type": "markdown",
      "source": [
        "### Aside 2: Python’s dir() function.\n",
        "\n",
        "We can also probe objects with Python’s built-in `dir()` function. Let’s see what it says about soma."
      ],
      "metadata": {
        "id": "ntxEPBR0Tyo3"
      }
    },
    {
      "cell_type": "code",
      "source": [
        "dir(soma)"
      ],
      "metadata": {
        "id": "jGf5cM09TyIw"
      },
      "execution_count": null,
      "outputs": []
    },
    {
      "cell_type": "markdown",
      "source": [
        "This tells us all of the Python methods and variables associated with the object. Any methods with two leading and trailing underscores are reserved by Python and may or may not be implemented by the object. The other items in the list are additional members of soma that we can call. To see all of the functions available to the neuron variable h, try calling `dir(h)`."
      ],
      "metadata": {
        "id": "lW__KakmT7KV"
      }
    },
    {
      "cell_type": "markdown",
      "source": [
        "### Aside 3: Getting more help.\n",
        "\n",
        "In addition to probing objects with `dir()`, help from docstrings is available using `help()`.\n",
        "\n",
        "```python\n",
        "help(object_or_variable)\n",
        "```\n",
        "\n",
        "For example, from `dir(soma)`, we know that `connect` is available. Let’s inquire about that."
      ],
      "metadata": {
        "id": "VpwdongcT_LR"
      }
    },
    {
      "cell_type": "code",
      "source": [
        "help(soma.connect)"
      ],
      "metadata": {
        "id": "XioQxfROT6kR"
      },
      "execution_count": 2,
      "outputs": []
    },
    {
      "cell_type": "markdown",
      "source": [
        "## Step 3: Biophysical Mechanisms\n",
        "\n",
        "NEURON comes with a few built in biophysical mechanisms that can be added to a model.\n",
        "\n",
        "- `pas`: Passive (“leak”) channel.\n",
        "- `extracellular`: For simulating effects of nonzero extracellular potential, as may happen with leaky patch clamps, or detailed propertes of the myelin sheath.\n",
        "- `hh`:\tHodgkin-Huxley sodium, potassium, and leakage channels."
      ],
      "metadata": {
        "id": "omIVOTA8UQIN"
      }
    },
    {
      "cell_type": "markdown",
      "source": [
        "### Aside 3: Insert a passive mechanism.\n",
        "\n",
        "We see from the list of elements after calling `dir(soma)` that `insert` is available. This is the method we will use to insert mechanisms into the membrane. Let’s insert a passive leak conductance across the membrane and do this by passing `pas` as the mechanism type:"
      ],
      "metadata": {
        "id": "mhoMw9wyUl-o"
      }
    },
    {
      "cell_type": "code",
      "source": [
        "soma.insert('pas')"
      ],
      "metadata": {
        "id": "NleYGjQ7US7d"
      },
      "execution_count": 2,
      "outputs": []
    },
    {
      "cell_type": "markdown",
      "source": [
        "### IMPORTANT: Sections and segments.\n",
        "\n",
        "A NEURON Section is considered a piece of cylindrical cable. Depending on the resolution desired, it may be necessary to divide the cable into a number of segments where voltage varies linearly between centers of adjacent segments. The number of segments within a section is given by the variable, `nseg`. The total ionic current across the segment membrane is approximately the area of the segment multiplied by the ionic current density at the center of the segment. To access a part of the section, specify a value between 0 and 1, where 0 is typically the end closest to the soma and 1 is the distal end. Because nseg divides the cable into equal-length parts, it should be an odd number so that to address the middle of the cable, (0.5), gives the middle segment.\n",
        "\n",
        "To summarize, we access sections by their name and segments by some location on the section.\n",
        "\n",
        "Section: `section`\n",
        "Segment: `section(loc)`\n",
        "\n",
        "\n",
        "Using the Python `type()` function can tell us what a variable is:"
      ],
      "metadata": {
        "id": "iHUXutQpUvqp"
      }
    },
    {
      "cell_type": "code",
      "source": [
        "print(\"type(soma) = {}\".format(type(soma)))\n",
        "print(\"type(soma(0.5)) ={}\".format(type(soma(0.5))))"
      ],
      "metadata": {
        "id": "EB_SRDvuU-Hk"
      },
      "execution_count": null,
      "outputs": []
    },
    {
      "cell_type": "markdown",
      "source": [
        "### Aside 4: Accessing segment variables.\n",
        "\n",
        "Segment variables follow the idiom:\n",
        "\n",
        "```python\n",
        "section(loc).var\n",
        "```\n",
        "\n",
        "And for mechanisms on the segment:\n",
        "\n",
        "```python\n",
        "section(loc).mech.var\n",
        "```\n",
        "\n",
        "or\n",
        "\n",
        "```python\n",
        "section(loc).var_mech\n",
        "```\n",
        "\n",
        "The first form is preferred."
      ],
      "metadata": {
        "id": "7nlg7jmjU_oy"
      }
    },
    {
      "cell_type": "code",
      "source": [
        "mech = soma(0.5).pas\n",
        "print(dir(mech))"
      ],
      "metadata": {
        "id": "lJIkmbsHVMFA"
      },
      "execution_count": null,
      "outputs": []
    },
    {
      "cell_type": "code",
      "source": [
        "print(mech.g)\n",
        "print(soma(0.5).pas.g)"
      ],
      "metadata": {
        "id": "PkGpOiCMVMy9"
      },
      "execution_count": null,
      "outputs": []
    },
    {
      "cell_type": "markdown",
      "source": [
        "## Step 4: Insert an alpha synapse.\n",
        "\n",
        "Let’s insert an AlphaSynapse object onto the soma to induce some membrane dynamics."
      ],
      "metadata": {
        "id": "75GMgreyVRcg"
      }
    },
    {
      "cell_type": "code",
      "source": [
        "asyn = h.AlphaSynapse(soma(0.5))"
      ],
      "metadata": {
        "id": "8RffSTOXVQsb"
      },
      "execution_count": null,
      "outputs": []
    },
    {
      "cell_type": "markdown",
      "source": [
        "AlphaSynapse is a **Point Process**. Point processes are point sources of current. When making a new PointProcess, you pass the segment to which it will bind.\n",
        "\n",
        "Again, with `dir()` function, we can validate that asyn is an object and contains some useful parameters. Let’s look at some of those parameters."
      ],
      "metadata": {
        "id": "iuK9kOEyVWpj"
      }
    },
    {
      "cell_type": "code",
      "source": [
        "dir(asyn)"
      ],
      "metadata": {
        "id": "3iIPUQXuVc4X"
      },
      "execution_count": null,
      "outputs": []
    },
    {
      "cell_type": "code",
      "source": [
        "print(\"asyn.e = {}\".format(asyn.e))\n",
        "print(\"asyn.gmax = {}\".format(asyn.gmax))\n",
        "print(\"asyn.onset = {}\".format(asyn.onset))\n",
        "print(\"asyn.tau = {}\".format(asyn.tau))"
      ],
      "metadata": {
        "id": "xxoBeayBVfcO"
      },
      "execution_count": null,
      "outputs": []
    },
    {
      "cell_type": "markdown",
      "source": [
        "Let’s assign the onset of this synapse to occur at 20 ms and the maximal conductance to 1."
      ],
      "metadata": {
        "id": "p2YGQQxZVhE6"
      }
    },
    {
      "cell_type": "code",
      "source": [
        "asyn.onset = 20\n",
        "asyn.gmax = 1"
      ],
      "metadata": {
        "id": "g5gPVcOOVh6V"
      },
      "execution_count": null,
      "outputs": []
    },
    {
      "cell_type": "markdown",
      "source": [
        "Let’s look at the state of our cell using neuron’s `psection()`."
      ],
      "metadata": {
        "id": "KoBZ9oC4Vj25"
      }
    },
    {
      "cell_type": "code",
      "source": [
        "h.psection()"
      ],
      "metadata": {
        "id": "OnXjmOA0VlOM"
      },
      "execution_count": null,
      "outputs": []
    },
    {
      "cell_type": "markdown",
      "source": [
        "## Step 5: Set up recording variables.\n",
        "\n",
        "The cell should be configured to run a simulation. However, we need to set up variables we wish to record from the simulation. For now, we will record the membrane potential, which is `soma(0.5).v`. References to variables are available as `_ref_rangevariable`."
      ],
      "metadata": {
        "id": "g090t9CdVpQz"
      }
    },
    {
      "cell_type": "code",
      "source": [
        "v_vec = h.Vector().record(soma(0.5)._ref_v)  # Membrane potential vector\n",
        "t_vec = h.Vector().record(h._ref_t)  # Time stamp vector"
      ],
      "metadata": {
        "id": "9VwGUNoJVvqg"
      },
      "execution_count": null,
      "outputs": []
    },
    {
      "cell_type": "markdown",
      "source": [
        "## Step 6: Run the simulation.\n",
        "\n",
        "To run the simulation, we execute the following lines."
      ],
      "metadata": {
        "id": "x_UiNpYEV32D"
      }
    },
    {
      "cell_type": "code",
      "source": [
        "h.tstop = 40.0\n",
        "h.run()"
      ],
      "metadata": {
        "id": "nb9x6qiQV7R1"
      },
      "execution_count": null,
      "outputs": []
    },
    {
      "cell_type": "markdown",
      "source": [
        "**Note:** If we had not included gui in the list of things to import, we would have also had to execute:\n",
        "\n",
        "`h.load_file('stdrun.hoc')`\n",
        "\n",
        "which defines the `run()` function (the alternative would be to specify initialization and advance in more detail)."
      ],
      "metadata": {
        "id": "hg8nnot3V-ar"
      }
    },
    {
      "cell_type": "markdown",
      "source": [
        "## Step 7: Plot the results.\n",
        "\n",
        "We utilize the pyplot module from the matplotlib Python package to visualize the output."
      ],
      "metadata": {
        "id": "TtWKITfXWKtb"
      }
    },
    {
      "cell_type": "code",
      "source": [
        "import matplotlib.pyplot as plt\n",
        "plt.figure(figsize=(8, 4))\n",
        "plt.plot(t_vec, v_vec)\n",
        "plt.xlabel('time (ms)')\n",
        "plt.ylabel('mV')\n",
        "plt.show()"
      ],
      "metadata": {
        "id": "9rrwwrR6WVdV"
      },
      "execution_count": null,
      "outputs": []
    },
    {
      "cell_type": "markdown",
      "source": [
        "The last line displays the graph and allows you to interact with it (zoom, pan, save, etc). NEURON and Python will wait until you close the figure window to proceed."
      ],
      "metadata": {
        "id": "TfZttHwIWZMD"
      }
    },
    {
      "cell_type": "markdown",
      "source": [
        "## Step 8: Saving and restoring results.\n",
        "\n",
        "NEURON Vector objects can be pickled. This allows them to be stored to disk and restored later:\n",
        "\n",
        "Saving:"
      ],
      "metadata": {
        "id": "X9tSQCbEWa7K"
      }
    },
    {
      "cell_type": "code",
      "source": [
        "# Pickle\n",
        "import pickle\n",
        "with open('t_vec.p', 'wb') as t_vec_file:\n",
        "  pickle.dump(t_vec, t_vec_file)\n",
        "with open('v_vec.p', 'wb') as v_vec_file:\n",
        "  pickle.dump(v_vec, v_vec_file)"
      ],
      "metadata": {
        "id": "aScowyQfWaX_"
      },
      "execution_count": null,
      "outputs": []
    },
    {
      "cell_type": "code",
      "source": [
        "# Unpickle\n",
        "with open('t_vec.p', 'rb') as t_vec_file:\n",
        "  t_vec = pickle.load(t_vec_file)\n",
        "with open('v_vec.p', 'rb') as vec_file:\n",
        "  v_vec = pickle.load(vec_file)\n",
        "\n",
        "# Confirm\n",
        "plt.figure(figsize=(8,4)) # Default figsize is (8,6)\n",
        "plt.plot(t_vec, v_vec)\n",
        "plt.xlabel('time (ms)')\n",
        "plt.ylabel('mV')\n",
        "plt.show()"
      ],
      "metadata": {
        "id": "MTdVplY-WkuY"
      },
      "execution_count": null,
      "outputs": []
    }
  ]
}
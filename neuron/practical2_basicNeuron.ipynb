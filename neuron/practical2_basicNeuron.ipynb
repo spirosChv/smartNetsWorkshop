{
  "nbformat": 4,
  "nbformat_minor": 0,
  "metadata": {
    "colab": {
      "name": "practical2_basicNeuron.ipynb",
      "provenance": [],
      "authorship_tag": "ABX9TyNUuwxGikwZi35Lo62Tnnay",
      "include_colab_link": true
    },
    "kernelspec": {
      "name": "python3",
      "display_name": "Python 3"
    },
    "language_info": {
      "name": "python"
    }
  },
  "cells": [
    {
      "cell_type": "markdown",
      "metadata": {
        "id": "view-in-github",
        "colab_type": "text"
      },
      "source": [
        "<a href=\"https://colab.research.google.com/github/spirosChv/smartNetsWorkshop/blob/main/neuron/practical2_basicNeuron.ipynb\" target=\"_parent\"><img src=\"https://colab.research.google.com/assets/colab-badge.svg\" alt=\"Open In Colab\"/></a>"
      ]
    },
    {
      "cell_type": "markdown",
      "source": [
        "# The NEURON Simulator"
      ],
      "metadata": {
        "id": "TJphcoOuSR5S"
      }
    },
    {
      "cell_type": "code",
      "source": [
        "# @title Make nicer plots -- Execute this cell\n",
        "import matplotlib.pyplot as plt\n",
        "\n",
        "\n",
        "def mystyle():\n",
        "  \"\"\"\n",
        "  Create custom plotting style.\n",
        "\n",
        "  Returns\n",
        "  -------\n",
        "  my_style : dict\n",
        "      Dictionary with matplotlib parameters.\n",
        "\n",
        "  \"\"\"\n",
        "  # color pallette\n",
        "  style = {\n",
        "      # Use LaTeX to write all text\n",
        "      \"text.usetex\": False,\n",
        "      \"font.family\": \"DejaVu Sans\",\n",
        "      \"font.weight\": \"bold\",\n",
        "      # Use 16pt font in plots, to match 16pt font in document\n",
        "      \"axes.labelsize\": 16,\n",
        "      \"axes.titlesize\": 20,\n",
        "      \"font.size\": 16,\n",
        "      # Make the legend/label fonts a little smaller\n",
        "      \"legend.fontsize\": 14,\n",
        "      \"xtick.labelsize\": 14,\n",
        "      \"ytick.labelsize\": 14,\n",
        "      \"axes.linewidth\": 2.5,\n",
        "      \"lines.markersize\": 10.0,\n",
        "      \"lines.linewidth\": 2.5,\n",
        "      \"xtick.major.width\": 2.2,\n",
        "      \"ytick.major.width\": 2.2,\n",
        "      \"axes.labelweight\": \"bold\",\n",
        "      \"axes.spines.right\": False,\n",
        "      \"axes.spines.top\": False\n",
        "  }\n",
        "\n",
        "  return style\n",
        "\n",
        "\n",
        "plt.style.use(\"seaborn-colorblind\")\n",
        "plt.rcParams.update(mystyle())"
      ],
      "metadata": {
        "cellView": "form",
        "id": "EM09o8MRDOdh"
      },
      "execution_count": 56,
      "outputs": []
    },
    {
      "cell_type": "markdown",
      "source": [
        "# What is NEURON?\n",
        "\n",
        "The NEURON simulation environment is a powerful engine for performing simulations of neurons and biophysical neural networks. It permits the construction of biologically realistic membranes with active and passive ion channels, combined with virtual connectivity and electrophysiology tools to drive and measure neuron and network behaviors."
      ],
      "metadata": {
        "id": "X-HYq4vPScVe"
      }
    },
    {
      "cell_type": "code",
      "execution_count": 57,
      "metadata": {
        "id": "mMmayTyRSO44"
      },
      "outputs": [],
      "source": [
        "!pip install neuron --quiet"
      ]
    },
    {
      "cell_type": "markdown",
      "source": [
        "## Step 1: Import the neuron module into Python.\n",
        "\n",
        "We begin by loading NEURON’s h module."
      ],
      "metadata": {
        "id": "3zIM0XlASWkd"
      }
    },
    {
      "cell_type": "code",
      "source": [
        "import neuron\n",
        "print(neuron.__version__)"
      ],
      "metadata": {
        "id": "baE-naJzGbOU",
        "outputId": "3159d2f9-0772-4db4-d199-df823986c0d0",
        "colab": {
          "base_uri": "https://localhost:8080/"
        }
      },
      "execution_count": 58,
      "outputs": [
        {
          "output_type": "stream",
          "name": "stdout",
          "text": [
            "8.1.0\n"
          ]
        }
      ]
    },
    {
      "cell_type": "markdown",
      "source": [
        "There are only a limited number of functions avaiable directly from the neuron module. In practice, we usually want to directly import the submodules we need; i.e., do something like the below instead:"
      ],
      "metadata": {
        "id": "oWTIPX0aGhHT"
      }
    },
    {
      "cell_type": "code",
      "source": [
        "from neuron import h"
      ],
      "metadata": {
        "id": "ftqaQMjSS8nr"
      },
      "execution_count": 59,
      "outputs": []
    },
    {
      "cell_type": "markdown",
      "source": [
        "When using NEURON, you will always want the h submodule. You may or may not need to import the additional submodules mentioned above. If you do, they can be imported separately or loaded in one line with a comma separated list, as in:"
      ],
      "metadata": {
        "id": "4xaBoELVGnIx"
      }
    },
    {
      "cell_type": "code",
      "source": [
        "from neuron import h, rxd"
      ],
      "metadata": {
        "id": "WU_Pxn9mGpC1"
      },
      "execution_count": 60,
      "outputs": []
    },
    {
      "cell_type": "markdown",
      "source": [
        "NEURON assumes certain default units (concentration in mM, time in ms, voltage in mV), but units can be specified explicitly by importing unit definitions from neuron.units. Even if you are using the default units, being explicit makes your code more readable by others. For example:"
      ],
      "metadata": {
        "id": "zAwdS2tRGspq"
      }
    },
    {
      "cell_type": "code",
      "source": [
        "from neuron.units import ms, mV"
      ],
      "metadata": {
        "id": "9eBBbU3cGuKr"
      },
      "execution_count": 61,
      "outputs": []
    },
    {
      "cell_type": "markdown",
      "source": [
        "If the above gives you an error, then you are using a version of NEURON older than 7.7. Update before proceeding."
      ],
      "metadata": {
        "id": "WGSENtrdGvqk"
      }
    },
    {
      "cell_type": "markdown",
      "source": [
        "## Step 2: Create a cell\n",
        "\n",
        "A `Section` is the basic morphological building-block in NEURON. We typically think of a Section as an unbranched cable, but it can also be used to represent a soma. Thus a simple model neuron with only a soma can be created as in:"
      ],
      "metadata": {
        "id": "dBaT4tptS-YI"
      }
    },
    {
      "cell_type": "code",
      "source": [
        "soma = h.Section(name='soma')"
      ],
      "metadata": {
        "id": "XyQ5hwX5TX-S"
      },
      "execution_count": 62,
      "outputs": []
    },
    {
      "cell_type": "markdown",
      "source": [
        "Aside 1: NEURON's `h.topology` function.\n",
        "\n",
        "NEURON's `h.topology()` function displays the topological structure of the entire model, indicating which sections are connected to which sections, where they are connected, and how many segments each section is divided into.\n",
        "\n",
        "If you're following along with our example, there's not much to see yet since there is only one section, but it does demonstrate that the soma has been created and has one segment (one dash is shown):"
      ],
      "metadata": {
        "id": "JMccbxMEG515"
      }
    },
    {
      "cell_type": "code",
      "source": [
        "h.topology()"
      ],
      "metadata": {
        "id": "5kJQdUORG5Qz",
        "outputId": "199e81f7-d6b0-45c2-cadd-49aa1787c4f8",
        "colab": {
          "base_uri": "https://localhost:8080/"
        }
      },
      "execution_count": 63,
      "outputs": [
        {
          "output_type": "stream",
          "name": "stdout",
          "text": [
            "\n",
            "|-|       soma(0-1)\n",
            "|-|       soma(0-1)\n",
            "|-|       soma(0-1)\n",
            "\n"
          ]
        },
        {
          "output_type": "execute_result",
          "data": {
            "text/plain": [
              "1.0"
            ]
          },
          "metadata": {},
          "execution_count": 63
        }
      ]
    },
    {
      "cell_type": "markdown",
      "source": [
        "The `h.topology()` function displays its data to screen and returns 1.0 indicating success (this function always succeeds). Note: This function is only for displaying data; other methods must be used to store the data in a variable for programmatic analysis."
      ],
      "metadata": {
        "id": "T7cqBpoIHBOM"
      }
    },
    {
      "cell_type": "markdown",
      "source": [
        "### Aside 2: NEURON’s psection() function.\n",
        "\n",
        "Every NEURON section has a `psection` method (think: properties of the section) that returns a Python dictionary providing a structured data representation of the properties of the section.\n",
        "\n",
        "For example, we can query the soma via:"
      ],
      "metadata": {
        "id": "DOrLfGdvTg0J"
      }
    },
    {
      "cell_type": "code",
      "source": [
        "soma.psection()"
      ],
      "metadata": {
        "id": "hGYW582ZTkyI",
        "outputId": "c6054dc2-e1af-487c-b7b1-4fc1714bbc78",
        "colab": {
          "base_uri": "https://localhost:8080/"
        }
      },
      "execution_count": 64,
      "outputs": [
        {
          "output_type": "execute_result",
          "data": {
            "text/plain": [
              "{'Ra': 35.4,\n",
              " 'cell': None,\n",
              " 'cm': [1.0],\n",
              " 'density_mechs': {},\n",
              " 'hoc_internal_name': '__nrnsec_0x37b40c0',\n",
              " 'ions': {},\n",
              " 'morphology': {'L': 100.0,\n",
              "  'diam': [500.0],\n",
              "  'parent': None,\n",
              "  'pts3d': [],\n",
              "  'trueparent': None},\n",
              " 'name': 'soma',\n",
              " 'nseg': 1,\n",
              " 'point_processes': {},\n",
              " 'regions': set(),\n",
              " 'species': set()}"
            ]
          },
          "metadata": {},
          "execution_count": 64
        }
      ]
    },
    {
      "cell_type": "markdown",
      "source": [
        "The results tell us the soma is a cylinder with length $100 microns$, diameter $500 microns$, axial resistivity $35.4 ohm*cm$, and specific membrance capacitance $1 \\mu F/cm^2$"
      ],
      "metadata": {
        "id": "GxTe9clPTmYT"
      }
    },
    {
      "cell_type": "markdown",
      "source": [
        "**Note:** calling this method does not itself print anything to the screen. Instead it returns a dictionary. We see the contents of the dictionary only because we are running interactively; from a script, nothing would be printed unless we explicitly printed it with print, or, better pretty-printed it with pprint.pprint."
      ],
      "metadata": {
        "id": "12MtNG-YHNY6"
      }
    },
    {
      "cell_type": "markdown",
      "source": [
        "Since this is a dictionary, we can extract any properties we want using square brackets. For example, the length of the section is:"
      ],
      "metadata": {
        "id": "KH6IH_B9HRv2"
      }
    },
    {
      "cell_type": "code",
      "source": [
        "soma.psection()['morphology']['L']"
      ],
      "metadata": {
        "id": "mhd2x2xZHSt0",
        "outputId": "23e88594-3eeb-4605-e015-753c4eb5b6b0",
        "colab": {
          "base_uri": "https://localhost:8080/"
        }
      },
      "execution_count": 65,
      "outputs": [
        {
          "output_type": "execute_result",
          "data": {
            "text/plain": [
              "100.0"
            ]
          },
          "metadata": {},
          "execution_count": 65
        }
      ]
    },
    {
      "cell_type": "markdown",
      "source": [
        "All of these values can be individually accessed in more efficient ways, but psection provides an overview of the full properties of the section.\n",
        "\n",
        "For example, the length of the soma is more efficiently available (and settable) via:"
      ],
      "metadata": {
        "id": "Yx2zFvG6HVMZ"
      }
    },
    {
      "cell_type": "code",
      "source": [
        "soma.L"
      ],
      "metadata": {
        "id": "luiIgLVGHV_K",
        "outputId": "a8a21759-1bcc-47d9-e8a9-402560b9de11",
        "colab": {
          "base_uri": "https://localhost:8080/"
        }
      },
      "execution_count": 66,
      "outputs": [
        {
          "output_type": "execute_result",
          "data": {
            "text/plain": [
              "100.0"
            ]
          },
          "metadata": {},
          "execution_count": 66
        }
      ]
    },
    {
      "cell_type": "markdown",
      "source": [
        "`soma.psection()['morphology']['diam']` is a list (of length 1 here), with each entry corresponding to the value for each segment. Similarly for `soma.psection()['cm']`, etc.\n",
        "\n",
        "Important: You may have noticed that the default diameter is $500 \\mu m$, which is excessively large for mammalian neurons. It's the default because it's appropriate for the squid giant axons studied by Hodgkin and Huxley. NEURON also uses squid-relevant values for axial resistivity (soma.Ra) and temperature (`h.celsius`). These should all be adjusted for mammalian models."
      ],
      "metadata": {
        "id": "Hyz_QjRDHZOO"
      }
    },
    {
      "cell_type": "markdown",
      "source": [
        "### Aside 3: Python’s dir() function.\n",
        "\n",
        "We can also probe objects with Python’s built-in `dir()` function. Let’s see what it says about soma."
      ],
      "metadata": {
        "id": "ntxEPBR0Tyo3"
      }
    },
    {
      "cell_type": "code",
      "source": [
        "dir(soma)"
      ],
      "metadata": {
        "id": "jGf5cM09TyIw",
        "outputId": "a63e0868-2a5a-4d12-b64d-d718d4cf2074",
        "colab": {
          "base_uri": "https://localhost:8080/"
        }
      },
      "execution_count": 67,
      "outputs": [
        {
          "output_type": "execute_result",
          "data": {
            "text/plain": [
              "['L',\n",
              " 'Ra',\n",
              " '__call__',\n",
              " '__class__',\n",
              " '__contains__',\n",
              " '__delattr__',\n",
              " '__dir__',\n",
              " '__doc__',\n",
              " '__eq__',\n",
              " '__format__',\n",
              " '__ge__',\n",
              " '__getattribute__',\n",
              " '__gt__',\n",
              " '__hash__',\n",
              " '__init__',\n",
              " '__init_subclass__',\n",
              " '__iter__',\n",
              " '__le__',\n",
              " '__lt__',\n",
              " '__module__',\n",
              " '__ne__',\n",
              " '__new__',\n",
              " '__reduce__',\n",
              " '__reduce_ex__',\n",
              " '__repr__',\n",
              " '__setattr__',\n",
              " '__sizeof__',\n",
              " '__str__',\n",
              " '__subclasshook__',\n",
              " 'allseg',\n",
              " 'arc3d',\n",
              " 'cell',\n",
              " 'children',\n",
              " 'connect',\n",
              " 'diam3d',\n",
              " 'disconnect',\n",
              " 'has_membrane',\n",
              " 'hname',\n",
              " 'hoc_internal_name',\n",
              " 'insert',\n",
              " 'is_pysec',\n",
              " 'n3d',\n",
              " 'name',\n",
              " 'nseg',\n",
              " 'orientation',\n",
              " 'parentseg',\n",
              " 'psection',\n",
              " 'pt3dadd',\n",
              " 'pt3dchange',\n",
              " 'pt3dclear',\n",
              " 'pt3dinsert',\n",
              " 'pt3dremove',\n",
              " 'pt3dstyle',\n",
              " 'push',\n",
              " 'rallbranch',\n",
              " 'same',\n",
              " 'spine3d',\n",
              " 'subtree',\n",
              " 'trueparentseg',\n",
              " 'uninsert',\n",
              " 'wholetree',\n",
              " 'x3d',\n",
              " 'y3d',\n",
              " 'z3d']"
            ]
          },
          "metadata": {},
          "execution_count": 67
        }
      ]
    },
    {
      "cell_type": "markdown",
      "source": [
        "This tells us all of the Python methods and variables associated with the object. Any methods with two leading and trailing underscores are reserved by Python and may or may not be implemented by the object. The other items in the list are additional members of soma that we can call. To see all of the functions available to the neuron variable h, try calling `dir(h)`."
      ],
      "metadata": {
        "id": "lW__KakmT7KV"
      }
    },
    {
      "cell_type": "markdown",
      "source": [
        "### Aside 4: Getting more help.\n",
        "\n",
        "In addition to probing objects with `dir()`, help from docstrings is available using `help()`.\n",
        "\n",
        "```python\n",
        "help(object_or_variable)\n",
        "```\n",
        "\n",
        "For example, from `dir(soma)`, we know that `connect` is available. Let’s inquire about that."
      ],
      "metadata": {
        "id": "VpwdongcT_LR"
      }
    },
    {
      "cell_type": "code",
      "source": [
        "help(soma.connect)"
      ],
      "metadata": {
        "id": "XioQxfROT6kR",
        "outputId": "e6322c81-aede-4815-d20b-7c1220457913",
        "colab": {
          "base_uri": "https://localhost:8080/"
        }
      },
      "execution_count": 68,
      "outputs": [
        {
          "output_type": "stream",
          "name": "stdout",
          "text": [
            "Help on built-in function connect:\n",
            "\n",
            "connect(...) method of nrn.Section instance\n",
            "    childSection.connect(parentSection, [parentX], [childEnd]) or\n",
            "    childSection.connect(parentSegment, [childEnd])\n",
            "\n"
          ]
        }
      ]
    },
    {
      "cell_type": "markdown",
      "source": [
        "## Step 3: Set the cell's morphological properties\n",
        "\n",
        "Since we're simulating a soma, the default length of $100 \\mu m$ and diameter of $500 \\mu m$ are inappropriate. Let's set the length (`L`) and diameter (`diam`) to $20 \\mu m$ instead:"
      ],
      "metadata": {
        "id": "TYWywERVH23H"
      }
    },
    {
      "cell_type": "code",
      "source": [
        "soma.L = 20\n",
        "soma.diam = 20"
      ],
      "metadata": {
        "id": "OO06fqYVIOIw"
      },
      "execution_count": 69,
      "outputs": []
    },
    {
      "cell_type": "markdown",
      "source": [
        "In many models, you will have cells consisting of many connected sections. In brief, this can be done using the Section's connect method. That will be described in a subsequent part of the tutorial. For now though, we consider only the soma."
      ],
      "metadata": {
        "id": "LilStTHfIQKX"
      }
    },
    {
      "cell_type": "markdown",
      "source": [
        "## Step 4: Biophysical Mechanisms\n",
        "\n",
        "NEURON comes with a few built in biophysical mechanisms that can be added to a model.\n",
        "\n",
        "- `pas`: Passive (“leak”) channel.\n",
        "- `extracellular`: For simulating effects of nonzero extracellular potential, as may happen with leaky patch clamps, or detailed propertes of the myelin sheath.\n",
        "- `hh`:\tHodgkin-Huxley sodium, potassium, and leakage channels."
      ],
      "metadata": {
        "id": "omIVOTA8UQIN"
      }
    },
    {
      "cell_type": "markdown",
      "source": [
        "### Aside 3: Insert a passive mechanism.\n",
        "\n",
        "We see from the list of elements after calling `dir(soma)` that `insert` is available. This is the method we will use to insert mechanisms into the membrane. Let’s insert a passive leak conductance across the membrane and do this by passing `pas` as the mechanism type:"
      ],
      "metadata": {
        "id": "mhoMw9wyUl-o"
      }
    },
    {
      "cell_type": "code",
      "source": [
        "soma.insert('pas')"
      ],
      "metadata": {
        "id": "NleYGjQ7US7d",
        "outputId": "448ee796-c0a1-426f-b195-3d566b3bd3e2",
        "colab": {
          "base_uri": "https://localhost:8080/"
        }
      },
      "execution_count": 70,
      "outputs": [
        {
          "output_type": "execute_result",
          "data": {
            "text/plain": [
              "soma"
            ]
          },
          "metadata": {},
          "execution_count": 70
        }
      ]
    },
    {
      "cell_type": "markdown",
      "source": [
        "### IMPORTANT: Sections and segments.\n",
        "\n",
        "A NEURON Section is considered a piece of cylindrical cable. Depending on the resolution desired, it may be necessary to divide the cable into a number of segments where voltage varies linearly between centers of adjacent segments. The number of segments within a section is given by the variable, `nseg`. The total ionic current across the segment membrane is approximately the area of the segment multiplied by the ionic current density at the center of the segment. To access a part of the section, specify a value between 0 and 1, where 0 is typically the end closest to the soma and 1 is the distal end. Because nseg divides the cable into equal-length parts, it should be an odd number so that to address the middle of the cable, (0.5), gives the middle segment.\n",
        "\n",
        "To summarize, we access sections by their name and segments by some location on the section.\n",
        "\n",
        "Section: `section`\n",
        "Segment: `section(loc)`\n",
        "\n",
        "\n",
        "Using the Python `type()` function can tell us what a variable is:"
      ],
      "metadata": {
        "id": "iHUXutQpUvqp"
      }
    },
    {
      "cell_type": "code",
      "source": [
        "print(\"type(soma) = {}\".format(type(soma)))\n",
        "print(\"type(soma(0.5)) ={}\".format(type(soma(0.5))))"
      ],
      "metadata": {
        "id": "EB_SRDvuU-Hk",
        "outputId": "242cc71d-c0f5-43ac-8914-728212f38e56",
        "colab": {
          "base_uri": "https://localhost:8080/"
        }
      },
      "execution_count": 71,
      "outputs": [
        {
          "output_type": "stream",
          "name": "stdout",
          "text": [
            "type(soma) = <class 'nrn.Section'>\n",
            "type(soma(0.5)) =<class 'nrn.Segment'>\n"
          ]
        }
      ]
    },
    {
      "cell_type": "markdown",
      "source": [
        "### Aside 4: Accessing segment variables.\n",
        "\n",
        "Segment variables follow the idiom:\n",
        "\n",
        "```python\n",
        "section(loc).var\n",
        "```\n",
        "\n",
        "And for mechanisms on the segment:\n",
        "\n",
        "```python\n",
        "section(loc).mech.var\n",
        "```\n",
        "\n",
        "or\n",
        "\n",
        "```python\n",
        "section(loc).var_mech\n",
        "```\n",
        "\n",
        "The first form is preferred."
      ],
      "metadata": {
        "id": "7nlg7jmjU_oy"
      }
    },
    {
      "cell_type": "code",
      "source": [
        "mech = soma(0.5).pas\n",
        "print(dir(mech))"
      ],
      "metadata": {
        "id": "lJIkmbsHVMFA",
        "outputId": "492b9ef2-6eaa-4af5-9681-eb10fb08504b",
        "colab": {
          "base_uri": "https://localhost:8080/"
        }
      },
      "execution_count": 72,
      "outputs": [
        {
          "output_type": "stream",
          "name": "stdout",
          "text": [
            "['__class__', '__delattr__', '__dir__', '__doc__', '__eq__', '__format__', '__ge__', '__getattribute__', '__gt__', '__hash__', '__init__', '__init_subclass__', '__iter__', '__le__', '__lt__', '__module__', '__ne__', '__new__', '__reduce__', '__reduce_ex__', '__repr__', '__setattr__', '__sizeof__', '__str__', '__subclasshook__', 'e', 'g', 'i', 'is_ion', 'name', 'segment']\n"
          ]
        }
      ]
    },
    {
      "cell_type": "code",
      "source": [
        "print(mech.g)\n",
        "print(soma(0.5).pas.g)"
      ],
      "metadata": {
        "id": "PkGpOiCMVMy9",
        "outputId": "bf2550d3-a5d2-48d2-cf84-d3e1aacd6335",
        "colab": {
          "base_uri": "https://localhost:8080/"
        }
      },
      "execution_count": 73,
      "outputs": [
        {
          "output_type": "stream",
          "name": "stdout",
          "text": [
            "0.001\n",
            "0.001\n"
          ]
        }
      ]
    },
    {
      "cell_type": "markdown",
      "source": [
        "## Step 5a: Insert an alpha synapse.\n",
        "\n",
        "Let’s insert an AlphaSynapse object onto the soma to induce some membrane dynamics."
      ],
      "metadata": {
        "id": "75GMgreyVRcg"
      }
    },
    {
      "cell_type": "code",
      "source": [
        "asyn = h.AlphaSynapse(soma(0.5))"
      ],
      "metadata": {
        "id": "8RffSTOXVQsb"
      },
      "execution_count": 74,
      "outputs": []
    },
    {
      "cell_type": "markdown",
      "source": [
        "AlphaSynapse is a **Point Process**. Point processes are point sources of current. When making a new Point Process, you pass the segment to which it will bind.\n",
        "\n",
        "Again, with `dir()` function, we can validate that asyn is an object and contains some useful parameters. Let’s look at some of those parameters."
      ],
      "metadata": {
        "id": "iuK9kOEyVWpj"
      }
    },
    {
      "cell_type": "code",
      "source": [
        "dir(asyn)"
      ],
      "metadata": {
        "id": "3iIPUQXuVc4X",
        "outputId": "b2790daa-fc22-486d-9fb6-d8813ef13a1e",
        "colab": {
          "base_uri": "https://localhost:8080/"
        }
      },
      "execution_count": 75,
      "outputs": [
        {
          "output_type": "execute_result",
          "data": {
            "text/plain": [
              "['__abs__',\n",
              " '__add__',\n",
              " '__bool__',\n",
              " '__call__',\n",
              " '__class__',\n",
              " '__delattr__',\n",
              " '__delitem__',\n",
              " '__dir__',\n",
              " '__doc__',\n",
              " '__eq__',\n",
              " '__format__',\n",
              " '__ge__',\n",
              " '__getattribute__',\n",
              " '__getitem__',\n",
              " '__gt__',\n",
              " '__hash__',\n",
              " '__init__',\n",
              " '__init_subclass__',\n",
              " '__iter__',\n",
              " '__le__',\n",
              " '__len__',\n",
              " '__lt__',\n",
              " '__module__',\n",
              " '__mul__',\n",
              " '__ne__',\n",
              " '__neg__',\n",
              " '__new__',\n",
              " '__next__',\n",
              " '__pos__',\n",
              " '__radd__',\n",
              " '__reduce__',\n",
              " '__reduce_ex__',\n",
              " '__repr__',\n",
              " '__rmul__',\n",
              " '__rsub__',\n",
              " '__rtruediv__',\n",
              " '__setattr__',\n",
              " '__setitem__',\n",
              " '__setstate__',\n",
              " '__sizeof__',\n",
              " '__str__',\n",
              " '__sub__',\n",
              " '__subclasshook__',\n",
              " '__truediv__',\n",
              " 'alpha',\n",
              " 'baseattr',\n",
              " 'e',\n",
              " 'get_loc',\n",
              " 'get_segment',\n",
              " 'gmax',\n",
              " 'has_loc',\n",
              " 'hname',\n",
              " 'hocobjptr',\n",
              " 'i',\n",
              " 'loc',\n",
              " 'onset',\n",
              " 'same',\n",
              " 'tau']"
            ]
          },
          "metadata": {},
          "execution_count": 75
        }
      ]
    },
    {
      "cell_type": "code",
      "source": [
        "print(\"asyn.e = {}\".format(asyn.e))\n",
        "print(\"asyn.gmax = {}\".format(asyn.gmax))\n",
        "print(\"asyn.onset = {}\".format(asyn.onset))\n",
        "print(\"asyn.tau = {}\".format(asyn.tau))"
      ],
      "metadata": {
        "id": "xxoBeayBVfcO",
        "outputId": "6a4c0229-ed2f-4608-b7d8-2d55ef12d8bf",
        "colab": {
          "base_uri": "https://localhost:8080/"
        }
      },
      "execution_count": 76,
      "outputs": [
        {
          "output_type": "stream",
          "name": "stdout",
          "text": [
            "asyn.e = 0.0\n",
            "asyn.gmax = 0.0\n",
            "asyn.onset = 0.0\n",
            "asyn.tau = 0.1\n"
          ]
        }
      ]
    },
    {
      "cell_type": "markdown",
      "source": [
        "Let’s assign the onset of this synapse to occur at 20 ms and the maximal conductance to 1."
      ],
      "metadata": {
        "id": "p2YGQQxZVhE6"
      }
    },
    {
      "cell_type": "code",
      "source": [
        "asyn.onset = 20\n",
        "asyn.gmax = 1"
      ],
      "metadata": {
        "id": "g5gPVcOOVh6V"
      },
      "execution_count": 77,
      "outputs": []
    },
    {
      "cell_type": "markdown",
      "source": [
        "Let’s look at the state of our cell using neuron’s `psection()`."
      ],
      "metadata": {
        "id": "KoBZ9oC4Vj25"
      }
    },
    {
      "cell_type": "code",
      "source": [
        "h.psection()"
      ],
      "metadata": {
        "id": "OnXjmOA0VlOM",
        "outputId": "81112370-150e-4da8-ada0-865c0ee8550e",
        "colab": {
          "base_uri": "https://localhost:8080/"
        }
      },
      "execution_count": 78,
      "outputs": [
        {
          "output_type": "stream",
          "name": "stdout",
          "text": [
            "soma { nseg=1  L=100  Ra=35.4\n",
            "\t/*location 0 attached to cell 0*/\n",
            "\t/* First segment only */\n",
            "\tinsert morphology { diam=500}\n",
            "\tinsert capacitance { cm=1}\n",
            "\tinsert pas { g_pas=0.001 e_pas=-70}\n",
            "\tinsert AlphaSynapse { onset=20 tau=0.1 gmax=1 e=0}\n",
            "\tinsert IClamp { del=2 dur=0.1 amp=0.9}\n",
            "}\n"
          ]
        },
        {
          "output_type": "execute_result",
          "data": {
            "text/plain": [
              "1.0"
            ]
          },
          "metadata": {},
          "execution_count": 78
        }
      ]
    },
    {
      "cell_type": "markdown",
      "source": [
        "# Step 5b: Insert a stimulus\n",
        "\n",
        "Let's insert a current clamp (an `IClamp` object) into the center of the `soma` to induce some membrane dynamics."
      ],
      "metadata": {
        "id": "xvc_f1KEAxC1"
      }
    },
    {
      "cell_type": "code",
      "source": [
        "iclamp = h.IClamp(soma(0.5))"
      ],
      "metadata": {
        "id": "rU-wau-YAwXh"
      },
      "execution_count": 79,
      "outputs": []
    },
    {
      "cell_type": "markdown",
      "source": [
        "An `IClamp` is a **Point Process**. Point processes are point sources of current. When making a new Point Process, you pass the segment to which it will bind.\n",
        "\n",
        "Again, with the `dir` function, we can validate that `iclamp` is an object and contains some useful parameters. Let's look at some of those parameters. We use a [list comprehension](https://www.pythonforbeginners.com/basics/list-comprehensions-in-python) to ignore those elements of the dir that start with double underscores (and are thus Python magic methods and not functions/variables intended to be used directly)."
      ],
      "metadata": {
        "id": "CoIMBnx3A8M8"
      }
    },
    {
      "cell_type": "code",
      "source": [
        "print([item for item in dir(iclamp) if not item.startswith('__')])"
      ],
      "metadata": {
        "id": "uTnK258IBNWN",
        "outputId": "7a3c1fcc-989d-4d41-c555-a621db9ad5b3",
        "colab": {
          "base_uri": "https://localhost:8080/"
        }
      },
      "execution_count": 80,
      "outputs": [
        {
          "output_type": "stream",
          "name": "stdout",
          "text": [
            "['amp', 'baseattr', 'delay', 'dur', 'get_loc', 'get_segment', 'has_loc', 'hname', 'hocobjptr', 'i', 'loc', 'same']\n"
          ]
        }
      ]
    },
    {
      "cell_type": "markdown",
      "source": [
        "In particular, we notice three key properties of a current clamp: amp -- the amplitude (in nA), delay -- the time the current clamp switches on (in ms), and dur -- how long (in ms) the current clamp stays on. Let's set these values:"
      ],
      "metadata": {
        "id": "GmSI7YkABRxB"
      }
    },
    {
      "cell_type": "code",
      "source": [
        "iclamp.delay = 2\n",
        "iclamp.dur = 0.1\n",
        "iclamp.amp = 0.9"
      ],
      "metadata": {
        "id": "Y-7cZoIjBTlE"
      },
      "execution_count": 81,
      "outputs": []
    },
    {
      "cell_type": "markdown",
      "source": [
        "Let's use psection to get a representation of the soma model:"
      ],
      "metadata": {
        "id": "crT14yAiBVgN"
      }
    },
    {
      "cell_type": "code",
      "source": [
        "soma.psection()"
      ],
      "metadata": {
        "id": "Bh9Blvx8BXcb",
        "outputId": "dfdcb495-65f4-41e2-a3d7-62eb8e9bf0f5",
        "colab": {
          "base_uri": "https://localhost:8080/"
        }
      },
      "execution_count": 82,
      "outputs": [
        {
          "output_type": "execute_result",
          "data": {
            "text/plain": [
              "{'Ra': 35.4,\n",
              " 'cell': None,\n",
              " 'cm': [1.0],\n",
              " 'density_mechs': {'pas': {'e': [-70.0], 'g': [0.001], 'i': [0.0]}},\n",
              " 'hoc_internal_name': '__nrnsec_0x37b40c0',\n",
              " 'ions': {},\n",
              " 'morphology': {'L': 20.0,\n",
              "  'diam': [20.0],\n",
              "  'parent': None,\n",
              "  'pts3d': [],\n",
              "  'trueparent': None},\n",
              " 'name': 'soma',\n",
              " 'nseg': 1,\n",
              " 'point_processes': {'AlphaSynapse': {AlphaSynapse[2]}, 'IClamp': {IClamp[2]}},\n",
              " 'regions': set(),\n",
              " 'species': set()}"
            ]
          },
          "metadata": {},
          "execution_count": 82
        }
      ]
    },
    {
      "cell_type": "markdown",
      "source": [
        "## Step 6: Set up recording variables.\n",
        "\n",
        "The cell should be configured to run a simulation. However, we need to set up variables we wish to record from the simulation. For now, we will record the membrane potential, which is `soma(0.5).v`. References to variables are available as `_ref_rangevariable`."
      ],
      "metadata": {
        "id": "g090t9CdVpQz"
      }
    },
    {
      "cell_type": "code",
      "source": [
        "v_vec = h.Vector().record(soma(0.5)._ref_v)  # Membrane potential vector\n",
        "t_vec = h.Vector().record(h._ref_t)  # Time stamp vector"
      ],
      "metadata": {
        "id": "9VwGUNoJVvqg"
      },
      "execution_count": 83,
      "outputs": []
    },
    {
      "cell_type": "markdown",
      "source": [
        "## Step 6: Run the simulation.\n",
        "\n",
        "To run the simulation, we execute the following lines."
      ],
      "metadata": {
        "id": "x_UiNpYEV32D"
      }
    },
    {
      "cell_type": "code",
      "source": [
        "h.load_file('stdrun.hoc')\n",
        "h.tstop = 40.0\n",
        "h.run()"
      ],
      "metadata": {
        "id": "nb9x6qiQV7R1",
        "outputId": "e763aa41-6489-4903-e4d5-e1d31bedf297",
        "colab": {
          "base_uri": "https://localhost:8080/"
        }
      },
      "execution_count": 84,
      "outputs": [
        {
          "output_type": "execute_result",
          "data": {
            "text/plain": [
              "0.0"
            ]
          },
          "metadata": {},
          "execution_count": 84
        }
      ]
    },
    {
      "cell_type": "markdown",
      "source": [
        "**Note:** If we had not included gui in the list of things to import, we would have also had to execute:\n",
        "\n",
        "`h.load_file('stdrun.hoc')`\n",
        "\n",
        "which defines the `run()` function (the alternative would be to specify initialization and advance in more detail).\n",
        "\n",
        "Nowadays, NEURON guidelines use only the `continuerun` function."
      ],
      "metadata": {
        "id": "hg8nnot3V-ar"
      }
    },
    {
      "cell_type": "code",
      "source": [
        "h.finitialize(-65)\n",
        "h.continuerun(40.0)"
      ],
      "metadata": {
        "id": "m3ktOH9sEFru",
        "outputId": "6896d4ee-452e-40ac-db2d-4d49c9c5bb1c",
        "colab": {
          "base_uri": "https://localhost:8080/"
        }
      },
      "execution_count": 85,
      "outputs": [
        {
          "output_type": "execute_result",
          "data": {
            "text/plain": [
              "0.0"
            ]
          },
          "metadata": {},
          "execution_count": 85
        }
      ]
    },
    {
      "cell_type": "markdown",
      "source": [
        "## Step 7: Plot the results.\n",
        "\n",
        "We utilize the pyplot module from the matplotlib Python package to visualize the output."
      ],
      "metadata": {
        "id": "TtWKITfXWKtb"
      }
    },
    {
      "cell_type": "code",
      "source": [
        "import matplotlib.pyplot as plt\n",
        "plt.figure(figsize=(10, 6))\n",
        "plt.plot(t_vec, v_vec)\n",
        "plt.xlabel('time (ms)')\n",
        "plt.ylabel('mV')\n",
        "plt.show()"
      ],
      "metadata": {
        "id": "9rrwwrR6WVdV",
        "outputId": "558b72a8-d47d-4361-b9f2-26934bba979d",
        "colab": {
          "base_uri": "https://localhost:8080/",
          "height": 397
        }
      },
      "execution_count": 86,
      "outputs": [
        {
          "output_type": "display_data",
          "data": {
            "text/plain": [
              "<Figure size 720x432 with 1 Axes>"
            ],
            "image/png": "[encoded data removed]"
          },
          "metadata": {
            "needs_background": "light"
          }
        }
      ]
    },
    {
      "cell_type": "markdown",
      "source": [
        "The last line displays the graph and allows you to interact with it (zoom, pan, save, etc). NEURON and Python will wait until you close the figure window to proceed."
      ],
      "metadata": {
        "id": "TfZttHwIWZMD"
      }
    },
    {
      "cell_type": "markdown",
      "source": [
        "## Step 8: Saving and restoring results.\n",
        "\n",
        "NEURON Vector objects can be pickled. This allows them to be stored to disk and restored later:\n",
        "\n",
        "Saving:"
      ],
      "metadata": {
        "id": "X9tSQCbEWa7K"
      }
    },
    {
      "cell_type": "code",
      "source": [
        "# Pickle\n",
        "import pickle\n",
        "with open('t_vec.p', 'wb') as t_vec_file:\n",
        "  pickle.dump(t_vec, t_vec_file)\n",
        "with open('v_vec.p', 'wb') as v_vec_file:\n",
        "  pickle.dump(v_vec, v_vec_file)"
      ],
      "metadata": {
        "id": "aScowyQfWaX_"
      },
      "execution_count": 87,
      "outputs": []
    },
    {
      "cell_type": "code",
      "source": [
        "# Unpickle\n",
        "with open('t_vec.p', 'rb') as t_vec_file:\n",
        "  t_vec_new = pickle.load(t_vec_file)\n",
        "with open('v_vec.p', 'rb') as vec_file:\n",
        "  v_vec_new = pickle.load(vec_file)\n",
        "\n",
        "# Confirm\n",
        "plt.figure(figsize=(10, 6))\n",
        "plt.plot(t_vec_new, v_vec_new)\n",
        "plt.xlabel('time (ms)')\n",
        "plt.ylabel('mV')\n",
        "plt.show()"
      ],
      "metadata": {
        "id": "MTdVplY-WkuY",
        "outputId": "300e58f6-ab6e-4979-dafd-f6e97f0a6206",
        "colab": {
          "base_uri": "https://localhost:8080/",
          "height": 397
        }
      },
      "execution_count": 88,
      "outputs": [
        {
          "output_type": "display_data",
          "data": {
            "text/plain": [
              "<Figure size 720x432 with 1 Axes>"
            ],
            "image/png": "[encoded data removed]"
          },
          "metadata": {
            "needs_background": "light"
          }
        }
      ]
    },
    {
      "cell_type": "markdown",
      "source": [
        "## Extra Step: Generate a train of presynaptic stimuli\n",
        "\n",
        "A `NetStim` is a spike generator that can be used as the source in a `NetCon`, behaving as external input onto the synapse of a target cell. The following code makes a `NetStim` object that generates one spike at time $t=9$. The NetCon then adds another ms delay to deliver a synaptic event at time $t=10$ onto the first cell.\n",
        "\n",
        "The code below makes a stimulator and attaches it to a synapse object ([ExpSyn](https://neuron.yale.edu/neuron/static/py_doc/modelspec/programmatic/mechanisms/mech.html#ExpSyn)) that behaves much like an AMPA synapse – it conducts current as a decaying exponential function."
      ],
      "metadata": {
        "id": "Q7UbiSwvDz6-"
      }
    },
    {
      "cell_type": "code",
      "source": [
        "stim = h.NetStim()  # Make a new stimulator\n",
        "\n",
        "# Attach it to a synapse in the middle of the dendrite\n",
        "# of the first cell in the network. (Named 'syn_' to avoid\n",
        "# being overwritten with the 'syn' var assigned later.)\n",
        "syn_ = h.ExpSyn(soma(0.5))\n",
        "\n",
        "stim.number = 1\n",
        "stim.start = 9\n",
        "ncstim = h.NetCon(stim, syn_)\n",
        "ncstim.delay = 1\n",
        "ncstim.weight[0] = 0.04  # NetCon weight is a vector."
      ],
      "metadata": {
        "id": "wu0jYRZ9DzNT"
      },
      "execution_count": 89,
      "outputs": []
    },
    {
      "cell_type": "markdown",
      "source": [
        "Exponentially decaying currents, such as that generated by the synapse `syn_` have dynamics that depend on tau, the time constant. Let's specify a time constant of $2 ms$:"
      ],
      "metadata": {
        "id": "Z97F-9q6FMSr"
      }
    },
    {
      "cell_type": "code",
      "source": [
        "syn_.tau = 2"
      ],
      "metadata": {
        "id": "r3xgzG-YFN9h"
      },
      "execution_count": 90,
      "outputs": []
    },
    {
      "cell_type": "markdown",
      "source": [
        "The parameter `tau` specifies how quickly the currents decay. The exact value of the current depends on the cell's membrane potential, and the synapse's reversal potential, `syn_.e`."
      ],
      "metadata": {
        "id": "jIEslZIcFPpv"
      }
    },
    {
      "cell_type": "code",
      "source": [
        "print(f'Reversal potential = {syn_.e} mV')"
      ],
      "metadata": {
        "id": "XPtsvsoDFUEH",
        "outputId": "3e58e949-9da8-4aa0-8dbe-28d6e1b2ff66",
        "colab": {
          "base_uri": "https://localhost:8080/"
        }
      },
      "execution_count": 91,
      "outputs": [
        {
          "output_type": "stream",
          "name": "stdout",
          "text": [
            "Reversal potential = 0.0 mV\n"
          ]
        }
      ]
    },
    {
      "cell_type": "markdown",
      "source": [
        "NetCon syntax\n",
        "\n",
        "```python\n",
        "netcon = h.NetCon(source_ref_v, target, [threshold, delay, weight], sec=section)\n",
        "\n",
        "netcon = h.NetCon(source, target, [threshold, delay, weight])\n",
        "```\n",
        "\n",
        "**Note:** The threshold is used when two NEURON sections are connected via a Synapse and defines the presynaptic spike."
      ],
      "metadata": {
        "id": "a1UFVxQAFgI6"
      }
    }
  ]
}
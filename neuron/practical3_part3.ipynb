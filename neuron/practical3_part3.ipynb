{
  "nbformat": 4,
  "nbformat_minor": 0,
  "metadata": {
    "colab": {
      "name": "practical3_part3.ipynb",
      "provenance": [],
      "toc_visible": true,
      "include_colab_link": true
    },
    "kernelspec": {
      "name": "python3",
      "display_name": "Python 3"
    },
    "language_info": {
      "name": "python"
    }
  },
  "cells": [
    {
      "cell_type": "markdown",
      "metadata": {
        "id": "view-in-github",
        "colab_type": "text"
      },
      "source": [
        "<a href=\"https://colab.research.google.com/github/spirosChv/smartNetsWorkshop/blob/main/neuron/practical3_part3.ipynb\" target=\"_parent\"><img src=\"https://colab.research.google.com/assets/colab-badge.svg\" alt=\"Open In Colab\"/></a>"
      ]
    },
    {
      "cell_type": "markdown",
      "source": [
        "# Simulating dendrites - Part 3\n",
        "\n",
        "## Integrating inputs with active dendritic conductances"
      ],
      "metadata": {
        "id": "CFFz4a7p0BOz"
      }
    },
    {
      "cell_type": "code",
      "source": [
        "!pip install neuron --quiet"
      ],
      "metadata": {
        "id": "B0VtDTHqz0Ge"
      },
      "execution_count": null,
      "outputs": []
    },
    {
      "cell_type": "markdown",
      "source": [
        "## Compile ion channel models (`.mod` files)"
      ],
      "metadata": {
        "id": "IR8oZ0G8D23k"
      }
    },
    {
      "cell_type": "code",
      "source": [
        "# @title Create the mod file\n",
        "# @markdown Execute this cell.\n",
        "with open(\"Traub.mod\", \"w\") as file:\n",
        "  file.write(\"\"\"\n",
        "\n",
        "    COMMENT\n",
        "    All the channels are taken from same good old classic articles.\n",
        "    The arrengment was done after:\n",
        "    Kang, S., Kitano, K., and Fukai, T. (2004). \n",
        "      Self-organized two-state membrane potential \n",
        "      transitions in a network of realistically modeled \n",
        "      cortical neurons. Neural Netw 17, 307-312.\n",
        "    \n",
        "    Whenever available I used the same parameters they used,\n",
        "    except in n gate:\n",
        "      n' = phi*(ninf-n)/ntau\n",
        "    \n",
        "    Kang used phi = 12\n",
        "    I used phi = 1\n",
        "    \n",
        "    Written by Albert Gidon & Leora Menhaim (2004).\n",
        "    ENDCOMMENT\n",
        "\n",
        "    UNITS {\n",
        "        (mA) = (milliamp)\n",
        "        (mV) = (millivolt)\n",
        "        (S) = (siemens)\t\t\n",
        "    }\n",
        "\n",
        "    NEURON {\n",
        "      SUFFIX traub\n",
        "      NONSPECIFIC_CURRENT i\n",
        "      RANGE iL,iNa,iK\n",
        "      RANGE eL, eNa, eK\n",
        "      RANGE gLbar, gNabar, gKbar\n",
        "      RANGE v_shft\n",
        "    }\n",
        "\n",
        "    PARAMETER {\n",
        "        gNabar = .03 (S/cm2)\t:Traub et. al. 1991\n",
        "        gKbar = .015 (S/cm2) \t:Traub et. al. 1991\n",
        "        gLbar = 0.00014 (S/cm2) :Siu Kang - by email.\n",
        "        eL = -62.0 (mV) :Siu Kang - by email.\n",
        "        eK = -80 (mV)\t:Siu Kang - by email.\n",
        "        eNa = 90 (mV)\t:Leora\n",
        "        totG = 0\n",
        "        v_shft = 49.2 : shift to apply to all curves\n",
        "    }\n",
        "    \n",
        "    STATE {\n",
        "        m h n a b\n",
        "    }\n",
        "    \n",
        "    ASSIGNED {\n",
        "        v (mV)\n",
        "        i (mA/cm2)\n",
        "        cm (uF)\n",
        "        iL (mA/cm2)\n",
        "        iNa (mA/cm2)\n",
        "        iK (mA/cm2)\n",
        "        gNa (S/cm2)\n",
        "        gK (S/cm2)\n",
        "        minf hinf ninf \n",
        "        mtau (ms) htau (ms) ntau (ms) \n",
        "    }\n",
        "\n",
        "\n",
        "    BREAKPOINT {\n",
        "        SOLVE states METHOD cnexp \n",
        "        :-------------------------\n",
        "        :Traub et. al. 1991\n",
        "        gNa = gNabar*h*m*m\n",
        "        iNa = gNa*(v - eNa)\n",
        "        gK = gKbar*n : - Traub et. al. 1991\n",
        "        iK = gK*(v - eK)\n",
        "        :-------------------------\n",
        "        iL = gLbar*(v - eL) \n",
        "        i = iL + iK + iNa\n",
        "        :to calculate the input resistance get the sum of\n",
        "        :\tall the conductance.\n",
        "        totG = gNa + gK + gLbar      \n",
        "    }\n",
        "    \n",
        "    INITIAL {\n",
        "        rates(v)\n",
        "        m = minf\n",
        "        h = hinf\n",
        "        n = ninf\n",
        "    }\n",
        "\n",
        "    ? states\n",
        "    DERIVATIVE states {  \n",
        "        rates(v)\n",
        "        :Traub Spiking channels\n",
        "        m' = (minf-m)/mtau\n",
        "        h' = (hinf-h)/htau\n",
        "        n' = 2*(ninf-n)/ntau :phi=12 from Kang et. al. 2004\n",
        "    }\n",
        "\n",
        "    ? rates\n",
        "    DEFINE Q10 3\n",
        "    PROCEDURE rates(v(mV)) {  \n",
        "      :Computes rate and other constants at current v.\n",
        "      :Call once from HOC to initialize inf at resting v.\n",
        "      LOCAL  alpha, beta, sum, vt, Q\n",
        "      TABLE \tmtau,ntau,htau,minf,ninf,hinf\n",
        "      FROM -100 TO 70 WITH 1000\n",
        "      : see Resources/The unreliable Q10.htm for details\n",
        "      : remember that not only Q10 is temprature dependent \n",
        "      : and just astimated here, but also the calculation of\n",
        "      : Q is itself acurate only in about 10% in this range of\n",
        "      : temperatures. the transformation formulation is:\n",
        "      : Q = Q10^(( new(degC) - from_original_experiment(degC) )/ 10)\n",
        "      \n",
        "      :--------------------------------------------------------\n",
        "      \n",
        "      : This part was taken **directly** from:\n",
        "      : Traub, R. D., Wong, R. K., Miles, R., and Michelson, H. (1991). \n",
        "      :\tA model of a CA3 hippocampal pyramidal neuron incorporating \n",
        "      :\tvoltage-clamp data on intrinsic conductances. \n",
        "      :\tJ Neurophysiol 66, 635-650.\n",
        "      :\tExperiments were done in >=32degC for m,h\n",
        "      : Traub et al uses their -60mV as 0mV thus here is the shift\n",
        "      vt = v + v_shft :49.2\n",
        "      Q = Q10^((35 - 32)/ 10)\n",
        "      :\"m\" sodium activation system\n",
        "      if(vt == 13.1){alpha = 0.32*4}\n",
        "      else{alpha = 0.32*(13.1 - vt)/(exp((13.1 - vt)/4) - 1)}\n",
        "      if(vt == 40.1){beta = 0.28*5}\n",
        "      else{beta = 0.28*(vt - 40.1)/(exp((vt - 40.1)/5)-1)}\n",
        "      sum = alpha + beta\n",
        "      mtau = 1/sum\n",
        "      mtau = mtau/Q\n",
        "      minf = alpha/sum\n",
        "\n",
        "      :\"h\" sodium inactivation system\n",
        "      alpha = 0.128*exp((17 - vt)/18)\n",
        "      beta = 4/(1 + exp((40 - vt)/5))\n",
        "      sum = alpha + beta\n",
        "      htau = 1/sum\n",
        "      htau = htau/Q\n",
        "      hinf = alpha/sum\n",
        "\n",
        "      :\"n\" potassium activation system\n",
        "      if(vt == 35.1){ alpha = 0.016*5 }\n",
        "      else{alpha =0.016*(35.1 - vt)/(exp((35.1 - vt)/5) - 1)}\n",
        "      beta = 0.25*exp((20 - vt)/40)\n",
        "      sum = alpha + beta\n",
        "      ntau = 1/sum\n",
        "      ntau = ntau/Q\n",
        "      ninf = alpha/sum\n",
        "    }\n",
        "  \"\"\")"
      ],
      "metadata": {
        "cellView": "form",
        "id": "r0vSOTboD_wG"
      },
      "execution_count": null,
      "outputs": []
    },
    {
      "cell_type": "code",
      "source": [
        "!rm -rf x86_64/\n",
        "!nrnivmodl"
      ],
      "metadata": {
        "id": "cQPw01OvAUFt"
      },
      "execution_count": null,
      "outputs": []
    },
    {
      "cell_type": "code",
      "execution_count": null,
      "metadata": {
        "id": "usthWgIfzjmM"
      },
      "outputs": [],
      "source": [
        "import numpy as np\n",
        "import matplotlib.pyplot as plt\n",
        "from neuron import h\n",
        "h.load_file(\"stdrun.hoc\")"
      ]
    },
    {
      "cell_type": "code",
      "source": [
        "# @title Make nicer plots -- Execute this cell\n",
        "def mystyle():\n",
        "  \"\"\"\n",
        "  Create custom plotting style.\n",
        "\n",
        "  Returns\n",
        "  -------\n",
        "  my_style : dict\n",
        "      Dictionary with matplotlib parameters.\n",
        "\n",
        "  \"\"\"\n",
        "  # color pallette\n",
        "  style = {\n",
        "      # Use LaTeX to write all text\n",
        "      \"text.usetex\": False,\n",
        "      \"font.family\": \"DejaVu Sans\",\n",
        "      \"font.weight\": \"bold\",\n",
        "      # Use 16pt font in plots, to match 16pt font in document\n",
        "      \"axes.labelsize\": 16,\n",
        "      \"axes.titlesize\": 20,\n",
        "      \"font.size\": 16,\n",
        "      # Make the legend/label fonts a little smaller\n",
        "      \"legend.fontsize\": 14,\n",
        "      \"xtick.labelsize\": 14,\n",
        "      \"ytick.labelsize\": 14,\n",
        "      \"axes.linewidth\": 2.5,\n",
        "      \"lines.markersize\": 10.0,\n",
        "      \"lines.linewidth\": 2.5,\n",
        "      \"xtick.major.width\": 2.2,\n",
        "      \"ytick.major.width\": 2.2,\n",
        "      \"axes.labelweight\": \"bold\",\n",
        "      \"axes.spines.right\": False,\n",
        "      \"axes.spines.top\": False\n",
        "  }\n",
        "\n",
        "  return style\n",
        "\n",
        "\n",
        "plt.style.use(\"seaborn-colorblind\")\n",
        "plt.rcParams.update(mystyle())"
      ],
      "metadata": {
        "cellView": "form",
        "id": "bqXB1xt_8Vuh"
      },
      "execution_count": null,
      "outputs": []
    },
    {
      "cell_type": "markdown",
      "source": [
        "### In this exercise we will see how inputs can be amplified by active sodium conductances"
      ],
      "metadata": {
        "id": "9g_PSHfDDxwL"
      }
    },
    {
      "cell_type": "code",
      "source": [
        "# Simulation parameters\n",
        "tstop = 100  # ms\n",
        "h.dt = 0.1  # ms\n",
        "vinit = -65  # initial membrane potential"
      ],
      "metadata": {
        "id": "ym1Wg3lmEGMX"
      },
      "execution_count": null,
      "outputs": []
    },
    {
      "cell_type": "markdown",
      "source": [
        "### Create a soma and two dendrites, define their anatomical and biophysical properties and connect them."
      ],
      "metadata": {
        "id": "PME1GYedGDSF"
      }
    },
    {
      "cell_type": "code",
      "source": [
        "# Create a soma and two dendrites and connect them.\n",
        "soma = h.Section(name='soma')\n",
        "dend0, dend1 = [h.Section(name=n) for n in ['dend0', 'dend1']]\n",
        "\n",
        "# Define properties of soma\n",
        "soma.diam = 20  # um\n",
        "soma.L = 200  # um\n",
        "soma.Ra = 100  # Axial resistance in Ohm * cm\n",
        "soma.cm = 1  # specific membrane capacitance, capacitance per unit of membrane, uF/cm^2   \n",
        "soma.nseg = 1  # number of segments (spatial grid)\n",
        "\n",
        "# Insert only passive conductance into soma (in contrast to previous two exercises)    \n",
        "soma.insert('pas')\n",
        "for seg in soma:\n",
        "  seg.pas.e = -65  # Reversal potential in mV\n",
        "  seg.pas.g = 0.0003  # Leak conductance in S/cm2\n",
        "\n",
        "# Define properties of dend0\n",
        "dend0.diam = 5\n",
        "dend0.L = 500\n",
        "dend0.nseg = 11\n",
        "dend0.cm = 1\n",
        "dend0.Ra = 100\n",
        "\n",
        "# Insert passive conductance into dend0\n",
        "dend0.insert('pas')\n",
        "for seg in dend0:\n",
        "  seg.pas.e = -65\n",
        "  seg.pas.g = 0.0003\n",
        "    \n",
        "# Define properties of dend1\n",
        "dend1.diam = 3\n",
        "dend1.L = 200\n",
        "dend1.nseg = 13\n",
        "dend1.cm = 1\n",
        "dend1.Ra = 100\n",
        "\n",
        "# dend1 will have active conductances! - Traub.mod contains HH-like Na and K conductances, as well as leak.\n",
        "dend1.insert('traub')\n",
        "for seg in dend1:\n",
        "  seg.traub.gNabar = 0.1  # Sodium conductance in S/cm2\n",
        "  seg.traub.gKbar = 0.045  # Potassium conductance in S/cm2\n",
        "  seg.traub.gLbar = 0.0003  # Leak conductance in S/cm2\n",
        "  seg.traub.eL = -65.  # Reversal potential for leak in mV\n",
        "  seg.traub.eK = -70.  # Reversal potential for potassium in mV\n",
        "  seg.traub.eNa = 90.  # Reversal potential for sodium in mV\n",
        "  seg.traub.v_shft += 9.5  # Shifts the activation curve for sodium\n",
        "\n",
        "# Connect the three compartments together\n",
        "dend0.connect(soma(0), 0)  # 0 point of dendrite 0 to the zero point of the soma     \n",
        "dend1.connect(dend0(1), 0)  # 0 point of dendrite 1 to the zero point of dendrite 0 "
      ],
      "metadata": {
        "id": "3Zd5f7ugF1-Y"
      },
      "execution_count": null,
      "outputs": []
    },
    {
      "cell_type": "markdown",
      "source": [
        "### Synaptic Stimulation"
      ],
      "metadata": {
        "id": "aKBHffHsKVi9"
      }
    },
    {
      "cell_type": "code",
      "source": [
        "syn = h.ExpSyn(dend1(0.5)) # Place the synapse to the middle (0.5) of the soma\n",
        "syn.e = 0  # Reverse potential of the synapse (mV)\n",
        "\n",
        "# Create an artificial spike using h.NetStim() (an \"event\" to be delivered to the synapse)...\n",
        "tsignal = 50\n",
        "ns = h.NetStim(0.5)\n",
        "ns.start = tsignal  # time when the spike arrives (in msec)     \n",
        "ns.number = 1  # number of spikes (just one)\n",
        "\n",
        "# ... and connect the event to the synapse.\n",
        "# function arguments: NetCon(source, target, [threshold, delay, weight])\n",
        "nc = h.NetCon(ns, syn)\n",
        "nc.delay = 0\n",
        "nc.weight[0] = 0.008*10"
      ],
      "metadata": {
        "id": "oxZ_7vd1GlG9"
      },
      "execution_count": null,
      "outputs": []
    },
    {
      "cell_type": "markdown",
      "source": [
        "### Example simulation\n",
        "#### Compare the depolarization at the soma with and without active conductances in the dendrites"
      ],
      "metadata": {
        "id": "PPmpqGk5KjMX"
      }
    },
    {
      "cell_type": "code",
      "source": [
        "# record the necessary variables\n",
        "vsoma_vec = h.Vector().record(soma(0.5)._ref_v)  # Membrane potential vector\n",
        "vdend1_vec = h.Vector().record(dend1(0.5)._ref_v)  # Membrane potential vector\n",
        "vdend0_vec = h.Vector().record(dend0(0.5)._ref_v)  # Membrane potential vector\n",
        "iNa_vec = h.Vector().record(dend1(0.5).traub._ref_iNa)  # Sodium current vector\n",
        "t_vec = h.Vector().record(h._ref_t)  # Time stamp vector\n",
        "\n",
        "# --------------------------------------------------------------------------------------------------------------\n",
        "# STEP 1: Run the simulation WITH active conductances as defined above\n",
        "# --------------------------------------------------------------------------------------------------------------\n",
        "# We add the channels here in case we re-run\n",
        "for seg in dend1:\n",
        "  seg.traub.gNabar = 0.1 # Sodium conductance in S/cm2\n",
        "  seg.traub.gKbar = 0.045 # Potassium conductance in S/cm2\n",
        "\n",
        "# reinitialize the simulator and run again\n",
        "h.finitialize(vinit)\n",
        "h.frecord_init()\n",
        "h.continuerun(tstop)\n",
        "\n",
        "# Remove the first 20 msec of the plot (to make it look nice)\n",
        "tremove = 20\n",
        "vsoma_vec.remove(0, int(tremove/h.dt))\n",
        "vdend1_vec.remove(0, int(tremove/h.dt))\n",
        "vdend0_vec.remove(0, int(tremove/h.dt))\n",
        "iNa_vec.remove(0, int(tremove/h.dt))\n",
        "t_vec.remove(0, int(tremove/h.dt))\n",
        "\n",
        "# Plot the results\n",
        "plt.figure(figsize=(8, 12))\n",
        "plt.subplot(3, 1, 1)\n",
        "plt.plot(t_vec, vsoma_vec, color='black', label='active')\n",
        "plt.subplot(3, 1, 2)\n",
        "plt.plot(t_vec, vdend1_vec, color='black', label='active')\n",
        "plt.subplot(3, 1, 3)\n",
        "plt.plot(t_vec, iNa_vec, color='black', label='active')\n",
        "\n",
        "print(f'Active case: somatic depolarization is {round(vsoma_vec.max()-vsoma_vec[int((tsignal-tremove)/h.dt)-1], 2)} mV')\n",
        "print(f'Active case: distal dendritic depolarization is {round(vdend1_vec.max()-vdend1_vec[int((tsignal-tremove)/h.dt)-1], 2)} mV')\n",
        "\n",
        "# --------------------------------------------------------------------------------------------------------------\n",
        "# STEP 2: Run the simulation WITHOUT active conductances by setting max conductances (gbar) to zero for Na and K\n",
        "# --------------------------------------------------------------------------------------------------------------\n",
        "\n",
        "# remove active conductances\n",
        "for seg in dend1:\n",
        "  seg.traub.gNabar = 0.0  # Sodium conductance in S/cm2\n",
        "  seg.traub.gKbar = 0.0  # Potassium conductance in S/cm2\n",
        "    \n",
        "# reinitialize the simulator and run again\n",
        "h.finitialize(vinit)\n",
        "h.frecord_init()\n",
        "h.continuerun(tstop)\n",
        "\n",
        "# Remove the first 20 msec of the plot (to make it look nice)\n",
        "tremove = 20\n",
        "vsoma_vec.remove(0, int(tremove/h.dt))\n",
        "vdend1_vec.remove(0, int(tremove/h.dt))\n",
        "vdend0_vec.remove(0, int(tremove/h.dt))\n",
        "iNa_vec.remove(0, int(tremove/h.dt))\n",
        "t_vec.remove(0, int(tremove/h.dt))\n",
        "\n",
        "# Plot the results\n",
        "plt.subplot(3, 1, 1)\n",
        "plt.plot(t_vec, vsoma_vec, color='red', label='passive')\n",
        "plt.ylabel('voltage (mV)')\n",
        "plt.title('soma')\n",
        "plt.legend()\n",
        "plt.subplot(3, 1, 2)\n",
        "plt.plot(t_vec, vdend1_vec, color='red', label='passive')\n",
        "plt.ylabel('voltage (mV)')\n",
        "plt.title('dendrite1')\n",
        "plt.legend()\n",
        "plt.subplot(3, 1, 3)\n",
        "plt.plot(t_vec, iNa_vec, color='red', label='passive')\n",
        "plt.ylabel('sodium current (nA)')\n",
        "plt.xlabel('time (ms)')\n",
        "plt.title('dendrite1')\n",
        "plt.legend()\n",
        "\n",
        "plt.tight_layout()\n",
        "plt.show()\n",
        "\n",
        "print(f'\\nPassive case: somatic depolarization is {round(vsoma_vec.max()-vsoma_vec[int((tsignal-tremove)/h.dt)-1], 2)} mV')\n",
        "print(f'Passive case: distal dendritic depolarization is {round(vdend1_vec.max()-vdend1_vec[int((tsignal-tremove)/h.dt)-1], 2)} mV')"
      ],
      "metadata": {
        "id": "K9IDmGtvGlmk"
      },
      "execution_count": null,
      "outputs": []
    },
    {
      "cell_type": "code",
      "source": [
        "# add the active conductance back to dend1\n",
        "for seg in dend1:\n",
        "  seg.traub.gNabar = 0.1 # Sodium conductance in S/cm2\n",
        "  seg.traub.gKbar = 0.045 # Potassium conductance in S/cm2\n",
        "\n",
        "maxN = 10\n",
        "actual_epsp = []\n",
        "for i in range(maxN):\n",
        "  nc.weight[0] = 0.008*(i+1)\n",
        "\n",
        "  # reinitialize the simulator and run again\n",
        "  h.finitialize(vinit)\n",
        "  h.continuerun(tstop)\n",
        "  \n",
        "  # Remove the first 20 msec of the plot (to make it look nice)\n",
        "  tremove = 20\n",
        "  vsoma_vec.remove(0, int(tremove/h.dt))\n",
        "  vdend1_vec.remove(0, int(tremove/h.dt))\n",
        "  t_vec.remove(0, int(tremove/h.dt))\n",
        "  actual_epsp.append(round(vsoma_vec.max()-vsoma_vec[int((tsignal-tremove)/h.dt)-1], 2))\n",
        "\n",
        "\n",
        "expected_epsp = [actual_epsp[0]*i for i in range(1, maxN+1)]\n",
        "\n",
        "plt.figure(figsize=(8, 6)) \n",
        "plt.plot(expected_epsp, actual_epsp, color='red')\n",
        "plt.plot(expected_epsp, expected_epsp, linestyle='dashed', color='black')\n",
        "plt.xlabel('Expected EPSP-Linear Summation (mV)')\n",
        "plt.ylabel('Actual EPSP (mV)')\n",
        "plt.tight_layout()\n",
        "plt.show()"
      ],
      "metadata": {
        "id": "cs_xZNDgOugq"
      },
      "execution_count": null,
      "outputs": []
    }
  ]
}
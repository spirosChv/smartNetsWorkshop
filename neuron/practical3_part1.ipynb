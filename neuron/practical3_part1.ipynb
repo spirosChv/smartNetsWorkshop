{
  "nbformat": 4,
  "nbformat_minor": 0,
  "metadata": {
    "colab": {
      "name": "practical3_part1.ipynb",
      "provenance": [],
      "collapsed_sections": [],
      "toc_visible": true,
      "include_colab_link": true
    },
    "kernelspec": {
      "name": "python3",
      "display_name": "Python 3"
    },
    "language_info": {
      "name": "python"
    }
  },
  "cells": [
    {
      "cell_type": "markdown",
      "metadata": {
        "id": "view-in-github",
        "colab_type": "text"
      },
      "source": [
        "<a href=\"https://colab.research.google.com/github/spirosChv/smartNetsWorkshop/blob/main/neuron/practical3_part1.ipynb\" target=\"_parent\"><img src=\"https://colab.research.google.com/assets/colab-badge.svg\" alt=\"Open In Colab\"/></a>"
      ]
    },
    {
      "cell_type": "markdown",
      "source": [
        "# Simulating dendrites - Part 1: How inputs propagate to the soma and how inputs interact.\n",
        "\n",
        "In this notebook we will see how inputs attenuate towards the soma. Also we will see how inputs integrate in a dendritic branch. "
      ],
      "metadata": {
        "id": "CFFz4a7p0BOz"
      }
    },
    {
      "cell_type": "code",
      "source": [
        "!pip install neuron --quiet"
      ],
      "metadata": {
        "id": "B0VtDTHqz0Ge"
      },
      "execution_count": null,
      "outputs": []
    },
    {
      "cell_type": "code",
      "execution_count": null,
      "metadata": {
        "id": "usthWgIfzjmM"
      },
      "outputs": [],
      "source": [
        "import numpy as np\n",
        "import matplotlib.pyplot as plt\n",
        "from neuron import h\n",
        "h.load_file(\"stdrun.hoc\")"
      ]
    },
    {
      "cell_type": "code",
      "source": [
        "# @title Make nicer plots -- Execute this cell\n",
        "def mystyle():\n",
        "  \"\"\"\n",
        "  Create custom plotting style.\n",
        "\n",
        "  Returns\n",
        "  -------\n",
        "  my_style : dict\n",
        "      Dictionary with matplotlib parameters.\n",
        "\n",
        "  \"\"\"\n",
        "  # color pallette\n",
        "  style = {\n",
        "      # Use LaTeX to write all text\n",
        "      \"text.usetex\": False,\n",
        "      \"font.family\": \"DejaVu Sans\",\n",
        "      \"font.weight\": \"bold\",\n",
        "      # Use 16pt font in plots, to match 16pt font in document\n",
        "      \"axes.labelsize\": 16,\n",
        "      \"axes.titlesize\": 20,\n",
        "      \"font.size\": 16,\n",
        "      # Make the legend/label fonts a little smaller\n",
        "      \"legend.fontsize\": 14,\n",
        "      \"xtick.labelsize\": 14,\n",
        "      \"ytick.labelsize\": 14,\n",
        "      \"axes.linewidth\": 2.5,\n",
        "      \"lines.markersize\": 10.0,\n",
        "      \"lines.linewidth\": 2.5,\n",
        "      \"xtick.major.width\": 2.2,\n",
        "      \"ytick.major.width\": 2.2,\n",
        "      \"axes.labelweight\": \"bold\",\n",
        "      \"axes.spines.right\": False,\n",
        "      \"axes.spines.top\": False\n",
        "  }\n",
        "\n",
        "  return style\n",
        "\n",
        "\n",
        "plt.style.use(\"seaborn-colorblind\")\n",
        "plt.rcParams.update(mystyle())"
      ],
      "metadata": {
        "id": "bqXB1xt_8Vuh",
        "cellView": "form"
      },
      "execution_count": null,
      "outputs": []
    },
    {
      "cell_type": "markdown",
      "source": [
        "Define the simulation parameters"
      ],
      "metadata": {
        "id": "fI4fEn3tkb62"
      }
    },
    {
      "cell_type": "code",
      "source": [
        "# Simulation parameters\t\n",
        "tstop = 100  # simulation time (ms)\n",
        "h.dt = 0.1  # integration step (ms)\n",
        "vinit = -65  # initial voltage (mV)"
      ],
      "metadata": {
        "id": "5qhiFv-M0MLN"
      },
      "execution_count": null,
      "outputs": []
    },
    {
      "cell_type": "markdown",
      "source": [
        "### Create a soma and two dendrites, define their anatomical and biophysical properties and connect them."
      ],
      "metadata": {
        "id": "8yPtsBbmz7lA"
      }
    },
    {
      "cell_type": "code",
      "source": [
        "soma = h.Section(name='soma')\n",
        "dend0, dend1 = [h.Section(name=n) for n in ['dend0', 'dend1']]\n",
        "\n",
        "# Define properties of soma\n",
        "soma.diam = 20  # um\n",
        "soma.L = 200  # um\n",
        "soma.Ra = 100  # Axial resistance in Ohm * cm\n",
        "soma.cm = 1  # specific membrane capacitance, capacitance per unit of membrane, uF/cm^2   \n",
        "soma.nseg = 1  # number of segments (actual compartments)\t\n",
        "\n",
        "# Insert the hh channels (inluding leak)\n",
        "soma.insert('hh')\n",
        "for seg in soma: \n",
        "  seg.hh.gnabar = 0.12  # Sodium conductance in S/cm2\n",
        "  seg.hh.gkbar = 0.036  # Potassium conductance in S/cm2\n",
        "  seg.hh.gl = 0.0003  # Leak conductance in S/cm2\n",
        "  seg.hh.el = -65  # Reversal potential in mV\n",
        "\n",
        "# Define properties of dend0\n",
        "dend0.diam = 5\n",
        "dend0.L = 500\n",
        "dend0.nseg = 11\n",
        "dend0.cm = 1\n",
        "dend0.Ra = 100\n",
        "\n",
        "# Insert passive (leak) channels\n",
        "dend0.insert('pas')      \n",
        "for seg in dend0:\n",
        "  seg.pas.e = -65  # leak reversal potential in mV\n",
        "  seg.pas.g = 0.0003  # leak maximal conductance in S/cm2\n",
        "\t\n",
        "# Define properties of dend1\n",
        "dend1.diam = 3\n",
        "dend1.L = 200\n",
        "dend1.nseg = 13\n",
        "dend1.cm = 1\n",
        "dend1.Ra = 100\n",
        "\n",
        "# Insert passive (leak) channels\n",
        "dend1.insert('pas')     \n",
        "for seg in dend0:\n",
        "  seg.pas.e = -65  # leak reversal potential in mV\n",
        "  seg.pas.g = 0.0003  # leak maximal conductance in S/cm2\n",
        "\n",
        "# Connect the `0` point of `dend0` to the `0` point of the soma, i.e., soma(0)\n",
        "dend0.connect(soma(0), 0)\n",
        "# Connect the `1` point of `dend0`, i.e., dend0(1), to the `0` point of the dend1, i.e., dend1(0)\n",
        "dend1.connect(dend0(1), 0)"
      ],
      "metadata": {
        "id": "OHan2Eu60Z_L"
      },
      "execution_count": null,
      "outputs": []
    },
    {
      "cell_type": "markdown",
      "source": [
        "### Synaptic Stimulation"
      ],
      "metadata": {
        "id": "uDAtfSb41jbA"
      }
    },
    {
      "cell_type": "code",
      "source": [
        "# Place the synapse to the middle (0.5) of the soma...\n",
        "syn = h.ExpSyn(soma(0.5))\n",
        "syn.e = 0  # Reverse potential of the synapse (mV)\n",
        "\n",
        "#...create an artificial spike (an \"event\" to be delivered to the synapse)...\n",
        "tsignal = 50  # presynaptic spike time\n",
        "ns = h.NetStim(0.5)  # crete the presynaptic spike\n",
        "ns.start = tsignal  # set the presynaptic start\n",
        "ns.number = 1  # set the numbers of spikes\n",
        "\n",
        "#... and connect the event to the synapse.\n",
        "nc = h.NetCon(ns, syn)  # create the NetCon object\n",
        "nc.delay = 0  # set the delay (ms)\n",
        "nc.weight[0] = 0.008*1  # set the weight"
      ],
      "metadata": {
        "id": "nT38t8Ko1i_P"
      },
      "execution_count": null,
      "outputs": []
    },
    {
      "cell_type": "markdown",
      "source": [
        "### Example simulation\n",
        "### Calculate and print in terminal the depolarization at the soma and at the middle part of the distal dendrite (`dend1`)"
      ],
      "metadata": {
        "id": "XNcvuB5W11LY"
      }
    },
    {
      "cell_type": "code",
      "source": [
        "vsoma_vec = h.Vector().record(soma(0.5)._ref_v)  # Membrane potential vector\n",
        "vdend1_vec = h.Vector().record(dend1(0.5)._ref_v)  # Membrane potential vector\n",
        "t_vec = h.Vector().record(h._ref_t)  # Time stamp vector\n",
        "\n",
        "# Run the simulation\n",
        "h.finitialize(vinit)\n",
        "h.continuerun(tstop)\n",
        "\n",
        "# Remove the first 20ms to avoid artifacts\n",
        "tremove = 20\n",
        "vsoma_vec.remove(0, int(tremove/h.dt))\n",
        "vdend1_vec.remove(0, int(tremove/h.dt))\n",
        "t_vec.remove(0, int(tremove/h.dt))\n",
        "\n",
        "plt.figure(figsize=(8, 6))\n",
        "plt.plot(t_vec, vsoma_vec, color='black', label='soma')\n",
        "plt.plot(t_vec, vdend1_vec, color='red', label='dend')\n",
        "plt.xlabel('time (ms)')\n",
        "plt.ylabel('mV')\n",
        "plt.legend()\n",
        "plt.show()\n",
        "\n",
        "print (f'\\nSomatic depolarization is {np.round(vsoma_vec.max()-vsoma_vec[int((tsignal-tremove)/h.dt)-1], 2)} mV')\n",
        "print (f'Distal Dendritic depolarization is {np.round(vdend1_vec.max()-vdend1_vec[int((tsignal-tremove)/h.dt)-1], 2)} mV')"
      ],
      "metadata": {
        "id": "t29AyLqE1342"
      },
      "execution_count": null,
      "outputs": []
    },
    {
      "cell_type": "markdown",
      "source": [
        "### Task 1: How can you easily make this synapse inhibitory?"
      ],
      "metadata": {
        "id": "4LhhN5tx7UpY"
      }
    },
    {
      "cell_type": "markdown",
      "source": [
        "<details>\n",
        "<summary>Click to see the answer!</summary>\n",
        "\n",
        "We have to reduce the reversal potential of the synapse below the resting membrane potential.\n",
        "\n",
        "```python\n",
        "syn.e = -70\n",
        "```"
      ],
      "metadata": {
        "id": "Wlp521fCbjK6"
      }
    },
    {
      "cell_type": "code",
      "source": [
        "# @markdown Re-execute the code!\n",
        "\n",
        "value = -70  # @param {type:\"number\"}\n",
        "syn.e = value\n",
        "\n",
        "print(f\"The reversal potetnial of the synapse has been set to {value} mV\")"
      ],
      "metadata": {
        "cellView": "form",
        "id": "0TaLlkccb7Fs"
      },
      "execution_count": null,
      "outputs": []
    },
    {
      "cell_type": "code",
      "source": [
        "# Run the simulation\n",
        "h.finitialize(vinit)\n",
        "h.continuerun(tstop)\n",
        "\n",
        "# Remove the first 20ms to avoid artifacts\n",
        "tremove = 20\n",
        "vsoma_vec.remove(0, int(tremove/h.dt))\n",
        "vdend1_vec.remove(0, int(tremove/h.dt))\n",
        "t_vec.remove(0, int(tremove/h.dt))\n",
        "\n",
        "plt.figure(figsize=(8, 6))\n",
        "plt.plot(t_vec, vsoma_vec, color='black', label='soma')\n",
        "plt.plot(t_vec, vdend1_vec, color='red', label='dend')\n",
        "plt.xlabel('time (ms)')\n",
        "plt.ylabel('mV')\n",
        "plt.legend()\n",
        "plt.show()"
      ],
      "metadata": {
        "id": "rsR2aNd8cXfL"
      },
      "execution_count": null,
      "outputs": []
    },
    {
      "cell_type": "markdown",
      "source": [
        "### Task 2: Move the synapse to the middle of `dend1` section.\n",
        "### What do you expect for the amplitude and the duration of the EPSP seen at the dendrite and at the soma?"
      ],
      "metadata": {
        "id": "u3NSC_w-7gDv"
      }
    },
    {
      "cell_type": "markdown",
      "source": [
        "<details>\n",
        "<summary>Ckick here to see the answer</summary>\n",
        "\n",
        "```python\n",
        "syn = h.ExpSyn(dend1(0.5))\n",
        "```"
      ],
      "metadata": {
        "id": "IfufPxdocM3L"
      }
    },
    {
      "cell_type": "code",
      "source": [
        "# @title Re-execute the code\n",
        "# Place the synapse to the middle (0.5) of the dend1...\n",
        "syn = h.ExpSyn(dend1(0.5))\n",
        "syn.e = 0  # Reverse potential of the synapse (mV)\n",
        "\n",
        "#... and connect the event to the synapse.\n",
        "nc = h.NetCon(ns, syn)  # create the NetCon object\n",
        "nc.delay = 0  # set the delay (ms)\n",
        "nc.weight[0] = 0.008*1  # set the weight"
      ],
      "metadata": {
        "cellView": "form",
        "id": "_2jItxFYcNfN"
      },
      "execution_count": null,
      "outputs": []
    },
    {
      "cell_type": "code",
      "source": [
        "# Run the simulation\n",
        "h.finitialize(vinit)\n",
        "h.continuerun(tstop)\n",
        "\n",
        "# Remove the first 20ms to avoid artifacts\n",
        "tremove = 20\n",
        "vsoma_vec.remove(0, int(tremove/h.dt))\n",
        "vdend1_vec.remove(0, int(tremove/h.dt))\n",
        "t_vec.remove(0, int(tremove/h.dt))\n",
        "\n",
        "plt.figure(figsize=(8, 6))\n",
        "plt.plot(t_vec, vsoma_vec, color='black', label='soma')\n",
        "plt.plot(t_vec, vdend1_vec, color='red', label='dend')\n",
        "plt.xlabel('time (ms)')\n",
        "plt.ylabel('mV')\n",
        "plt.legend()\n",
        "plt.show()\n",
        "\n",
        "print (f'\\nSomatic depolarization is {np.round(vsoma_vec.max()-vsoma_vec[int((tsignal-tremove)/h.dt)-1], 2)} mV')\n",
        "print (f'Distal Dendritic depolarization is {np.round(vdend1_vec.max()-vdend1_vec[int((tsignal-tremove)/h.dt)-1], 2)} mV')"
      ],
      "metadata": {
        "id": "PKmPzOKpceEs"
      },
      "execution_count": null,
      "outputs": []
    },
    {
      "cell_type": "markdown",
      "source": [
        "### Task 3: Insert 1 to 5 synapses like this one in the same location. In this case, this is equivalent to increasing the weight 1 to 5 times.\n",
        "### What is the expected (arithmetic sum) versus actual (simulated output)?\n",
        "### Is their relationship linear? "
      ],
      "metadata": {
        "id": "L-bdDJoY7nOU"
      }
    },
    {
      "cell_type": "code",
      "source": [
        "nsyn = 11 # @param {type:\"slider\", min:1, max:25, step:1}\n",
        "nc.weight[0] = 0.008*nsyn  # set the weight\n",
        "\n",
        "# Run the simulation\n",
        "h.finitialize(vinit)\n",
        "h.continuerun(tstop)\n",
        "\n",
        "# Remove the first 20ms to avoid artifacts\n",
        "tremove = 20\n",
        "vsoma_vec.remove(0, int(tremove/h.dt))\n",
        "vdend1_vec.remove(0, int(tremove/h.dt))\n",
        "t_vec.remove(0, int(tremove/h.dt))\n",
        "\n",
        "plt.figure(figsize=(8, 6))\n",
        "plt.plot(t_vec, vsoma_vec, color='black', label='soma')\n",
        "plt.plot(t_vec, vdend1_vec, color='red', label='dend')\n",
        "plt.xlabel('time (ms)')\n",
        "plt.ylabel('mV')\n",
        "plt.legend()\n",
        "plt.show()\n",
        "\n",
        "print (f'\\nSomatic depolarization is {np.round(vsoma_vec.max()-vsoma_vec[int((tsignal-tremove)/h.dt)-1], 2)} mV')\n",
        "print (f'Distal Dendritic depolarization is {np.round(vdend1_vec.max()-vdend1_vec[int((tsignal-tremove)/h.dt)-1], 2)} mV')"
      ],
      "metadata": {
        "cellView": "form",
        "id": "AkpxjWMxciMn"
      },
      "execution_count": null,
      "outputs": []
    },
    {
      "cell_type": "markdown",
      "source": [
        "Now, let's run the loop!"
      ],
      "metadata": {
        "id": "R3XNq1eqciwK"
      }
    },
    {
      "cell_type": "code",
      "source": [
        "N = 25\n",
        "actual_epsp = []\n",
        "for i in range(N):\n",
        "  nc.weight[0] = 0.008*(i+1)\n",
        "\n",
        "  # reinitialize the simulator and run again\n",
        "  h.finitialize(vinit)\n",
        "  h.continuerun(tstop)\n",
        "  \n",
        "  # Remove the first 20ms to avoid artifacts\n",
        "  tremove = 20\n",
        "  vsoma_vec.remove(0, int(tremove/h.dt))\n",
        "  t_vec.remove(0, int(tremove/h.dt))\n",
        "  actual_epsp.append(np.round(vsoma_vec.max() - vsoma_vec[int((tsignal-tremove)/h.dt)-1], 2))\n",
        "\n",
        "# Calculate the expected EPSP\n",
        "expected_epsp = [actual_epsp[0]*i for i in range(1, N+1)]\n",
        "\n",
        "# Plots the results\n",
        "plt.figure(figsize=(8, 6)) \n",
        "plt.plot(expected_epsp, actual_epsp, color='red', label='actual')\n",
        "plt.plot(expected_epsp, expected_epsp, linestyle='dashed', color='black', label='linear')\n",
        "plt.xlabel('Expected EPSP-Linear Summation (mV)')\n",
        "plt.ylabel('Actual EPSP (mV)')\n",
        "plt.legend()\n",
        "plt.show()"
      ],
      "metadata": {
        "id": "_uGhg9z77rVK"
      },
      "execution_count": null,
      "outputs": []
    }
  ]
}
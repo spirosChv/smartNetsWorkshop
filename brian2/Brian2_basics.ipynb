{
  "nbformat": 4,
  "nbformat_minor": 0,
  "metadata": {
    "colab": {
      "name": "Brian2-basics.ipynb",
      "provenance": [],
      "toc_visible": true,
      "collapsed_sections": [],
      "include_colab_link": true
    },
    "kernelspec": {
      "name": "python3",
      "display_name": "Python 3"
    },
    "language_info": {
      "name": "python"
    }
  },
  "cells": [
    {
      "cell_type": "markdown",
      "metadata": {
        "id": "view-in-github",
        "colab_type": "text"
      },
      "source": [
        "<a href=\"https://colab.research.google.com/github/spirosChv/smartNetsWorkshop/blob/main/brian2/Brian2_basics.ipynb\" target=\"_parent\"><img src=\"https://colab.research.google.com/assets/colab-badge.svg\" alt=\"Open In Colab\"/></a>"
      ]
    },
    {
      "cell_type": "markdown",
      "source": [
        "## Main topics\n",
        "* Understanding Brian's units system\n",
        "* Describing a simple neuronal model\n",
        "* Core Brian classes: `NeuronGroup`, `Synapses`, `Monitors`\n",
        "* Running and recording simulations\n",
        "* Output visualization\n",
        "\n",
        "\n",
        "NOTE: Some examples were adapted by the official Brian 2 tutorials. To access the original tutorials as well as Brian's complete documentation please visit the [Brian 2 website](https://brian2.readthedocs.io/en/stable/index.html)\n",
        "\n",
        "Author: Michalis Pagkalos, [Poirazi Lab](https://dendrites.gr/?page_id=265)"
      ],
      "metadata": {
        "id": "bw6023vfnSUs"
      }
    },
    {
      "cell_type": "markdown",
      "source": [
        "## Brian 2 installation"
      ],
      "metadata": {
        "id": "NweF_Z1peaCG"
      }
    },
    {
      "cell_type": "code",
      "execution_count": null,
      "metadata": {
        "id": "0PLNOeWimX83"
      },
      "outputs": [],
      "source": [
        "!pip install brian2 --quiet # Same in all Linux systems"
      ]
    },
    {
      "cell_type": "markdown",
      "source": [
        "## Import useful stuff\n",
        "**Important:** Our world would be a better place if `*` imports were not a thing. It might seem tempting to import everything from a given package at the beginning of your code, but in fact, it's the source of all evil. If you ever see any code of mine with \\* star imports, please contact the police and let them know that: a) I have been kidnapped, b) Someone has stolen my identity, c) My cat needs feeding (no more than 80 gr / day,  he is fat). Thank you."
      ],
      "metadata": {
        "id": "MHOiRo44es1n"
      }
    },
    {
      "cell_type": "code",
      "source": [
        "import brian2 as b\n",
        "from brian2.units import volt, amp, namp, ohm, nA, ms, mV, pF, nS, pA\n",
        "\n",
        "b.prefs.codegen.target = 'numpy' # pretend this line doesn't exist for now"
      ],
      "metadata": {
        "id": "nACrrrcqnu66"
      },
      "execution_count": null,
      "outputs": []
    },
    {
      "cell_type": "markdown",
      "source": [
        "## Units system\n",
        "\n",
        "Brian has a system for using quantities with physical dimensions:"
      ],
      "metadata": {
        "id": "jZ0Rfbe2uCBk"
      }
    },
    {
      "cell_type": "code",
      "source": [
        "20*volt"
      ],
      "metadata": {
        "id": "dRrQPNkRoe0h"
      },
      "execution_count": null,
      "outputs": []
    },
    {
      "cell_type": "markdown",
      "source": [
        "All of the basic SI units can be used (volt, amp, etc.) along with all the standard prefixes (m=milli, p=pico, etc.), as well as a few special abbreviations like `mV` for millivolt, `pF` for picofarad, etc."
      ],
      "metadata": {
        "id": "60IEYTLuuW1w"
      }
    },
    {
      "cell_type": "code",
      "source": [
        "1000*amp"
      ],
      "metadata": {
        "id": "GH9B2dpWohjX"
      },
      "execution_count": null,
      "outputs": []
    },
    {
      "cell_type": "code",
      "source": [
        "1000*namp"
      ],
      "metadata": {
        "id": "fZ9nMWBru6P1"
      },
      "execution_count": null,
      "outputs": []
    },
    {
      "cell_type": "code",
      "source": [
        "1e6*volt"
      ],
      "metadata": {
        "id": "A25aniwau32N"
      },
      "execution_count": null,
      "outputs": []
    },
    {
      "cell_type": "markdown",
      "source": [
        "Also note that combinations of units with work as expected:"
      ],
      "metadata": {
        "id": "ebQjRs9Nu_tr"
      }
    },
    {
      "cell_type": "code",
      "source": [
        "10*amp * 5*ohm"
      ],
      "metadata": {
        "id": "kLGK9eaOvAcZ"
      },
      "execution_count": null,
      "outputs": []
    },
    {
      "cell_type": "markdown",
      "source": [
        "And if you try to do something wrong like adding amps and volts, what happens?"
      ],
      "metadata": {
        "id": "NqQR0jZ0vlA8"
      }
    },
    {
      "cell_type": "code",
      "source": [
        "5*amp + 10*volt"
      ],
      "metadata": {
        "id": "kKJHuCmgvCPn"
      },
      "execution_count": null,
      "outputs": []
    },
    {
      "cell_type": "markdown",
      "source": [
        "## A simple model\n",
        "\n",
        "Let's start by defining a simple neuron model. In Brian, all models are defined by systems of differential equations. Here's a simple example of what that looks like:"
      ],
      "metadata": {
        "id": "rDSSqz7zwCMk"
      }
    },
    {
      "cell_type": "code",
      "source": [
        "eqs = '''dv/dt = (1-v)/tau : 1'''"
      ],
      "metadata": {
        "id": "4fwFfv5mvusF"
      },
      "execution_count": null,
      "outputs": []
    },
    {
      "cell_type": "markdown",
      "source": [
        "In Python, the notation `'''` is used to begin and end a multi-line string. So the equations are just a string with one line per equation. The equations are formatted with standard mathematical notation, with one addition. At the end of a line you write `: unit` where `unit` is the SI unit of that variable.\n",
        "Note that this is not the unit of the two sides of the equation (which would be `1/second`), but the unit of the *variable* defined by the equation, i.e. in this case $v$.\n",
        "\n",
        "Now let's use this definition to create a neuron and run our first simulation."
      ],
      "metadata": {
        "id": "HNlc18wmwyqi"
      }
    },
    {
      "cell_type": "code",
      "source": [
        "b.start_scope()\n",
        "\n",
        "# model equations:\n",
        "eqs = '''dv/dt = (1-v)/tau : 1'''\n",
        "\n",
        "# make a neurongroup:\n",
        "G = b.NeuronGroup(1, eqs, method='euler')\n",
        "\n",
        "# record how the v variable evolved during the simulation:\n",
        "M = b.StateMonitor(G, 'v', record=0)  # record=True to record from all neurons\n",
        "\n",
        "# tell Brian to run simulation\n",
        "b.run(100*ms)"
      ],
      "metadata": {
        "id": "Uw41V5iXwjqE"
      },
      "execution_count": null,
      "outputs": []
    },
    {
      "cell_type": "markdown",
      "source": [
        "Oops something is missing. Let's fix it."
      ],
      "metadata": {
        "id": "vR7RWD0IBInw"
      }
    },
    {
      "cell_type": "code",
      "source": [
        "b.start_scope()\n",
        "\n",
        "# model equations and params :\n",
        "eqs = '''dv/dt = (1-v)/tau : 1'''\n",
        "tau = 10*ms # membrane time constant\n",
        "\n",
        "# make a neurongroup:\n",
        "G = b.NeuronGroup(1, eqs, method='euler')\n",
        "\n",
        "# record how the v variable evolved during the simulation:\n",
        "M = b.StateMonitor(G, 'v', record=0)  # record=True to record from all neurons\n",
        "\n",
        "# tell Brian to run simulation\n",
        "b.run(100*ms)"
      ],
      "metadata": {
        "id": "t80rW5xeBHKn"
      },
      "execution_count": null,
      "outputs": []
    },
    {
      "cell_type": "markdown",
      "source": [
        "First off, ignore that `start_scope()` at the top of the cell. You'll see that in each cell in this tutorial where we run a simulation. All it does is make sure that any Brian objects created before the function is called aren't included in the next run of the simulation.\n",
        "\n",
        "In Brian, you only create groups of neurons, using the class `NeuronGroup`. The first two arguments when you create one of these objects are the number of neurons (in this case, 1) and the defining differential equations.\n",
        "\n",
        "The object ``StateMonitor`` object is used to record the values of a neuron variable while the simulation runs. The first two arguments are the group to record from, and the variable you want to record from. We also specify ``record=0``. This means that we record all values for neuron 0. We have to specify which neurons we want to record because in large simulations with many neurons it usually uses up too much RAM to record the values of all neurons."
      ],
      "metadata": {
        "id": "dbzEG64FkLC4"
      }
    },
    {
      "cell_type": "code",
      "source": [
        "b.plot(M.t/ms, M.v[0])\n",
        "b.xlabel('Time (ms)')\n",
        "b.ylabel('v');"
      ],
      "metadata": {
        "id": "8-F89sfOkfit"
      },
      "execution_count": null,
      "outputs": []
    },
    {
      "cell_type": "markdown",
      "source": [
        "## Time for REAL fun\n",
        "Now that you have general understanding of how Brian 2 works let's play a little and explore what else we can do."
      ],
      "metadata": {
        "id": "TTUaRKX3EgDM"
      }
    },
    {
      "cell_type": "markdown",
      "source": [
        "### Example 1: Multiple neurons"
      ],
      "metadata": {
        "id": "2-3wSLCnIzXN"
      }
    },
    {
      "cell_type": "code",
      "source": [
        "b.start_scope()\n",
        "\n",
        "# make model and initialise v\n",
        "eqs = '''dv/dt = (1-v)/tau : 1'''\n",
        "tau = 10*ms \n",
        "G = b.NeuronGroup(2, eqs, method='euler')\n",
        "G.v[0] = 0\n",
        "G.v[1] = 3 \n",
        "\n",
        "# set v monitors\n",
        "M = b.StateMonitor(G, 'v', record=True)  # record=True to record from all neurons\n",
        "\n",
        "# run simulation\n",
        "b.run(100*ms)\n",
        "\n",
        "# plot output\n",
        "b.plot(M.t/ms, M.v[0], label='neuron 0')\n",
        "b.plot(M.t/ms, M.v[1], label='neuron 1')\n",
        "b.xlabel('Time (ms)')\n",
        "b.ylabel('v')\n",
        "b.legend();"
      ],
      "metadata": {
        "id": "RI8Uzl41E-0l"
      },
      "execution_count": null,
      "outputs": []
    },
    {
      "cell_type": "markdown",
      "source": [
        "### Example 2: Leaky IF"
      ],
      "metadata": {
        "id": "VynprPeWJCuw"
      }
    },
    {
      "cell_type": "code",
      "source": [
        "b.start_scope()\n",
        "\n",
        "C = 50 * pF # capacitance\n",
        "gL = 5 * nS # leak conductance\n",
        "EL = -60*mV # rest voltage\n",
        "Vt = -40*mV # spike threshold\n",
        "Vr = -50*mV # voltage reset after spike\n",
        "\n",
        "eqs = '''\n",
        "dv/dt = (gL*(EL-v) + I) / C  : volt\n",
        "I : amp\n",
        "'''\n",
        "\n",
        "# create model\n",
        "G = b.NeuronGroup(1, eqs, threshold='v>Vt', reset='v = Vr', method='euler')\n",
        "G.v = EL # initialise rest voltage\n",
        "\n",
        "# set v monitors\n",
        "M = b.StateMonitor(G, 'v', record=0)\n",
        "\n",
        "# first 20 ms -> no input\n",
        "b.run(20*ms)\n",
        "# next 100 ms -> 120 pA current injection\n",
        "G.I = 120*pA\n",
        "b.run(100*ms)\n",
        "# next 50 ms -> no input to return to rest\n",
        "G.I = 0*pA\n",
        "b.run(50*ms)\n",
        "\n",
        "# plot output\n",
        "b.plot(M.t/ms, M.v[0]/mV)\n",
        "b.xlabel('Time (ms)')\n",
        "b.ylabel('Voltage (mV)');"
      ],
      "metadata": {
        "id": "LNPPW2GIFynn"
      },
      "execution_count": null,
      "outputs": []
    },
    {
      "cell_type": "markdown",
      "source": [
        "### Example 3: Counting spikes"
      ],
      "metadata": {
        "id": "6i6QHjnxf6Lm"
      }
    },
    {
      "cell_type": "code",
      "source": [
        "b.start_scope()\n",
        "b.seed(123)\n",
        "G = b.NeuronGroup(50, eqs, threshold='v>Vt', reset='v = Vr', method='euler')\n",
        "G.v = b.uniform(-60, -45, 50) * mV # initialise rest voltage\n",
        "\n",
        "S = b.SpikeMonitor(G)\n",
        "\n",
        "G.I = 120*pA\n",
        "b.run(100*ms)\n",
        "\n",
        "b.plot(S.t/ms, S.i, '.k')\n",
        "b.xlabel('Time (ms)')\n",
        "b.ylabel('Neuron index');"
      ],
      "metadata": {
        "id": "vLRFD_cXM-dO"
      },
      "execution_count": null,
      "outputs": []
    },
    {
      "cell_type": "code",
      "source": [
        "S.t  # spiketimes"
      ],
      "metadata": {
        "id": "pTGimnQtkOZD"
      },
      "execution_count": null,
      "outputs": []
    },
    {
      "cell_type": "code",
      "source": [
        "S.i  # spike indices"
      ],
      "metadata": {
        "id": "yQLaRk73mmuh"
      },
      "execution_count": null,
      "outputs": []
    },
    {
      "cell_type": "code",
      "source": [
        "S.all_values()"
      ],
      "metadata": {
        "id": "PnHL5mlynanK"
      },
      "execution_count": null,
      "outputs": []
    },
    {
      "cell_type": "markdown",
      "source": [
        "### Example 4: Synapses"
      ],
      "metadata": {
        "id": "BrZ7DQBAouB3"
      }
    },
    {
      "cell_type": "code",
      "source": [
        "b.start_scope()\n",
        "G = b.NeuronGroup(2, eqs, threshold='v>Vt', reset='v = Vr', method='euler')\n",
        "G.v = EL\n",
        "\n",
        "S = b.Synapses(G, G, on_pre='v_post += 4*mV', delay=2*ms)\n",
        "S.connect(i=0, j=1)\n",
        "\n",
        "M = b.StateMonitor(G, 'v', record=True)\n",
        "Spikes = b.SpikeMonitor(G)\n",
        "\n",
        "G.I[0] = 120*pA\n",
        "b.run(100*ms)\n",
        "\n",
        "b.plot(M.t/ms, M.v[0]/mV, label='neuron 0')\n",
        "b.plot(M.t/ms, M.v[1]/mV, label='neuron 1')\n",
        "for t in Spikes.t:\n",
        "    b.axvline(t/ms, ls='--', c='red', lw=1)\n",
        "b.xlabel('Time (ms)')\n",
        "b.ylabel('v')\n",
        "b.legend();"
      ],
      "metadata": {
        "id": "Rc3_j6EWp7IH"
      },
      "execution_count": null,
      "outputs": []
    },
    {
      "cell_type": "markdown",
      "source": [
        "### Example 5: AMPA / NMDA currents"
      ],
      "metadata": {
        "id": "_Er6ISO4pFde"
      }
    },
    {
      "cell_type": "code",
      "source": [
        "b.start_scope()\n",
        "# equations and parameters\n",
        "eqs = '''\n",
        "dv/dt = (gL*(EL-v) + I + I_ampa) / C  : volt\n",
        "I_ampa = g_ampa * (E_ampa-v) * s : amp\n",
        "ds/dt = -s / tau_ampa : 1\n",
        "I : amp\n",
        "'''\n",
        "E_ampa = 0*mV\n",
        "g_ampa = 2*nS\n",
        "tau_ampa = 2*ms\n",
        "\n",
        "# create model\n",
        "G = b.NeuronGroup(2, eqs, threshold='v>Vt', reset='v = Vr', method='euler')\n",
        "G.v = EL # initialise rest voltage\n",
        "\n",
        "# synaspses\n",
        "S = b.Synapses(G, G, on_pre='s += 1', delay=2*ms)\n",
        "S.connect(i=0, j=1)\n",
        "\n",
        "# monitors\n",
        "M = b.StateMonitor(G, 'v', record=True)\n",
        "Spikes = b.SpikeMonitor(G)\n",
        "\n",
        "# simulation\n",
        "G.I[0] = 120*pA\n",
        "b.run(100*ms)\n",
        "\n",
        "# plotting\n",
        "b.plot(M.t/ms, M.v[0]/mV, label='neuron 0')\n",
        "b.plot(M.t/ms, M.v[1]/mV, label='neuron 1')\n",
        "for t in Spikes.t:\n",
        "    b.axvline(t/ms, ls='--', c='red', lw=1)\n",
        "b.xlabel('Time (ms)')\n",
        "b.ylabel('v')\n",
        "b.legend();"
      ],
      "metadata": {
        "id": "97Lwp3-yo0Pi"
      },
      "execution_count": null,
      "outputs": []
    },
    {
      "cell_type": "code",
      "source": [
        "b.start_scope()\n",
        "# equations and parameters\n",
        "eqs = '''\n",
        "dv/dt = (gL*(EL-v) + I + I_syn) / C  : volt\n",
        "I_ampa = g_ampa * (E_ampa-v) * s_ampa : amp\n",
        "ds_ampa/dt = -s_ampa / tau_ampa : 1\n",
        "\n",
        "I_nmda = g_nmda * (E_nmda-v) * s_nmda / sigma : amp\n",
        "ds_nmda/dt = -s_nmda / tau_nmda : 1\n",
        "sigma = 1 + Mg * exp(-alpha*(v/mV+gamma)) / beta : 1\n",
        "\n",
        "I_syn = I_ampa + I_nmda : amp\n",
        "I : amp\n",
        "'''\n",
        "\n",
        "g_ampa = 0.3*nS\n",
        "tau_ampa = 2*ms\n",
        "E_ampa = 0*mV\n",
        "\n",
        "g_nmda = 0.3*nS\n",
        "tau_nmda = 50*ms\n",
        "E_nmda = 0*mV\n",
        "alpha = 0.062\n",
        "beta = 3.57\n",
        "gamma = 0\n",
        "Mg = 1.0\n",
        "\n",
        "# create model\n",
        "G = b.NeuronGroup(1, eqs, method='euler')\n",
        "G.v = -60*mV\n",
        "\n",
        "# create input\n",
        "I = b.SpikeGeneratorGroup(1, [0], [10*ms])\n",
        "\n",
        "# synapses\n",
        "S = b.Synapses(I, G, on_pre='s_ampa += 1; s_nmda += 1')\n",
        "S.connect(i=0, j=0)\n",
        "\n",
        "# monitors\n",
        "M = b.StateMonitor(G, ['v', 'I_ampa', 'I_nmda'], record=True)\n",
        "\n",
        "# simulation\n",
        "b.run(200*ms)\n",
        "\n",
        "# plotting\n",
        "fig, (ax1, ax2) = b.subplots(1, 2, figsize=[10, 4])\n",
        "ax1.plot(M.t/ms, M.v[0]/mV, label='neuron 0')\n",
        "ax2.plot(M.t/ms, -M.I_ampa[0]/pA, c='black', label='I_ampa')\n",
        "ax2.plot(M.t/ms, -M.I_nmda[0]/pA, c='red', label='I_nmda')\n",
        "ax1.set_xlabel('Time (ms)')\n",
        "ax1.set_ylabel('Voltage (mV)')\n",
        "ax2.set_xlabel('Time (ms)')\n",
        "ax2.set_ylabel('Current (pA)')\n",
        "ax2.legend()\n",
        "fig.tight_layout();"
      ],
      "metadata": {
        "id": "-HUOWOCpzHqr"
      },
      "execution_count": null,
      "outputs": []
    },
    {
      "cell_type": "code",
      "source": [
        "b.start_scope()\n",
        "EL = -20*mV\n",
        "# create model\n",
        "G = b.NeuronGroup(1, eqs, method='euler')\n",
        "G.v = EL\n",
        "\n",
        "# create input\n",
        "I = b.SpikeGeneratorGroup(1, [0], [10*ms])\n",
        "\n",
        "# synapses\n",
        "S = b.Synapses(I, G, on_pre='s_ampa += 1; s_nmda += 1')\n",
        "S.connect(i=0, j=0)\n",
        "\n",
        "# monitors\n",
        "M = b.StateMonitor(G, ['v', 'I_ampa', 'I_nmda'], record=True)\n",
        "\n",
        "# simulation\n",
        "b.run(200*ms)\n",
        "\n",
        "# plotting\n",
        "fig, (ax1, ax2) = b.subplots(1, 2, figsize=[10, 4])\n",
        "ax1.plot(M.t/ms, M.v[0]/mV, label='neuron 0')\n",
        "ax2.plot(M.t/ms, -M.I_ampa[0]/pA, c='black', label='I_ampa')\n",
        "ax2.plot(M.t/ms, -M.I_nmda[0]/pA, c='red', label='I_nmda')\n",
        "ax1.set_xlabel('Time (ms)')\n",
        "ax1.set_ylabel('Voltage (mV)')\n",
        "ax2.set_xlabel('Time (ms)')\n",
        "ax2.set_ylabel('Current (pA)')\n",
        "ax2.legend()\n",
        "fig.tight_layout();"
      ],
      "metadata": {
        "id": "7Q3H4xkAVKxj"
      },
      "execution_count": null,
      "outputs": []
    }
  ]
}
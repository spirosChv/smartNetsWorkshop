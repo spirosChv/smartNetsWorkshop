{
  "nbformat": 4,
  "nbformat_minor": 0,
  "metadata": {
    "colab": {
      "name": "Playing with dendrites.ipynb",
      "provenance": [],
      "collapsed_sections": [],
      "toc_visible": true,
      "include_colab_link": true
    },
    "kernelspec": {
      "name": "python3",
      "display_name": "Python 3"
    },
    "language_info": {
      "name": "python"
    }
  },
  "cells": [
    {
      "cell_type": "markdown",
      "metadata": {
        "id": "view-in-github",
        "colab_type": "text"
      },
      "source": [
        "<a href=\"https://colab.research.google.com/github/spirosChv/smartNetsWorkshop/blob/main/brian2/Playing_with_dendrites.ipynb\" target=\"_parent\"><img src=\"https://colab.research.google.com/assets/colab-badge.svg\" alt=\"Open In Colab\"/></a>"
      ]
    },
    {
      "cell_type": "markdown",
      "source": [
        "## Setup"
      ],
      "metadata": {
        "id": "G9sFqceVelxQ"
      }
    },
    {
      "cell_type": "code",
      "source": [
        "#@title Install dependencies (might take a few seconds)\n",
        "!pip install brian2 --quiet"
      ],
      "metadata": {
        "id": "tXzBNjEcjDf-",
        "cellView": "form"
      },
      "execution_count": null,
      "outputs": []
    },
    {
      "cell_type": "code",
      "execution_count": null,
      "metadata": {
        "id": "_O3opU3oupgr",
        "cellView": "form"
      },
      "outputs": [],
      "source": [
        "#@title Imports and settings\n",
        "import brian2 as b\n",
        "from brian2.units import *\n",
        "\n",
        "b.prefs.codegen.target = 'numpy' # Improves performance significantly here\n",
        "b.start_scope()    # allows running separate simulations in the same notebook\n",
        "\n",
        "# @title Figure settings\n",
        "blue = '#005c94ff'\n",
        "green = '#338000ff'\n",
        "orange = '#ff6600ff'\n",
        "params = {\n",
        "          \"legend.fontsize\": 10,\n",
        "          \"legend.handlelength\": 1.5,\n",
        "          \"legend.edgecolor\": 'inherit',\n",
        "          \"legend.columnspacing\": 0.8,\n",
        "          \"legend.handletextpad\": 0.5,\n",
        "          \"axes.labelsize\": 10,\n",
        "          \"axes.titlesize\": 11, \n",
        "          \"axes.spines.right\": False,\n",
        "          \"axes.spines.top\": False,\n",
        "          \"xtick.labelsize\": 10,\n",
        "          \"ytick.labelsize\": 10,\n",
        "          'mathtext.default': 'regular',\n",
        "          'lines.markersize': 3,\n",
        "          'lines.linewidth': 1.25,\n",
        "          'grid.color': \"#d3d3d3\",\n",
        "          'text.antialiased': True,\n",
        "          'lines.antialiased': True,\n",
        "          'figure.dpi': 150,\n",
        "          'axes.prop_cycle': b.cycler(color=[blue, orange, green])\n",
        "          }\n",
        "\n",
        "b.rcParams.update(params)"
      ]
    },
    {
      "cell_type": "markdown",
      "source": [
        "## Build model\n",
        "> Let's first creat a 3-compartment toy model with passive dendrites:"
      ],
      "metadata": {
        "id": "MU9JXcXpfDth"
      }
    },
    {
      "cell_type": "code",
      "source": [
        "eqs = \"\"\"\n",
        "    dV_soma/dt = (gL_soma * (EL_soma-V_soma) + I_soma) / C_soma  :volt\n",
        "    I_soma = I_ext_soma + I_basal_soma  + I_apical_soma   :amp\n",
        "    I_ext_soma  :amp\n",
        "    I_apical_soma = (V_apical-V_soma) * g_apical_soma  :amp\n",
        "    I_basal_soma = (V_basal-V_soma) * g_basal_soma  :amp\n",
        "\n",
        "    dV_apical/dt = (gL_apical * (EL_apical-V_apical) + I_apical) / C_apical  :volt\n",
        "    I_apical = I_ext_apical + I_soma_apical  + I_NMDA_cortex_apical + I_AMPA_cortex_apical  :amp\n",
        "    I_ext_apical  :amp\n",
        "    I_AMPA_cortex_apical = g_AMPA_cortex_apical * (E_AMPA-V_apical) * s_AMPA_cortex_apical  :amp\n",
        "    ds_AMPA_cortex_apical/dt = -s_AMPA_cortex_apical / t_AMPA_decay_cortex_apical  :1\n",
        "    I_NMDA_cortex_apical = g_NMDA_cortex_apical * (E_NMDA-V_apical) * s_NMDA_cortex_apical / (1 + Mg * exp(-alpha*(V_apical/mV+gamma)) / beta)  :amp\n",
        "    ds_NMDA_cortex_apical/dt = -s_NMDA_cortex_apical/t_NMDA_decay_cortex_apical  :1\n",
        "    I_soma_apical = (V_soma-V_apical) * g_soma_apical  :amp\n",
        "\n",
        "    dV_basal/dt = (gL_basal * (EL_basal-V_basal) + I_basal) / C_basal  :volt\n",
        "    I_basal = I_ext_basal + I_soma_basal   :amp\n",
        "    I_ext_basal  :amp\n",
        "    I_soma_basal = (V_soma-V_basal) * g_soma_basal  :amp\"\"\"\n",
        "\n",
        "params = {\n",
        "    'C_apical': 70.68583471 * pfarad,\n",
        "    'C_basal': 42.41150082 * pfarad,\n",
        "    'C_soma': 58.90486225 * pfarad,\n",
        "    'EL_apical': -70. * mvolt,\n",
        "    'EL_basal': -70. * mvolt,\n",
        "    'EL_soma': -70. * mvolt,\n",
        "    'E_AMPA': 0. * volt,\n",
        "    'E_NMDA': 0. * volt,\n",
        "    'Mg': 1.0,\n",
        "    'alpha': 0.062,\n",
        "    'beta': 3.57,\n",
        "    'gL_apical': 3.53429174 * nsiemens,\n",
        "    'gL_basal': 2.12057504 * nsiemens,\n",
        "    'gL_soma': 2.94524311 * nsiemens,\n",
        "    'g_AMPA_cortex_apical': 1. * nsiemens,\n",
        "    'g_NMDA_cortex_apical': 1. * nsiemens,\n",
        "    'g_apical_soma': 10. * nsiemens,\n",
        "    'g_basal_soma': 10. * nsiemens,\n",
        "    'g_soma_apical': 10. * nsiemens,\n",
        "    'g_soma_basal': 10. * nsiemens,\n",
        "    'gamma': 0,\n",
        "    't_AMPA_decay_cortex_apical': 2. * msecond,\n",
        "    't_NMDA_decay_cortex_apical': 60. * msecond\n",
        "    }\n",
        "\n",
        "# create a Brian NeuronGroup and inialize v rest\n",
        "pyr_group = b.NeuronGroup(3, model=eqs, method='euler',\n",
        "                          threshold='V_soma > -40*mV',\n",
        "                          reset='V_soma = -50*mV',\n",
        "                          refractory=3*ms,\n",
        "                          namespace=params)\n",
        "pyr_group.V_soma = -70. * mvolt\n",
        "pyr_group.V_apical = -70. * mvolt\n",
        "pyr_group.V_basal = -70. * mvolt\n"
      ],
      "metadata": {
        "id": "dLHYPvnQ0TbF"
      },
      "execution_count": null,
      "outputs": []
    },
    {
      "cell_type": "markdown",
      "source": [
        "> *Our model now looks somewhat like this:*\n",
        ">\n",
        "><p align=\"center\">\n",
        "    <img src=\"https://github.com/mpgl/dendrify-paper/blob/main/graphics/1.png?raw=true\" alt=\"model\" width=\"25%\">\n",
        "></p>"
      ],
      "metadata": {
        "id": "tqxt3A2leAq9"
      }
    },
    {
      "cell_type": "markdown",
      "source": [
        "## Panel b | Somatodendritic attenuation\n",
        "> *We are going to apply depolarizing current injections (400 ms pulses of 100 pA at -70 mV baseline voltage) individually to each compartment and record the voltage responses of all compartments.*"
      ],
      "metadata": {
        "id": "eNwxAHXulUV3"
      }
    },
    {
      "cell_type": "code",
      "source": [
        "# Set monitors to record membrane voltages\n",
        "M = b.StateMonitor(pyr_group, [\"V_soma\", \"V_apical\", \"V_basal\"], record=True)\n",
        "\n",
        "# Set input current amplitude\n",
        "I = 100 * pA\n",
        "\n",
        "# First 100 ms -> no input\n",
        "b.run(100*ms)\n",
        "\n",
        "# Next 400 ms -> square pulse of I amplitude\n",
        "pyr_group.I_ext_soma[0] = I\n",
        "pyr_group.I_ext_apical[1] = I\n",
        "pyr_group.I_ext_basal[2] = I\n",
        "b.run(400*ms)\n",
        "\n",
        "# Next 200 ms -> no input to let membranes return to Vrest\n",
        "pyr_group.I_ext_soma[0] = 0 * pA\n",
        "pyr_group.I_ext_apical[1] = 0 * pA\n",
        "pyr_group.I_ext_basal[2] = 0 * pA\n",
        "b.run(200*ms)"
      ],
      "metadata": {
        "id": "wKkDO_7Kdn_c"
      },
      "execution_count": null,
      "outputs": []
    },
    {
      "cell_type": "code",
      "source": [
        "# @title Plot voltage traces\n",
        "time = M.t/ms\n",
        "vs = M.V_soma/mV\n",
        "va = M.V_apical/mV\n",
        "vb = M.V_basal/mV\n",
        "\n",
        "fig, axes = b.subplots(1, 3, figsize=[6, 2.5], sharex=True, sharey=True)\n",
        "ax0, ax1, ax2 = axes\n",
        "\n",
        "for id, ax in enumerate([ax0, ax1, ax2]):\n",
        "    for v in vs, va, vb:\n",
        "        ax.plot(time, v[id])\n",
        "\n",
        "ax0.set_ylabel('Voltage (mV)')\n",
        "ax1.set_xlabel('Time (ms)')\n",
        "\n",
        "ax0.set_title(\"Input \\u2192 soma\")\n",
        "ax1.set_title(\"Input \\u2192 apical\")\n",
        "ax2.set_title(\"Input \\u2192 basal\")\n",
        "\n",
        "fig.tight_layout()"
      ],
      "metadata": {
        "id": "8B94Cc4MgsGG",
        "cellView": "form"
      },
      "execution_count": null,
      "outputs": []
    },
    {
      "cell_type": "markdown",
      "source": [
        "> *Notice the electrical segmentation caused by the attenuation of currents traveling along the somatodendritic axis. Although this property may seem undesirable, it allows each compartment to operate semi-autonomously from the others, thus multiple input integration sites can coexist within a single neuron.*"
      ],
      "metadata": {
        "id": "bTbNIcQVmJCT"
      }
    },
    {
      "cell_type": "markdown",
      "source": [
        "## Panels c-d | Dendritic integration\n",
        "> *Here, we will activate simultaneously an increasing number of synapses on the apical dendrite and measure how dendritic integration affects the somatic output. For better performance, we will perform this experiment in a vectorized manner; we will create multiple instances of the same neuron, each of which will be connected to a different number of synapses.*"
      ],
      "metadata": {
        "id": "WeVYUJE4o_8S"
      }
    },
    {
      "cell_type": "code",
      "source": [
        "# create a new Brian NeuronGroup and link it to the existing NeuronModel\n",
        "b.start_scope()    # allows running separate simulations in the same notebook\n",
        "Nsyn = 35    # max number of synapses\n",
        "pyr_group2 = b.NeuronGroup(Nsyn, model=eqs, method='euler',\n",
        "                           threshold='V_soma > -40*mV',\n",
        "                           reset='V_soma = -50*mV',\n",
        "                           refractory=3*ms,\n",
        "                           namespace=params)\n",
        "pyr_group2.V_soma = -70. * mvolt\n",
        "pyr_group2.V_apical = -70. * mvolt\n",
        "pyr_group2.V_basal = -70. * mvolt\n",
        "\n",
        "\n",
        "# create a source of presynaptic input (N \"neurons\" being activated at 50 ms)\n",
        "spiketimes = [(50*ms) for n in range(Nsyn)]\n",
        "I = b.SpikeGeneratorGroup(Nsyn, range(Nsyn), spiketimes)\n",
        "\n",
        "\n",
        "# connect an increasing number of synapses to each neuron instance\n",
        "synaptic_effect = \"s_AMPA_cortex_apical += 1.0; s_NMDA_cortex_apical += 1.0\"\n",
        "S = b.Synapses(I, pyr_group2, on_pre=synaptic_effect)\n",
        "S.connect('j >= i')    # j, i -> postsynaptic, presynaptic indices respectively\n",
        "\n",
        "\n",
        "# Set monitors to record membrane voltages and run simulation\n",
        "M = b.StateMonitor(pyr_group2, [\"V_soma\", \"V_apical\", \"V_basal\"], record=True)\n",
        "b.run(400*ms)\n",
        "\n",
        "vs_control = M.V_soma/mV\n",
        "va_control = M.V_apical/mV\n",
        "vb_control = M.V_basal/mV"
      ],
      "metadata": {
        "id": "UoNTN6_OnuAq"
      },
      "execution_count": null,
      "outputs": []
    },
    {
      "cell_type": "markdown",
      "source": [
        "> *Also, to test the effect of the dendritic NMDA-dependent nonlinearities we will repeat the same exact protocol without activating the NMDA synaptic component (see line 16).*"
      ],
      "metadata": {
        "id": "Uup4-vkCenGX"
      }
    },
    {
      "cell_type": "code",
      "source": [
        "# create a new Brian NeuronGroup and link it to the existing NeuronModel\n",
        "b.start_scope()    # allows running separate simulations in the same notebook\n",
        "Nsyn = 35    # max number of synapses\n",
        "pyr_group3 = b.NeuronGroup(Nsyn, model=eqs, method='euler',\n",
        "                           threshold='V_soma > -40*mV',\n",
        "                           reset='V_soma = -50*mV',\n",
        "                           refractory=3*ms,\n",
        "                           namespace=params)\n",
        "pyr_group3.V_soma = -70. * mvolt\n",
        "pyr_group3.V_apical = -70. * mvolt\n",
        "pyr_group3.V_basal = -70. * mvolt\n",
        "\n",
        "\n",
        "# create a source of presynaptic input (N \"neurons\" being activated at 50 ms)\n",
        "spiketimes = [(50*ms) for n in range(Nsyn)]\n",
        "I = b.SpikeGeneratorGroup(Nsyn, range(Nsyn), spiketimes)\n",
        "\n",
        "\n",
        "# connect an increasing number of synapses to each neuron instance\n",
        "synaptic_effect = \"s_AMPA_cortex_apical += 1.0\"\n",
        "S = b.Synapses(I, pyr_group3, on_pre=synaptic_effect)\n",
        "S.connect('j >= i')    # j, i -> postsynaptic, presynaptic indices respectively\n",
        "\n",
        "\n",
        "# Set monitors to record membrane voltages and run simulation\n",
        "M = b.StateMonitor(pyr_group3, [\"V_soma\", \"V_apical\", \"V_basal\"], record=True)\n",
        "b.run(400*ms)\n",
        "\n",
        "time = M.t/ms\n",
        "vs_ampa = M.V_soma/mV\n",
        "va_ampa = M.V_apical/mV\n",
        "vb_ampa = M.V_basal/mV"
      ],
      "metadata": {
        "id": "XF3iGZcXevT4"
      },
      "execution_count": null,
      "outputs": []
    },
    {
      "cell_type": "code",
      "source": [
        "# @title Plot somatic responses\n",
        "fig, axes = b.subplots(1, 2, figsize=[5, 2.5], sharex=True, sharey=True)\n",
        "ax0, ax1 = axes\n",
        "secret_ax = fig.add_subplot(111, frameon=False)\n",
        "secret_ax.tick_params(labelcolor='none', which='both', bottom=False, left=False)\n",
        "\n",
        "for i in range(Nsyn):\n",
        "    if (i+1)%5 == 0:\n",
        "        ax0.plot(time, vs_control[i], c='crimson')\n",
        "        ax1.plot(time, vs_ampa[i], c='#888a85ff')\n",
        "ax0.set_ylabel('Voltage (mV)')\n",
        "ax0.set_title(\"AMPA & NMDA\")\n",
        "ax1.set_title(\"AMPA only\")\n",
        "secret_ax.set_xlabel('Time (ms)')\n",
        "fig.tight_layout()"
      ],
      "metadata": {
        "id": "QvKQbtXtPhxg",
        "cellView": "form"
      },
      "execution_count": null,
      "outputs": []
    },
    {
      "cell_type": "markdown",
      "source": [
        "> *Notice the huge effect of the dendritic NMDA currents on both the amplitude and the kinetics of the somatic voltage responses. For visual clarity, the data shown here represent a range of 5-35 synapses with step 5.*"
      ],
      "metadata": {
        "id": "watZCXLj9_to"
      }
    },
    {
      "cell_type": "code",
      "source": [
        "# @title Plot input-output function\n",
        "# In this example, due to noise we cannot accurately estimate the uEPSP amplitude.\n",
        "# So we infer it by deviding a compound EPSP from 5 synapses by 5. We can do this\n",
        "# because up until 5 synapses the IO relationship is very close to linear.\n",
        "peaks_control = [max(v)+70 for v in vs_control]\n",
        "unitary_control = peaks_control[4]/5\n",
        "expected_control = b.linspace(1, 35, 35) * unitary_control\n",
        "\n",
        "peaks_ampa = [max(v)+70 for v in vs_ampa]\n",
        "unitary_ampa = peaks_ampa[4]/5\n",
        "expected_ampa = b.linspace(1, 35, 35) * unitary_ampa\n",
        "\n",
        "fig, ax = b.subplots(figsize=[3, 3])\n",
        "ax.plot(expected_control, peaks_control, c='crimson', label='AMPA & NMDA')\n",
        "ax.plot(expected_ampa, peaks_ampa, c='#888a85ff', label='AMPA only' )\n",
        "ax.plot(range(20), range(20), c='black', ls=':', label='linear')\n",
        "ax.legend()\n",
        "ax.set_xlabel('Expected EPSP (mV)')\n",
        "ax.set_ylabel('Measured EPSP (mV)')\n",
        "fig.tight_layout()"
      ],
      "metadata": {
        "id": "PPek7qx8dVvW",
        "cellView": "form"
      },
      "execution_count": null,
      "outputs": []
    },
    {
      "cell_type": "markdown",
      "source": [
        "> *Notice the shift from supralinear to sublinear integration when NMDARs are blocked. This happens because synaptic currents are susceptible to the decrease in driving force as dendritic voltage approaches the AMPA reversal potential (EAMPA = 0 mV).*"
      ],
      "metadata": {
        "id": "iZ6RDsnPOu9b"
      }
    }
  ]
}